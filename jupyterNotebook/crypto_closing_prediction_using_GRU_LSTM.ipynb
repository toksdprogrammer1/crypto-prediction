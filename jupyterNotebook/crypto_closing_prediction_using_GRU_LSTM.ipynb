{
 "cells": [
  {
   "cell_type": "code",
   "execution_count": null,
   "outputs": [],
   "source": [
    "# Import the necessaries libraries\n",
    "import plotly.offline as pyo\n",
    "import plotly.graph_objs as go\n",
    "# Set notebook mode to work in offline\n",
    "pyo.init_notebook_mode()\n",
    "\n",
    "#import plotly.graph_objects as go\n",
    "#import chart_studio.plotly as py\n",
    "\n",
    "import numpy as np\n",
    "import pandas as pd\n",
    "\n",
    "from binance.client import Client\n",
    "import datetime as dt\n",
    "\n",
    "from sklearn.preprocessing import MinMaxScaler\n",
    "from keras.models import Sequential\n",
    "from keras.layers import Dense, GRU, LSTM\n",
    "from keras.metrics import MeanSquaredError\n",
    "from keras.layers import Dropout\n",
    "from plotly.subplots import make_subplots\n",
    "from datetime import datetime, timedelta\n",
    "\n",
    "import matplotlib.pyplot as plt"
   ],
   "metadata": {
    "collapsed": false,
    "pycharm": {
     "name": "#%%\n"
    }
   }
  },
  {
   "cell_type": "code",
   "execution_count": null,
   "outputs": [],
   "source": [
    "# Binance API Key\n",
    "api_key = 'xxxxxxxxxxxxxxx'\n",
    "api_secret = 'xxxxxxxxxxxxxxxx'\n",
    "#Historical data interval -  Daily\n",
    "interval = '1d' # This can be adjusted to minutes, seconds or tick\n",
    "data_dir = \"./data/\""
   ],
   "metadata": {
    "collapsed": false,
    "pycharm": {
     "name": "#%%\n"
    }
   }
  },
  {
   "cell_type": "code",
   "execution_count": null,
   "outputs": [],
   "source": [
    "# Below method is the code to generate the input data to the model and the output data\n",
    "\n",
    "# all_data - data retrieved from the exchange (Binance)\n",
    "# time_steps - number of look back, eg 10 days closing price look back\n",
    "# for_preiods - output of the model, eg 1 day cloing price\n",
    "\n",
    "def ts_train_test_normalize(all_data, time_steps, for_periods):\n",
    "    '''\n",
    "    input:\n",
    "      data: dataframe with dates and price data\n",
    "      time_steps - number of look back, eg 10 days closing price look back\n",
    "      for_preiods - output of the model, eg 1 day cloing price\n",
    "    output:\n",
    "      X_train, y_train: data from 2018/1/1-2021/12/31\n",
    "      X_test:  data from 2022 -\n",
    "      sc:      insantiated MinMaxScaler object fit to the training data\n",
    "    '''\n",
    "    # create training and test set\n",
    "    ts_train = all_data[:'2021'].iloc[:, 4:5].values\n",
    "    ts_test = all_data['2022':].iloc[:, 4:5].values\n",
    "    ts_train_len = len(ts_train)\n",
    "    ts_test_len = len(ts_test)\n",
    "\n",
    "    # scale the data\n",
    "\n",
    "    sc = MinMaxScaler(feature_range=(0, 1))\n",
    "    ts_train_scaled = sc.fit_transform(ts_train)\n",
    "\n",
    "    # create training data of s samples and t time steps\n",
    "    X_train = []\n",
    "    y_train = []\n",
    "    y_train_stacked = []\n",
    "    for i in range(time_steps, ts_train_len - 1):\n",
    "        X_train.append(ts_train_scaled[i - time_steps:i, 0])\n",
    "        y_train.append(ts_train_scaled[i:i + for_periods, 0])\n",
    "    X_train, y_train = np.array(X_train), np.array(y_train)\n",
    "\n",
    "    # Reshaping X_train for efficient modelling\n",
    "    X_train = np.reshape(X_train, (X_train.shape[0], X_train.shape[1], 1))\n",
    "\n",
    "    inputs = pd.concat((all_data[\"close\"][:'2021'], all_data[\"close\"]['2022':]), axis=0).values\n",
    "    inputs = inputs[len(inputs) - len(ts_test) - time_steps:]\n",
    "    inputs = inputs.reshape(-1, 1)\n",
    "    #print(inputs)\n",
    "    inputs = sc.transform(inputs)\n",
    "\n",
    "    # Preparing X_test\n",
    "    X_test = []\n",
    "    for i in range(time_steps, ts_test_len + time_steps - for_periods):\n",
    "        X_test.append(inputs[i - time_steps:i, 0])\n",
    "\n",
    "\n",
    "    X_test = np.array(X_test)\n",
    "    X_test = np.reshape(X_test, (X_test.shape[0], X_test.shape[1], 1))\n",
    "\n",
    "    return X_train, y_train, X_test, sc"
   ],
   "metadata": {
    "collapsed": false,
    "pycharm": {
     "name": "#%%\n"
    }
   }
  },
  {
   "cell_type": "code",
   "execution_count": 5,
   "id": "86e6e633-e31b-49b1-84f0-84641fe94b60",
   "metadata": {
    "pycharm": {
     "name": "#%%\n"
    }
   },
   "outputs": [],
   "source": [
    "def GRU_model(X_train, y_train, X_test, sc):\n",
    "    '''\n",
    "    create GRU model trained on X_train and y_train\n",
    "    and make predictions on the X_test data\n",
    "    '''\n",
    "    # create a model\n",
    "\n",
    "\n",
    "    # The GRU architecture\n",
    "    my_GRU_model = Sequential()\n",
    "    # First GRU layer with Dropout regularisation\n",
    "    my_GRU_model.add(GRU(units=50, return_sequences=True, input_shape=(X_train.shape[1], 1), activation='tanh'))\n",
    "    my_GRU_model.add(Dropout(0.2))\n",
    "    # Second GRU layer\n",
    "    my_GRU_model.add(GRU(units=50, return_sequences=True, activation='tanh'))\n",
    "    my_GRU_model.add(Dropout(0.2))\n",
    "\n",
    "    # Third GRU layer\n",
    "    my_GRU_model.add(GRU(units=50, return_sequences=True, activation='tanh'))\n",
    "    my_GRU_model.add(Dropout(0.2))\n",
    "    # Fourth GRU layer\n",
    "    my_GRU_model.add(GRU(units=50, activation='tanh'))\n",
    "    my_GRU_model.add(Dropout(0.2))\n",
    "    # The output layer\n",
    "    my_GRU_model.add(Dense(units=1))\n",
    "    # Compiling the RNN\n",
    "    my_GRU_model.compile(loss=\"mean_squared_error\",optimizer=\"adam\")\n",
    "    # Fitting to the training set\n",
    "    my_GRU_model.fit(X_train, y_train, epochs=50, batch_size=150, verbose=0)\n",
    "\n",
    "\n",
    "    GRU_predictions = my_GRU_model.predict(X_test)\n",
    "    GRU_predictions = sc.inverse_transform(GRU_predictions)\n",
    "\n",
    "    return my_GRU_model, GRU_predictions"
   ]
  },
  {
   "cell_type": "code",
   "execution_count": 48,
   "id": "ad355e75-1e63-491a-a8e5-8092d78558b3",
   "metadata": {
    "pycharm": {
     "name": "#%%\n"
    }
   },
   "outputs": [],
   "source": [
    "def LSTM_model(X_train, y_train, X_test, sc):\n",
    "    # create a model\n",
    "\n",
    "    #SGD = gradient_descent_v2.SGD(...)\n",
    "    # The LSTM architecture\n",
    "    my_LSTM_model = Sequential()\n",
    "    my_LSTM_model.add(LSTM(units=50, return_sequences=True, input_shape=(X_train.shape[1],1), activation='tanh'))\n",
    "    #my_LSTM_model.add(LSTM(units=50, return_sequences=True, input_shape=(X_train.shape[1],1), activation='tanh'))\n",
    "    #my_LSTM_model.add(LSTM(units=50, return_sequences=True, input_shape=(X_train.shape[1],1), activation='tanh'))\n",
    "    my_LSTM_model.add(LSTM(units=50, activation='tanh'))\n",
    "    my_LSTM_model.add(Dropout(0.2))\n",
    "    my_LSTM_model.add(Dense(units=1))\n",
    "\n",
    "    # Compiling\n",
    "    my_LSTM_model.compile(loss=\"mean_squared_error\",optimizer=\"adam\")\n",
    "    # Fitting to the training set\n",
    "    my_LSTM_model.fit(X_train,y_train,epochs=50,batch_size=150, verbose=0)\n",
    "\n",
    "    LSTM_prediction = my_LSTM_model.predict(X_test)\n",
    "    LSTM_prediction = sc.inverse_transform(LSTM_prediction)\n",
    "\n",
    "    return my_LSTM_model, LSTM_prediction"
   ]
  },
  {
   "cell_type": "code",
   "execution_count": 6,
   "id": "a0eb4ecb-84b0-46a8-9189-4612bc8a981c",
   "metadata": {
    "pycharm": {
     "name": "#%%\n"
    }
   },
   "outputs": [],
   "source": [
    "def predict_future_days(all_data, time_steps,  pred_days, model, sc):\n",
    "\n",
    "    test_data = all_data['2022':].iloc[:, 4:5].values\n",
    "    x_input = test_data[len(test_data) - time_steps:].reshape(1, -1)\n",
    "    print(\"Before transformation Input data for prediction\")\n",
    "    print(x_input)\n",
    "    input = x_input.reshape(-1, 1)\n",
    "    input = sc.transform(input)\n",
    "    print(\"Input data for prediction\")\n",
    "    print(input)\n",
    "    # Preparing X_test\n",
    "    X_test = []\n",
    "    for i in range(0, len(input)):\n",
    "        X_test.append(input[i, 0])\n",
    "    print(X_test)\n",
    "\n",
    "    temp_input = X_test\n",
    "    print(\"input {} \".format(temp_input))\n",
    "    x_input = input\n",
    "    #\n",
    "    lst_output = []\n",
    "    n_steps = time_steps\n",
    "    i = 0\n",
    "    #pred_days = 30\n",
    "    while (i < pred_days):\n",
    "\n",
    "        if (len(temp_input) > time_steps):\n",
    "\n",
    "            x_input = np.array(temp_input[1:])\n",
    "            print(\"{} day input {}\".format(i,x_input))\n",
    "            x_input = x_input.reshape(1, -1)\n",
    "            #x_input = sc.transform(x_input)\n",
    "            x_input = x_input.reshape((1, n_steps, 1))\n",
    "\n",
    "            yhat = model.predict(x_input, verbose=0)\n",
    "            print(\"{} day output {}\".format(i,yhat))\n",
    "            temp_input.extend(yhat[0].tolist())\n",
    "            temp_input = temp_input[1:]\n",
    "            print(temp_input)\n",
    "\n",
    "            lst_output.extend(yhat.tolist())\n",
    "            i = i + 1\n",
    "\n",
    "        else:\n",
    "\n",
    "            x_input = x_input.reshape((1, n_steps, 1))\n",
    "            print(\"{} day input {}\".format(i, x_input))\n",
    "            yhat = model.predict(x_input, verbose=0)\n",
    "            print(\"{} day output {}\".format(i, yhat))\n",
    "            temp_input.extend(yhat[0].tolist())\n",
    "\n",
    "            lst_output.extend(yhat.tolist())\n",
    "            i = i + 1\n",
    "    temp_mat = np.empty(pred_days + 1)\n",
    "    temp_mat[:] = np.nan\n",
    "    temp_mat = temp_mat.reshape(1, -1).tolist()[0]\n",
    "    next_predicted_days_value = temp_mat\n",
    "    next_predicted_days_value = sc.inverse_transform(np.array(lst_output).reshape(-1, 1)).reshape(1, -1).tolist()[0]\n",
    "    print(next_predicted_days_value)\n",
    "    print(all_data[\"close_time\"].iloc[-1])\n",
    "    last_date = all_data[\"close_time\"].iloc[-1]\n",
    "    dt_object = datetime.fromtimestamp(last_date/1000)\n",
    "    print(dt_object)\n",
    "    days = pd.date_range(dt_object - timedelta(1), dt_object + timedelta(pred_days - 2), freq='D')\n",
    "    print(days)\n",
    "    future_preds = pd.DataFrame({\n",
    "         'close': next_predicted_days_value\n",
    "     }, index=days)\n",
    "    print(future_preds)\n",
    "\n",
    "    return future_preds"
   ]
  },
  {
   "cell_type": "code",
   "execution_count": 7,
   "id": "61324fdc-9052-404c-ae5d-6771679f9985",
   "metadata": {
    "pycharm": {
     "name": "#%%\n"
    }
   },
   "outputs": [],
   "source": [
    "# Get historical prices data from Binance\n",
    "def load_and_clean_data_from_api(api_key, api_secret, interval, symbol, data_dir):\n",
    "\n",
    "    client = Client(api_key, api_secret)\n",
    "\n",
    "    Client.KLINE_INTERVAL_1DAY\n",
    "    klines = client.get_historical_klines(symbol, interval, \"1 Jan,2018\")\n",
    "    all_data = pd.DataFrame(klines)\n",
    "    # create colums name\n",
    "    all_data.columns = ['open_time', 'open', 'high', 'low', 'close', 'volume', 'close_time', 'qav', 'num_trades',\n",
    "                    'taker_base_vol', 'taker_quote_vol', 'ignore']\n",
    "\n",
    "    all_data.to_csv(data_dir + symbol + '.csv', index=None, header=True)\n",
    "\n",
    "    return all_data"
   ]
  },
  {
   "cell_type": "code",
   "execution_count": 8,
   "id": "04c30dda-9a7b-4831-91e1-27529f88b7a3",
   "metadata": {
    "pycharm": {
     "name": "#%%\n"
    }
   },
   "outputs": [
    {
     "data": {
      "text/plain": [
       "<bound method NDFrame.head of           open_time           open           high            low  \\\n",
       "0     1514764800000   733.01000000   763.55000000   716.80000000   \n",
       "1     1514851200000   754.99000000   899.50000000   749.06000000   \n",
       "2     1514937600000   855.13000000   950.01000000   810.00000000   \n",
       "3     1515024000000   934.03000000  1009.72000000   890.01000000   \n",
       "4     1515110400000   940.00000000  1045.00000000   930.00000000   \n",
       "...             ...            ...            ...            ...   \n",
       "1678  1659744000000  1736.81000000  1749.93000000  1685.26000000   \n",
       "1679  1659830400000  1690.60000000  1729.79000000  1668.00000000   \n",
       "1680  1659916800000  1700.20000000  1818.00000000  1693.87000000   \n",
       "1681  1660003200000  1777.05000000  1790.83000000  1667.93000000   \n",
       "1682  1660089600000  1702.76000000  1848.00000000  1656.78000000   \n",
       "\n",
       "              close           volume     close_time                  qav  \\\n",
       "0      754.99000000   53909.25885000  1514851199999    40049370.59492610   \n",
       "1      855.28000000  113257.78355000  1514937599999    95749946.06046560   \n",
       "2      934.03000000   89041.45688000  1515023999999    78173093.71219920   \n",
       "3      940.00000000  102894.47384000  1515110399999    97740086.59030570   \n",
       "4      959.30000000   97374.01630000  1515196799999    95739901.47601940   \n",
       "...             ...              ...            ...                  ...   \n",
       "1678  1690.60000000  523314.64440000  1659830399999   899479880.98720900   \n",
       "1679  1700.19000000  439904.76400000  1659916799999   745750151.38208700   \n",
       "1680  1777.05000000  781620.54430000  1660003199999  1379905145.70302100   \n",
       "1681  1702.76000000  818171.10190000  1660089599999  1406671817.08567300   \n",
       "1682  1826.73000000  797749.61050000  1660175999999  1390919987.01300300   \n",
       "\n",
       "      num_trades   taker_base_vol     taker_quote_vol ignore  \n",
       "0          75314   27993.21701000   20800946.82317060      0  \n",
       "1         142511   59298.38305000   50193115.72717760      0  \n",
       "2         118866   46899.16696000   41196862.55158440      0  \n",
       "3         132633   56497.66029000   53871687.77288470      0  \n",
       "4         124438   46202.53716000   45538935.01379350      0  \n",
       "...          ...              ...                 ...    ...  \n",
       "1678      752873  273243.84840000  469642311.61818300      0  \n",
       "1679      692491  226220.14160000  383519031.53658200      0  \n",
       "1680      987727  403146.57800000  711839570.83093400      0  \n",
       "1681     1062267  398475.05390000  684898876.00059700      0  \n",
       "1682      965009  402867.54300000  703825298.30493100      0  \n",
       "\n",
       "[1683 rows x 12 columns]>"
      ]
     },
     "execution_count": 8,
     "metadata": {},
     "output_type": "execute_result"
    }
   ],
   "source": [
    "symbol = \"ETHUSDT\" # BTCUSDT, ETHUSDT etc\n",
    "all_data = load_and_clean_data_from_api(api_key,api_secret,interval,symbol,data_dir)\n",
    "all_data.head"
   ]
  },
  {
   "cell_type": "code",
   "execution_count": 9,
   "id": "970134dd-e86e-4748-9ef6-6b1a68515a83",
   "metadata": {
    "pycharm": {
     "name": "#%%\n"
    }
   },
   "outputs": [
    {
     "data": {
      "text/plain": [
       "<bound method NDFrame.head of                              open_time           open           high  \\\n",
       "2017-12-31 00:59:59.999  1514764800000   733.01000000   763.55000000   \n",
       "2018-01-01 00:59:59.999  1514851200000   754.99000000   899.50000000   \n",
       "2018-01-02 00:59:59.999  1514937600000   855.13000000   950.01000000   \n",
       "2018-01-03 00:59:59.999  1515024000000   934.03000000  1009.72000000   \n",
       "2018-01-04 00:59:59.999  1515110400000   940.00000000  1045.00000000   \n",
       "...                                ...            ...            ...   \n",
       "2022-08-05 01:59:59.999  1659744000000  1736.81000000  1749.93000000   \n",
       "2022-08-06 01:59:59.999  1659830400000  1690.60000000  1729.79000000   \n",
       "2022-08-07 01:59:59.999  1659916800000  1700.20000000  1818.00000000   \n",
       "2022-08-08 01:59:59.999  1660003200000  1777.05000000  1790.83000000   \n",
       "2022-08-09 01:59:59.999  1660089600000  1702.76000000  1848.00000000   \n",
       "\n",
       "                                   low          close           volume  \\\n",
       "2017-12-31 00:59:59.999   716.80000000   754.99000000   53909.25885000   \n",
       "2018-01-01 00:59:59.999   749.06000000   855.28000000  113257.78355000   \n",
       "2018-01-02 00:59:59.999   810.00000000   934.03000000   89041.45688000   \n",
       "2018-01-03 00:59:59.999   890.01000000   940.00000000  102894.47384000   \n",
       "2018-01-04 00:59:59.999   930.00000000   959.30000000   97374.01630000   \n",
       "...                                ...            ...              ...   \n",
       "2022-08-05 01:59:59.999  1685.26000000  1690.60000000  523314.64440000   \n",
       "2022-08-06 01:59:59.999  1668.00000000  1700.19000000  439904.76400000   \n",
       "2022-08-07 01:59:59.999  1693.87000000  1777.05000000  781620.54430000   \n",
       "2022-08-08 01:59:59.999  1667.93000000  1702.76000000  818171.10190000   \n",
       "2022-08-09 01:59:59.999  1656.78000000  1826.73000000  797749.61050000   \n",
       "\n",
       "                            close_time                  qav  num_trades  \\\n",
       "2017-12-31 00:59:59.999  1514851199999    40049370.59492610       75314   \n",
       "2018-01-01 00:59:59.999  1514937599999    95749946.06046560      142511   \n",
       "2018-01-02 00:59:59.999  1515023999999    78173093.71219920      118866   \n",
       "2018-01-03 00:59:59.999  1515110399999    97740086.59030570      132633   \n",
       "2018-01-04 00:59:59.999  1515196799999    95739901.47601940      124438   \n",
       "...                                ...                  ...         ...   \n",
       "2022-08-05 01:59:59.999  1659830399999   899479880.98720900      752873   \n",
       "2022-08-06 01:59:59.999  1659916799999   745750151.38208700      692491   \n",
       "2022-08-07 01:59:59.999  1660003199999  1379905145.70302100      987727   \n",
       "2022-08-08 01:59:59.999  1660089599999  1406671817.08567300     1062267   \n",
       "2022-08-09 01:59:59.999  1660175999999  1390919987.01300300      965009   \n",
       "\n",
       "                          taker_base_vol     taker_quote_vol ignore  \n",
       "2017-12-31 00:59:59.999   27993.21701000   20800946.82317060      0  \n",
       "2018-01-01 00:59:59.999   59298.38305000   50193115.72717760      0  \n",
       "2018-01-02 00:59:59.999   46899.16696000   41196862.55158440      0  \n",
       "2018-01-03 00:59:59.999   56497.66029000   53871687.77288470      0  \n",
       "2018-01-04 00:59:59.999   46202.53716000   45538935.01379350      0  \n",
       "...                                  ...                 ...    ...  \n",
       "2022-08-05 01:59:59.999  273243.84840000  469642311.61818300      0  \n",
       "2022-08-06 01:59:59.999  226220.14160000  383519031.53658200      0  \n",
       "2022-08-07 01:59:59.999  403146.57800000  711839570.83093400      0  \n",
       "2022-08-08 01:59:59.999  398475.05390000  684898876.00059700      0  \n",
       "2022-08-09 01:59:59.999  402867.54300000  703825298.30493100      0  \n",
       "\n",
       "[1683 rows x 12 columns]>"
      ]
     },
     "execution_count": 9,
     "metadata": {},
     "output_type": "execute_result"
    }
   ],
   "source": [
    "# conver the timestamp to date\n",
    "all_data.index = [(dt.datetime.fromtimestamp(x / 1000.0) - timedelta(2)) for x in all_data.close_time]\n",
    "all_data.head"
   ]
  },
  {
   "cell_type": "code",
   "execution_count": 23,
   "id": "a4dcd984-fce0-4828-8778-2f86ee9c07f1",
   "metadata": {
    "pycharm": {
     "name": "#%%\n"
    }
   },
   "outputs": [
    {
     "data": {
      "text/plain": [
       "[<matplotlib.lines.Line2D at 0x7f7de62911c0>]"
      ]
     },
     "execution_count": 23,
     "metadata": {},
     "output_type": "execute_result"
    },
    {
     "data": {
      "image/png": "[encoded data removed]",
      "text/plain": [
       "<Figure size 432x288 with 1 Axes>"
      ]
     },
     "metadata": {
      "needs_background": "light"
     },
     "output_type": "display_data"
    }
   ],
   "source": [
    "# convert data to float and plot\n",
    "all_data = all_data.astype(float)\n",
    "plt.plot(all_data['close'])"
   ]
  },
  {
   "cell_type": "code",
   "execution_count": 11,
   "id": "7c7b5ae8-e925-41f0-80f6-efa6b9a9aa80",
   "metadata": {
    "pycharm": {
     "name": "#%%\n"
    }
   },
   "outputs": [
    {
     "name": "stdout",
     "output_type": "stream",
     "text": [
      "There are 1462 observations in the training data\n",
      "There are 221 observations in the test data\n"
     ]
    }
   ],
   "source": [
    " print(\"There are \" + str(all_data[:'2021'].shape[0]) + \" observations in the training data\")\n",
    "print(\"There are \" + str(all_data['2022':].shape[0]) + \" observations in the test data\")"
   ]
  },
  {
   "cell_type": "code",
   "execution_count": 12,
   "id": "14e69749-2065-43d9-9d51-443cdac7637b",
   "metadata": {
    "pycharm": {
     "name": "#%%\n"
    }
   },
   "outputs": [
    {
     "data": {
      "text/plain": [
       "(1451, 10)"
      ]
     },
     "execution_count": 12,
     "metadata": {},
     "output_type": "execute_result"
    }
   ],
   "source": [
    "X_train, y_train, X_test, sc = ts_train_test_normalize(all_data, 10, 1)\n",
    "X_train.shape[0], X_train.shape[1]"
   ]
  },
  {
   "cell_type": "code",
   "execution_count": 13,
   "id": "61e92481-bcb3-444f-9da5-e3af50bd0d07",
   "metadata": {
    "pycharm": {
     "name": "#%%\n"
    }
   },
   "outputs": [
    {
     "name": "stdout",
     "output_type": "stream",
     "text": [
      "Train market data\n"
     ]
    },
    {
     "data": {
      "text/html": [
       "<div>\n",
       "<style scoped>\n",
       "    .dataframe tbody tr th:only-of-type {\n",
       "        vertical-align: middle;\n",
       "    }\n",
       "\n",
       "    .dataframe tbody tr th {\n",
       "        vertical-align: top;\n",
       "    }\n",
       "\n",
       "    .dataframe thead th {\n",
       "        text-align: right;\n",
       "    }\n",
       "</style>\n",
       "<table border=\"1\" class=\"dataframe\">\n",
       "  <thead>\n",
       "    <tr style=\"text-align: right;\">\n",
       "      <th></th>\n",
       "      <th>0</th>\n",
       "      <th>1</th>\n",
       "      <th>2</th>\n",
       "      <th>3</th>\n",
       "      <th>4</th>\n",
       "      <th>5</th>\n",
       "      <th>6</th>\n",
       "      <th>7</th>\n",
       "      <th>8</th>\n",
       "      <th>9</th>\n",
       "      <th>0</th>\n",
       "    </tr>\n",
       "  </thead>\n",
       "  <tbody>\n",
       "    <tr>\n",
       "      <th>1446</th>\n",
       "      <td>0.802600</td>\n",
       "      <td>0.820489</td>\n",
       "      <td>0.812913</td>\n",
       "      <td>0.817271</td>\n",
       "      <td>0.831966</td>\n",
       "      <td>0.824633</td>\n",
       "      <td>0.852553</td>\n",
       "      <td>0.838784</td>\n",
       "      <td>0.849044</td>\n",
       "      <td>0.842425</td>\n",
       "      <td>0.836851</td>\n",
       "    </tr>\n",
       "    <tr>\n",
       "      <th>1447</th>\n",
       "      <td>0.820489</td>\n",
       "      <td>0.812913</td>\n",
       "      <td>0.817271</td>\n",
       "      <td>0.831966</td>\n",
       "      <td>0.824633</td>\n",
       "      <td>0.852553</td>\n",
       "      <td>0.838784</td>\n",
       "      <td>0.849044</td>\n",
       "      <td>0.842425</td>\n",
       "      <td>0.836851</td>\n",
       "      <td>0.785101</td>\n",
       "    </tr>\n",
       "    <tr>\n",
       "      <th>1448</th>\n",
       "      <td>0.812913</td>\n",
       "      <td>0.817271</td>\n",
       "      <td>0.831966</td>\n",
       "      <td>0.824633</td>\n",
       "      <td>0.852553</td>\n",
       "      <td>0.838784</td>\n",
       "      <td>0.849044</td>\n",
       "      <td>0.842425</td>\n",
       "      <td>0.836851</td>\n",
       "      <td>0.785101</td>\n",
       "      <td>0.750691</td>\n",
       "    </tr>\n",
       "    <tr>\n",
       "      <th>1449</th>\n",
       "      <td>0.817271</td>\n",
       "      <td>0.831966</td>\n",
       "      <td>0.824633</td>\n",
       "      <td>0.852553</td>\n",
       "      <td>0.838784</td>\n",
       "      <td>0.849044</td>\n",
       "      <td>0.842425</td>\n",
       "      <td>0.836851</td>\n",
       "      <td>0.785101</td>\n",
       "      <td>0.750691</td>\n",
       "      <td>0.767430</td>\n",
       "    </tr>\n",
       "    <tr>\n",
       "      <th>1450</th>\n",
       "      <td>0.831966</td>\n",
       "      <td>0.824633</td>\n",
       "      <td>0.852553</td>\n",
       "      <td>0.838784</td>\n",
       "      <td>0.849044</td>\n",
       "      <td>0.842425</td>\n",
       "      <td>0.836851</td>\n",
       "      <td>0.785101</td>\n",
       "      <td>0.750691</td>\n",
       "      <td>0.767430</td>\n",
       "      <td>0.760437</td>\n",
       "    </tr>\n",
       "  </tbody>\n",
       "</table>\n",
       "</div>"
      ],
      "text/plain": [
       "             0         1         2         3         4         5         6  \\\n",
       "1446  0.802600  0.820489  0.812913  0.817271  0.831966  0.824633  0.852553   \n",
       "1447  0.820489  0.812913  0.817271  0.831966  0.824633  0.852553  0.838784   \n",
       "1448  0.812913  0.817271  0.831966  0.824633  0.852553  0.838784  0.849044   \n",
       "1449  0.817271  0.831966  0.824633  0.852553  0.838784  0.849044  0.842425   \n",
       "1450  0.831966  0.824633  0.852553  0.838784  0.849044  0.842425  0.836851   \n",
       "\n",
       "             7         8         9         0  \n",
       "1446  0.838784  0.849044  0.842425  0.836851  \n",
       "1447  0.849044  0.842425  0.836851  0.785101  \n",
       "1448  0.842425  0.836851  0.785101  0.750691  \n",
       "1449  0.836851  0.785101  0.750691  0.767430  \n",
       "1450  0.785101  0.750691  0.767430  0.760437  "
      ]
     },
     "execution_count": 13,
     "metadata": {},
     "output_type": "execute_result"
    }
   ],
   "source": [
    "# Convert the 3-D shape of X_train to a data frame so we can see:\n",
    "X_train_see = pd.DataFrame(np.reshape(X_train, (X_train.shape[0], X_train.shape[1])))\n",
    "y_train_see = pd.DataFrame(y_train)\n",
    "train_market_date = pd.concat([X_train_see, y_train_see], axis=1)\n",
    "print(\"Train market data\")\n",
    "train_market_date.tail()"
   ]
  },
  {
   "cell_type": "code",
   "execution_count": 14,
   "id": "035a84d0-99e8-4b7b-bbcf-1aa462fc7b6d",
   "metadata": {
    "pycharm": {
     "name": "#%%\n"
    }
   },
   "outputs": [
    {
     "name": "stdout",
     "output_type": "stream",
     "text": [
      "Test market data\n"
     ]
    },
    {
     "data": {
      "text/html": [
       "<div>\n",
       "<style scoped>\n",
       "    .dataframe tbody tr th:only-of-type {\n",
       "        vertical-align: middle;\n",
       "    }\n",
       "\n",
       "    .dataframe tbody tr th {\n",
       "        vertical-align: top;\n",
       "    }\n",
       "\n",
       "    .dataframe thead th {\n",
       "        text-align: right;\n",
       "    }\n",
       "</style>\n",
       "<table border=\"1\" class=\"dataframe\">\n",
       "  <thead>\n",
       "    <tr style=\"text-align: right;\">\n",
       "      <th></th>\n",
       "      <th>0</th>\n",
       "      <th>1</th>\n",
       "      <th>2</th>\n",
       "      <th>3</th>\n",
       "      <th>4</th>\n",
       "      <th>5</th>\n",
       "      <th>6</th>\n",
       "      <th>7</th>\n",
       "      <th>8</th>\n",
       "      <th>9</th>\n",
       "    </tr>\n",
       "  </thead>\n",
       "  <tbody>\n",
       "    <tr>\n",
       "      <th>215</th>\n",
       "      <td>0.289013</td>\n",
       "      <td>0.328516</td>\n",
       "      <td>0.347308</td>\n",
       "      <td>0.346707</td>\n",
       "      <td>0.341483</td>\n",
       "      <td>0.337486</td>\n",
       "      <td>0.327360</td>\n",
       "      <td>0.327493</td>\n",
       "      <td>0.324794</td>\n",
       "      <td>0.322635</td>\n",
       "    </tr>\n",
       "    <tr>\n",
       "      <th>216</th>\n",
       "      <td>0.328516</td>\n",
       "      <td>0.347308</td>\n",
       "      <td>0.346707</td>\n",
       "      <td>0.341483</td>\n",
       "      <td>0.337486</td>\n",
       "      <td>0.327360</td>\n",
       "      <td>0.327493</td>\n",
       "      <td>0.324794</td>\n",
       "      <td>0.322635</td>\n",
       "      <td>0.349910</td>\n",
       "    </tr>\n",
       "    <tr>\n",
       "      <th>217</th>\n",
       "      <td>0.347308</td>\n",
       "      <td>0.346707</td>\n",
       "      <td>0.341483</td>\n",
       "      <td>0.337486</td>\n",
       "      <td>0.327360</td>\n",
       "      <td>0.327493</td>\n",
       "      <td>0.324794</td>\n",
       "      <td>0.322635</td>\n",
       "      <td>0.349910</td>\n",
       "      <td>0.340128</td>\n",
       "    </tr>\n",
       "    <tr>\n",
       "      <th>218</th>\n",
       "      <td>0.346707</td>\n",
       "      <td>0.341483</td>\n",
       "      <td>0.337486</td>\n",
       "      <td>0.327360</td>\n",
       "      <td>0.327493</td>\n",
       "      <td>0.324794</td>\n",
       "      <td>0.322635</td>\n",
       "      <td>0.349910</td>\n",
       "      <td>0.340128</td>\n",
       "      <td>0.342158</td>\n",
       "    </tr>\n",
       "    <tr>\n",
       "      <th>219</th>\n",
       "      <td>0.341483</td>\n",
       "      <td>0.337486</td>\n",
       "      <td>0.327360</td>\n",
       "      <td>0.327493</td>\n",
       "      <td>0.324794</td>\n",
       "      <td>0.322635</td>\n",
       "      <td>0.349910</td>\n",
       "      <td>0.340128</td>\n",
       "      <td>0.342158</td>\n",
       "      <td>0.358427</td>\n",
       "    </tr>\n",
       "  </tbody>\n",
       "</table>\n",
       "</div>"
      ],
      "text/plain": [
       "            0         1         2         3         4         5         6  \\\n",
       "215  0.289013  0.328516  0.347308  0.346707  0.341483  0.337486  0.327360   \n",
       "216  0.328516  0.347308  0.346707  0.341483  0.337486  0.327360  0.327493   \n",
       "217  0.347308  0.346707  0.341483  0.337486  0.327360  0.327493  0.324794   \n",
       "218  0.346707  0.341483  0.337486  0.327360  0.327493  0.324794  0.322635   \n",
       "219  0.341483  0.337486  0.327360  0.327493  0.324794  0.322635  0.349910   \n",
       "\n",
       "            7         8         9  \n",
       "215  0.327493  0.324794  0.322635  \n",
       "216  0.324794  0.322635  0.349910  \n",
       "217  0.322635  0.349910  0.340128  \n",
       "218  0.349910  0.340128  0.342158  \n",
       "219  0.340128  0.342158  0.358427  "
      ]
     },
     "execution_count": 14,
     "metadata": {},
     "output_type": "execute_result"
    }
   ],
   "source": [
    "# Convert the 3-D shape of X_test to a data frame so we can see:\n",
    "X_test_see = pd.DataFrame(np.reshape(X_test, (X_test.shape[0], X_test.shape[1])))\n",
    "test_market_date = pd.DataFrame(X_test_see)\n",
    "print(\"Test market data\")\n",
    "test_market_date.tail()"
   ]
  },
  {
   "cell_type": "code",
   "execution_count": 15,
   "id": "847f1a6a-3887-4ebf-932b-30a6e43e476c",
   "metadata": {
    "pycharm": {
     "name": "#%%\n"
    }
   },
   "outputs": [
    {
     "name": "stdout",
     "output_type": "stream",
     "text": [
      "There are 1451 samples in the training data\n",
      "There are 220 samples in the test data\n"
     ]
    }
   ],
   "source": [
    "print(\"There are \" + str(X_train.shape[0]) + \" samples in the training data\")\n",
    "print(\"There are \" + str(X_test.shape[0]) + \" samples in the test data\")"
   ]
  },
  {
   "cell_type": "code",
   "execution_count": 18,
   "id": "8cd3e75f-2bc5-4eea-af4f-373500186c72",
   "metadata": {
    "pycharm": {
     "name": "#%%\n"
    }
   },
   "outputs": [
    {
     "name": "stdout",
     "output_type": "stream",
     "text": [
      "7/7 [==============================] - 4s 13ms/step\n"
     ]
    },
    {
     "data": {
      "text/plain": [
       "220"
      ]
     },
     "execution_count": 18,
     "metadata": {},
     "output_type": "execute_result"
    }
   ],
   "source": [
    "# GRU Predictiion\n",
    "my_GRU_model, GRU_predictions = GRU_model(X_train, y_train, X_test, sc)\n",
    "len(GRU_predictions)"
   ]
  },
  {
   "cell_type": "code",
   "execution_count": 17,
   "id": "bc2c97f4-6b6c-4b61-8822-8936a994a145",
   "metadata": {
    "pycharm": {
     "name": "#%%\n"
    }
   },
   "outputs": [
    {
     "data": {
      "text/plain": [
       "array([[3816.6287],\n",
       "       [3809.1526],\n",
       "       [3811.9026],\n",
       "       [3816.88  ],\n",
       "       [3793.888 ],\n",
       "       [3736.1938],\n",
       "       [3643.4885],\n",
       "       [3528.4624],\n",
       "       [3424.0452],\n",
       "       [3338.7874],\n",
       "       [3291.61  ],\n",
       "       [3291.0344],\n",
       "       [3304.1194],\n",
       "       [3321.4734],\n",
       "       [3341.4485],\n",
       "       [3362.068 ],\n",
       "       [3365.727 ],\n",
       "       [3349.2595],\n",
       "       [3314.1606],\n",
       "       [3264.8577],\n",
       "       [3165.3064],\n",
       "       [3021.8918],\n",
       "       [2885.713 ],\n",
       "       [2770.2202],\n",
       "       [2683.6228],\n",
       "       [2625.3335],\n",
       "       [2585.9685],\n",
       "       [2571.5837],\n",
       "       [2581.9756],\n",
       "       [2605.4792],\n",
       "       [2641.7227],\n",
       "       [2691.3337],\n",
       "       [2731.4888],\n",
       "       [2758.4446],\n",
       "       [2806.2961],\n",
       "       [2872.8745],\n",
       "       [2945.622 ],\n",
       "       [3019.0886],\n",
       "       [3081.6616],\n",
       "       [3142.2744],\n",
       "       [3178.0598],\n",
       "       [3173.5288],\n",
       "       [3143.433 ],\n",
       "       [3100.3508],\n",
       "       [3062.6235],\n",
       "       [3066.0647],\n",
       "       [3094.0803],\n",
       "       [3101.6233],\n",
       "       [3073.7434],\n",
       "       [3023.6536],\n",
       "       [2956.4675],\n",
       "       [2881.0977],\n",
       "       [2818.3103],\n",
       "       [2769.4983],\n",
       "       [2734.8896],\n",
       "       [2730.218 ],\n",
       "       [2750.5583],\n",
       "       [2763.6624],\n",
       "       [2794.9705],\n",
       "       [2847.827 ],\n",
       "       [2904.655 ],\n",
       "       [2939.6545],\n",
       "       [2928.7068],\n",
       "       [2892.3655],\n",
       "       [2838.811 ],\n",
       "       [2775.3066],\n",
       "       [2724.4167],\n",
       "       [2709.1326],\n",
       "       [2706.735 ],\n",
       "       [2701.2202],\n",
       "       [2691.8528],\n",
       "       [2676.2646],\n",
       "       [2666.3826],\n",
       "       [2666.295 ],\n",
       "       [2690.7148],\n",
       "       [2734.4187],\n",
       "       [2795.947 ],\n",
       "       [2861.9707],\n",
       "       [2911.003 ],\n",
       "       [2942.0352],\n",
       "       [2968.5564],\n",
       "       [3000.8872],\n",
       "       [3042.7175],\n",
       "       [3085.3496],\n",
       "       [3125.19  ],\n",
       "       [3175.7046],\n",
       "       [3233.488 ],\n",
       "       [3295.4673],\n",
       "       [3350.57  ],\n",
       "       [3380.481 ],\n",
       "       [3408.0715],\n",
       "       [3436.273 ],\n",
       "       [3470.045 ],\n",
       "       [3504.2031],\n",
       "       [3520.076 ],\n",
       "       [3492.4036],\n",
       "       [3445.0933],\n",
       "       [3394.6218],\n",
       "       [3359.2207],\n",
       "       [3334.6526],\n",
       "       [3291.1794],\n",
       "       [3241.0088],\n",
       "       [3205.9514],\n",
       "       [3178.5295],\n",
       "       [3158.149 ],\n",
       "       [3146.8857],\n",
       "       [3133.465 ],\n",
       "       [3125.686 ],\n",
       "       [3128.82  ],\n",
       "       [3136.7668],\n",
       "       [3135.2097],\n",
       "       [3121.2627],\n",
       "       [3098.6465],\n",
       "       [3074.1216],\n",
       "       [3061.4333],\n",
       "       [3039.0403],\n",
       "       [3016.3594],\n",
       "       [3003.877 ],\n",
       "       [2988.2878],\n",
       "       [2958.9766],\n",
       "       [2933.4846],\n",
       "       [2921.2983],\n",
       "       [2912.091 ],\n",
       "       [2919.6936],\n",
       "       [2918.8848],\n",
       "       [2901.393 ],\n",
       "       [2867.0132],\n",
       "       [2814.989 ],\n",
       "       [2727.4917],\n",
       "       [2635.0044],\n",
       "       [2530.8923],\n",
       "       [2414.9202],\n",
       "       [2309.1436],\n",
       "       [2230.566 ],\n",
       "       [2191.602 ],\n",
       "       [2169.5894],\n",
       "       [2160.0547],\n",
       "       [2140.6597],\n",
       "       [2122.2795],\n",
       "       [2102.6406],\n",
       "       [2087.0215],\n",
       "       [2082.9119],\n",
       "       [2080.7756],\n",
       "       [2077.7434],\n",
       "       [2069.9543],\n",
       "       [2044.3755],\n",
       "       [1998.9377],\n",
       "       [1953.9216],\n",
       "       [1920.525 ],\n",
       "       [1920.3928],\n",
       "       [1940.1992],\n",
       "       [1952.1792],\n",
       "       [1952.6061],\n",
       "       [1939.5259],\n",
       "       [1922.4346],\n",
       "       [1908.1564],\n",
       "       [1903.6738],\n",
       "       [1902.4579],\n",
       "       [1899.1923],\n",
       "       [1892.5361],\n",
       "       [1872.6306],\n",
       "       [1830.099 ],\n",
       "       [1764.9349],\n",
       "       [1670.7172],\n",
       "       [1564.5613],\n",
       "       [1469.845 ],\n",
       "       [1381.1154],\n",
       "       [1303.499 ],\n",
       "       [1232.8512],\n",
       "       [1184.2957],\n",
       "       [1160.0309],\n",
       "       [1152.8151],\n",
       "       [1147.115 ],\n",
       "       [1147.8514],\n",
       "       [1161.9744],\n",
       "       [1187.5214],\n",
       "       [1213.1677],\n",
       "       [1231.1884],\n",
       "       [1237.0323],\n",
       "       [1228.1008],\n",
       "       [1208.2592],\n",
       "       [1183.2218],\n",
       "       [1159.9196],\n",
       "       [1141.7715],\n",
       "       [1137.2573],\n",
       "       [1142.7633],\n",
       "       [1157.7516],\n",
       "       [1182.1456],\n",
       "       [1208.2192],\n",
       "       [1230.5328],\n",
       "       [1242.2574],\n",
       "       [1237.1975],\n",
       "       [1214.6681],\n",
       "       [1190.6917],\n",
       "       [1180.794 ],\n",
       "       [1189.2719],\n",
       "       [1220.8821],\n",
       "       [1264.0117],\n",
       "       [1330.5616],\n",
       "       [1405.9072],\n",
       "       [1472.2853],\n",
       "       [1527.2336],\n",
       "       [1565.8699],\n",
       "       [1590.114 ],\n",
       "       [1609.183 ],\n",
       "       [1610.305 ],\n",
       "       [1596.0116],\n",
       "       [1594.4227],\n",
       "       [1617.4651],\n",
       "       [1657.1992],\n",
       "       [1696.8688],\n",
       "       [1725.7308],\n",
       "       [1738.2491],\n",
       "       [1737.91  ],\n",
       "       [1729.7534],\n",
       "       [1718.8175],\n",
       "       [1720.5337],\n",
       "       [1729.6487],\n",
       "       [1741.5514],\n",
       "       [1760.6578]], dtype=float32)"
      ]
     },
     "execution_count": 17,
     "metadata": {},
     "output_type": "execute_result"
    }
   ],
   "source": [
    "GRU_predictions"
   ]
  },
  {
   "cell_type": "code",
   "execution_count": 19,
   "id": "bf527d09-dd9f-4583-a16d-f0b65dbc1f7a",
   "metadata": {
    "pycharm": {
     "name": "#%%\n"
    }
   },
   "outputs": [
    {
     "name": "stdout",
     "output_type": "stream",
     "text": [
      "Before transformation Input data for prediction\n",
      "[[1630.28 1630.91 1618.16 1607.96 1736.81 1690.6  1700.19 1777.05 1702.76\n",
      "  1826.73]]\n",
      "Input data for prediction\n",
      "[[0.32735986]\n",
      " [0.32749322]\n",
      " [0.32479436]\n",
      " [0.32263527]\n",
      " [0.34990961]\n",
      " [0.34012811]\n",
      " [0.34215807]\n",
      " [0.35842742]\n",
      " [0.34270208]\n",
      " [0.36894344]]\n",
      "[0.327359860463738, 0.32749321581128743, 0.32479435758707265, 0.3226352710077008, 0.3499096147088832, 0.34012810580370945, 0.3421580705386287, 0.3584274229396599, 0.3427020756865684, 0.3689434446321298]\n",
      "input [0.327359860463738, 0.32749321581128743, 0.32479435758707265, 0.3226352710077008, 0.3499096147088832, 0.34012810580370945, 0.3421580705386287, 0.3584274229396599, 0.3427020756865684, 0.3689434446321298] \n",
      "0 day input [[[0.32735986]\n",
      "  [0.32749322]\n",
      "  [0.32479436]\n",
      "  [0.32263527]\n",
      "  [0.34990961]\n",
      "  [0.34012811]\n",
      "  [0.34215807]\n",
      "  [0.35842742]\n",
      "  [0.34270208]\n",
      "  [0.36894344]]]\n",
      "0 day output [[0.3499822]]\n",
      "1 day input [0.32749322 0.32479436 0.32263527 0.34990961 0.34012811 0.34215807\n",
      " 0.35842742 0.34270208 0.36894344 0.3499822 ]\n",
      "1 day output [[0.3531543]]\n",
      "[0.32749321581128743, 0.32479435758707265, 0.3226352710077008, 0.3499096147088832, 0.34012810580370945, 0.3421580705386287, 0.3584274229396599, 0.3427020756865684, 0.3689434446321298, 0.34998220205307007, 0.3531543016433716]\n",
      "2 day input [0.32479436 0.32263527 0.34990961 0.34012811 0.34215807 0.35842742\n",
      " 0.34270208 0.36894344 0.3499822  0.3531543 ]\n",
      "2 day output [[0.35484368]]\n",
      "[0.32479435758707265, 0.3226352710077008, 0.3499096147088832, 0.34012810580370945, 0.3421580705386287, 0.3584274229396599, 0.3427020756865684, 0.3689434446321298, 0.34998220205307007, 0.3531543016433716, 0.3548436760902405]\n",
      "3 day input [0.32263527 0.34990961 0.34012811 0.34215807 0.35842742 0.34270208\n",
      " 0.36894344 0.3499822  0.3531543  0.35484368]\n",
      "3 day output [[0.35565084]]\n",
      "[0.3226352710077008, 0.3499096147088832, 0.34012810580370945, 0.3421580705386287, 0.3584274229396599, 0.3427020756865684, 0.3689434446321298, 0.34998220205307007, 0.3531543016433716, 0.3548436760902405, 0.3556508421897888]\n",
      "4 day input [0.34990961 0.34012811 0.34215807 0.35842742 0.34270208 0.36894344\n",
      " 0.3499822  0.3531543  0.35484368 0.35565084]\n",
      "4 day output [[0.35612434]]\n",
      "[0.3499096147088832, 0.34012810580370945, 0.3421580705386287, 0.3584274229396599, 0.3427020756865684, 0.3689434446321298, 0.34998220205307007, 0.3531543016433716, 0.3548436760902405, 0.3556508421897888, 0.3561243414878845]\n",
      "5 day input [0.34012811 0.34215807 0.35842742 0.34270208 0.36894344 0.3499822\n",
      " 0.3531543  0.35484368 0.35565084 0.35612434]\n",
      "5 day output [[0.35655636]]\n",
      "[0.34012810580370945, 0.3421580705386287, 0.3584274229396599, 0.3427020756865684, 0.3689434446321298, 0.34998220205307007, 0.3531543016433716, 0.3548436760902405, 0.3556508421897888, 0.3561243414878845, 0.35655635595321655]\n",
      "6 day input [0.34215807 0.35842742 0.34270208 0.36894344 0.3499822  0.3531543\n",
      " 0.35484368 0.35565084 0.35612434 0.35655636]\n",
      "6 day output [[0.35700047]]\n",
      "[0.3421580705386287, 0.3584274229396599, 0.3427020756865684, 0.3689434446321298, 0.34998220205307007, 0.3531543016433716, 0.3548436760902405, 0.3556508421897888, 0.3561243414878845, 0.35655635595321655, 0.357000470161438]\n",
      "7 day input [0.35842742 0.34270208 0.36894344 0.3499822  0.3531543  0.35484368\n",
      " 0.35565084 0.35612434 0.35655636 0.35700047]\n",
      "7 day output [[0.35745478]]\n",
      "[0.3584274229396599, 0.3427020756865684, 0.3689434446321298, 0.34998220205307007, 0.3531543016433716, 0.3548436760902405, 0.3556508421897888, 0.3561243414878845, 0.35655635595321655, 0.357000470161438, 0.357454776763916]\n",
      "8 day input [0.34270208 0.36894344 0.3499822  0.3531543  0.35484368 0.35565084\n",
      " 0.35612434 0.35655636 0.35700047 0.35745478]\n",
      "8 day output [[0.35792744]]\n",
      "[0.3427020756865684, 0.3689434446321298, 0.34998220205307007, 0.3531543016433716, 0.3548436760902405, 0.3556508421897888, 0.3561243414878845, 0.35655635595321655, 0.357000470161438, 0.357454776763916, 0.35792744159698486]\n",
      "9 day input [0.36894344 0.3499822  0.3531543  0.35484368 0.35565084 0.35612434\n",
      " 0.35655636 0.35700047 0.35745478 0.35792744]\n",
      "9 day output [[0.35838825]]\n",
      "[0.3689434446321298, 0.34998220205307007, 0.3531543016433716, 0.3548436760902405, 0.3556508421897888, 0.3561243414878845, 0.35655635595321655, 0.357000470161438, 0.357454776763916, 0.35792744159698486, 0.3583882451057434]\n",
      "10 day input [0.3499822  0.3531543  0.35484368 0.35565084 0.35612434 0.35655636\n",
      " 0.35700047 0.35745478 0.35792744 0.35838825]\n",
      "10 day output [[0.35886103]]\n",
      "[0.34998220205307007, 0.3531543016433716, 0.3548436760902405, 0.3556508421897888, 0.3561243414878845, 0.35655635595321655, 0.357000470161438, 0.357454776763916, 0.35792744159698486, 0.3583882451057434, 0.3588610291481018]\n",
      "11 day input [0.3531543  0.35484368 0.35565084 0.35612434 0.35655636 0.35700047\n",
      " 0.35745478 0.35792744 0.35838825 0.35886103]\n",
      "11 day output [[0.35931844]]\n",
      "[0.3531543016433716, 0.3548436760902405, 0.3556508421897888, 0.3561243414878845, 0.35655635595321655, 0.357000470161438, 0.357454776763916, 0.35792744159698486, 0.3583882451057434, 0.3588610291481018, 0.35931843519210815]\n",
      "12 day input [0.35484368 0.35565084 0.35612434 0.35655636 0.35700047 0.35745478\n",
      " 0.35792744 0.35838825 0.35886103 0.35931844]\n",
      "12 day output [[0.35976428]]\n",
      "[0.3548436760902405, 0.3556508421897888, 0.3561243414878845, 0.35655635595321655, 0.357000470161438, 0.357454776763916, 0.35792744159698486, 0.3583882451057434, 0.3588610291481018, 0.35931843519210815, 0.3597642779350281]\n",
      "13 day input [0.35565084 0.35612434 0.35655636 0.35700047 0.35745478 0.35792744\n",
      " 0.35838825 0.35886103 0.35931844 0.35976428]\n",
      "13 day output [[0.36020595]]\n",
      "[0.3556508421897888, 0.3561243414878845, 0.35655635595321655, 0.357000470161438, 0.357454776763916, 0.35792744159698486, 0.3583882451057434, 0.3588610291481018, 0.35931843519210815, 0.3597642779350281, 0.3602059483528137]\n",
      "14 day input [0.35612434 0.35655636 0.35700047 0.35745478 0.35792744 0.35838825\n",
      " 0.35886103 0.35931844 0.35976428 0.36020595]\n",
      "14 day output [[0.3606438]]\n",
      "[0.3561243414878845, 0.35655635595321655, 0.357000470161438, 0.357454776763916, 0.35792744159698486, 0.3583882451057434, 0.3588610291481018, 0.35931843519210815, 0.3597642779350281, 0.3602059483528137, 0.36064380407333374]\n",
      "15 day input [0.35655636 0.35700047 0.35745478 0.35792744 0.35838825 0.35886103\n",
      " 0.35931844 0.35976428 0.36020595 0.3606438 ]\n",
      "15 day output [[0.3610769]]\n",
      "[0.35655635595321655, 0.357000470161438, 0.357454776763916, 0.35792744159698486, 0.3583882451057434, 0.3588610291481018, 0.35931843519210815, 0.3597642779350281, 0.3602059483528137, 0.36064380407333374, 0.36107689142227173]\n",
      "16 day input [0.35700047 0.35745478 0.35792744 0.35838825 0.35886103 0.35931844\n",
      " 0.35976428 0.36020595 0.3606438  0.36107689]\n",
      "16 day output [[0.36150467]]\n",
      "[0.357000470161438, 0.357454776763916, 0.35792744159698486, 0.3583882451057434, 0.3588610291481018, 0.35931843519210815, 0.3597642779350281, 0.3602059483528137, 0.36064380407333374, 0.36107689142227173, 0.3615046739578247]\n",
      "17 day input [0.35745478 0.35792744 0.35838825 0.35886103 0.35931844 0.35976428\n",
      " 0.36020595 0.3606438  0.36107689 0.36150467]\n",
      "17 day output [[0.36192703]]\n",
      "[0.357454776763916, 0.35792744159698486, 0.3583882451057434, 0.3588610291481018, 0.35931843519210815, 0.3597642779350281, 0.3602059483528137, 0.36064380407333374, 0.36107689142227173, 0.3615046739578247, 0.3619270324707031]\n",
      "18 day input [0.35792744 0.35838825 0.35886103 0.35931844 0.35976428 0.36020595\n",
      " 0.3606438  0.36107689 0.36150467 0.36192703]\n",
      "18 day output [[0.36234432]]\n",
      "[0.35792744159698486, 0.3583882451057434, 0.3588610291481018, 0.35931843519210815, 0.3597642779350281, 0.3602059483528137, 0.36064380407333374, 0.36107689142227173, 0.3615046739578247, 0.3619270324707031, 0.36234432458877563]\n",
      "19 day input [0.35838825 0.35886103 0.35931844 0.35976428 0.36020595 0.3606438\n",
      " 0.36107689 0.36150467 0.36192703 0.36234432]\n",
      "19 day output [[0.36275655]]\n",
      "[0.3583882451057434, 0.3588610291481018, 0.35931843519210815, 0.3597642779350281, 0.3602059483528137, 0.36064380407333374, 0.36107689142227173, 0.3615046739578247, 0.3619270324707031, 0.36234432458877563, 0.36275655031204224]\n",
      "20 day input [0.35886103 0.35931844 0.35976428 0.36020595 0.3606438  0.36107689\n",
      " 0.36150467 0.36192703 0.36234432 0.36275655]\n",
      "20 day output [[0.36316365]]\n",
      "[0.3588610291481018, 0.35931843519210815, 0.3597642779350281, 0.3602059483528137, 0.36064380407333374, 0.36107689142227173, 0.3615046739578247, 0.3619270324707031, 0.36234432458877563, 0.36275655031204224, 0.36316365003585815]\n",
      "21 day input [0.35931844 0.35976428 0.36020595 0.3606438  0.36107689 0.36150467\n",
      " 0.36192703 0.36234432 0.36275655 0.36316365]\n",
      "21 day output [[0.36356598]]\n",
      "[0.35931843519210815, 0.3597642779350281, 0.3602059483528137, 0.36064380407333374, 0.36107689142227173, 0.3615046739578247, 0.3619270324707031, 0.36234432458877563, 0.36275655031204224, 0.36316365003585815, 0.36356598138809204]\n",
      "22 day input [0.35976428 0.36020595 0.3606438  0.36107689 0.36150467 0.36192703\n",
      " 0.36234432 0.36275655 0.36316365 0.36356598]\n",
      "22 day output [[0.36396343]]\n",
      "[0.3597642779350281, 0.3602059483528137, 0.36064380407333374, 0.36107689142227173, 0.3615046739578247, 0.3619270324707031, 0.36234432458877563, 0.36275655031204224, 0.36316365003585815, 0.36356598138809204, 0.36396342515945435]\n",
      "23 day input [0.36020595 0.3606438  0.36107689 0.36150467 0.36192703 0.36234432\n",
      " 0.36275655 0.36316365 0.36356598 0.36396343]\n",
      "23 day output [[0.36435586]]\n",
      "[0.3602059483528137, 0.36064380407333374, 0.36107689142227173, 0.3615046739578247, 0.3619270324707031, 0.36234432458877563, 0.36275655031204224, 0.36316365003585815, 0.36356598138809204, 0.36396342515945435, 0.3643558621406555]\n",
      "24 day input [0.3606438  0.36107689 0.36150467 0.36192703 0.36234432 0.36275655\n",
      " 0.36316365 0.36356598 0.36396343 0.36435586]\n",
      "24 day output [[0.36474365]]\n",
      "[0.36064380407333374, 0.36107689142227173, 0.3615046739578247, 0.3619270324707031, 0.36234432458877563, 0.36275655031204224, 0.36316365003585815, 0.36356598138809204, 0.36396342515945435, 0.3643558621406555, 0.3647436499595642]\n",
      "25 day input [0.36107689 0.36150467 0.36192703 0.36234432 0.36275655 0.36316365\n",
      " 0.36356598 0.36396343 0.36435586 0.36474365]\n",
      "25 day output [[0.36512667]]\n",
      "[0.36107689142227173, 0.3615046739578247, 0.3619270324707031, 0.36234432458877563, 0.36275655031204224, 0.36316365003585815, 0.36356598138809204, 0.36396342515945435, 0.3643558621406555, 0.3647436499595642, 0.36512666940689087]\n",
      "26 day input [0.36150467 0.36192703 0.36234432 0.36275655 0.36316365 0.36356598\n",
      " 0.36396343 0.36435586 0.36474365 0.36512667]\n",
      "26 day output [[0.36550498]]\n",
      "[0.3615046739578247, 0.3619270324707031, 0.36234432458877563, 0.36275655031204224, 0.36316365003585815, 0.36356598138809204, 0.36396342515945435, 0.3643558621406555, 0.3647436499595642, 0.36512666940689087, 0.3655049800872803]\n",
      "27 day input [0.36192703 0.36234432 0.36275655 0.36316365 0.36356598 0.36396343\n",
      " 0.36435586 0.36474365 0.36512667 0.36550498]\n",
      "27 day output [[0.3658787]]\n",
      "[0.3619270324707031, 0.36234432458877563, 0.36275655031204224, 0.36316365003585815, 0.36356598138809204, 0.36396342515945435, 0.3643558621406555, 0.3647436499595642, 0.36512666940689087, 0.3655049800872803, 0.365878701210022]\n",
      "28 day input [0.36234432 0.36275655 0.36316365 0.36356598 0.36396343 0.36435586\n",
      " 0.36474365 0.36512667 0.36550498 0.3658787 ]\n",
      "28 day output [[0.36624783]]\n",
      "[0.36234432458877563, 0.36275655031204224, 0.36316365003585815, 0.36356598138809204, 0.36396342515945435, 0.3643558621406555, 0.3647436499595642, 0.36512666940689087, 0.3655049800872803, 0.365878701210022, 0.36624783277511597]\n",
      "29 day input [0.36275655 0.36316365 0.36356598 0.36396343 0.36435586 0.36474365\n",
      " 0.36512667 0.36550498 0.3658787  0.36624783]\n",
      "29 day output [[0.36661237]]\n",
      "[0.36275655031204224, 0.36316365003585815, 0.36356598138809204, 0.36396342515945435, 0.3643558621406555, 0.3647436499595642, 0.36512666940689087, 0.3655049800872803, 0.365878701210022, 0.36624783277511597, 0.36661237478256226]\n",
      "[1737.1529185831544, 1752.1386149096486, 1760.1195914590357, 1763.9328216898439, 1766.1697365438936, 1768.2106679213045, 1770.3087611460683, 1772.455005483627, 1774.6879781413077, 1776.864915293455, 1779.0984511220454, 1781.259337903261, 1783.365597106218, 1785.4521453273294, 1787.5206720793244, 1789.5666719949243, 1791.5876108050345, 1793.5829253387449, 1795.5543051087855, 1797.501750115156, 1799.4249787724016, 1801.325680593252, 1803.2032924067971, 1805.0572510421273, 1806.889246011972, 1808.6987141454217, 1810.485937027931, 1812.2514778304098, 1813.9953365528581, 1815.717513195276]\n",
      "1660175999999.0\n",
      "2022-08-11 01:59:59.999000\n",
      "DatetimeIndex(['2022-08-10 01:59:59.999000', '2022-08-11 01:59:59.999000',\n",
      "               '2022-08-12 01:59:59.999000', '2022-08-13 01:59:59.999000',\n",
      "               '2022-08-14 01:59:59.999000', '2022-08-15 01:59:59.999000',\n",
      "               '2022-08-16 01:59:59.999000', '2022-08-17 01:59:59.999000',\n",
      "               '2022-08-18 01:59:59.999000', '2022-08-19 01:59:59.999000',\n",
      "               '2022-08-20 01:59:59.999000', '2022-08-21 01:59:59.999000',\n",
      "               '2022-08-22 01:59:59.999000', '2022-08-23 01:59:59.999000',\n",
      "               '2022-08-24 01:59:59.999000', '2022-08-25 01:59:59.999000',\n",
      "               '2022-08-26 01:59:59.999000', '2022-08-27 01:59:59.999000',\n",
      "               '2022-08-28 01:59:59.999000', '2022-08-29 01:59:59.999000',\n",
      "               '2022-08-30 01:59:59.999000', '2022-08-31 01:59:59.999000',\n",
      "               '2022-09-01 01:59:59.999000', '2022-09-02 01:59:59.999000',\n",
      "               '2022-09-03 01:59:59.999000', '2022-09-04 01:59:59.999000',\n",
      "               '2022-09-05 01:59:59.999000', '2022-09-06 01:59:59.999000',\n",
      "               '2022-09-07 01:59:59.999000', '2022-09-08 01:59:59.999000'],\n",
      "              dtype='datetime64[ns]', freq='D')\n",
      "                               close\n",
      "2022-08-10 01:59:59.999  1737.152919\n",
      "2022-08-11 01:59:59.999  1752.138615\n",
      "2022-08-12 01:59:59.999  1760.119591\n",
      "2022-08-13 01:59:59.999  1763.932822\n",
      "2022-08-14 01:59:59.999  1766.169737\n",
      "2022-08-15 01:59:59.999  1768.210668\n",
      "2022-08-16 01:59:59.999  1770.308761\n",
      "2022-08-17 01:59:59.999  1772.455005\n",
      "2022-08-18 01:59:59.999  1774.687978\n",
      "2022-08-19 01:59:59.999  1776.864915\n",
      "2022-08-20 01:59:59.999  1779.098451\n",
      "2022-08-21 01:59:59.999  1781.259338\n",
      "2022-08-22 01:59:59.999  1783.365597\n",
      "2022-08-23 01:59:59.999  1785.452145\n",
      "2022-08-24 01:59:59.999  1787.520672\n",
      "2022-08-25 01:59:59.999  1789.566672\n",
      "2022-08-26 01:59:59.999  1791.587611\n",
      "2022-08-27 01:59:59.999  1793.582925\n",
      "2022-08-28 01:59:59.999  1795.554305\n",
      "2022-08-29 01:59:59.999  1797.501750\n",
      "2022-08-30 01:59:59.999  1799.424979\n",
      "2022-08-31 01:59:59.999  1801.325681\n",
      "2022-09-01 01:59:59.999  1803.203292\n",
      "2022-09-02 01:59:59.999  1805.057251\n",
      "2022-09-03 01:59:59.999  1806.889246\n",
      "2022-09-04 01:59:59.999  1808.698714\n",
      "2022-09-05 01:59:59.999  1810.485937\n",
      "2022-09-06 01:59:59.999  1812.251478\n",
      "2022-09-07 01:59:59.999  1813.995337\n",
      "2022-09-08 01:59:59.999  1815.717513\n"
     ]
    }
   ],
   "source": [
    "# Get predictions\n",
    "preds  = predict_future_days(all_data, 10, 30, my_GRU_model, sc)"
   ]
  },
  {
   "cell_type": "code",
   "execution_count": 20,
   "id": "1b50fdd0-9077-4da6-86de-07a8b4d3c240",
   "metadata": {
    "pycharm": {
     "name": "#%%\n"
    }
   },
   "outputs": [
    {
     "name": "stdout",
     "output_type": "stream",
     "text": [
      "Mean Squared Error: 30305.725\n"
     ]
    }
   ],
   "source": [
    "# Get the Mean Squared Error\n",
    "actual_pred = pd.DataFrame(columns=['close', 'prediction'])\n",
    "actual_pred['close'] = all_data.loc['2022':, 'close'][0:len(GRU_predictions)]\n",
    "actual_pred['prediction'] = GRU_predictions[:, 0]\n",
    "\n",
    "m = MeanSquaredError()\n",
    "m.update_state(np.array(actual_pred['close']), np.array(actual_pred['prediction']))\n",
    "\n",
    "print(\"Mean Squared Error: \" + str(m.result().numpy()))"
   ]
  },
  {
   "cell_type": "code",
   "execution_count": 40,
   "id": "574d7714-2996-480f-9c2e-2bed27034a25",
   "metadata": {
    "pycharm": {
     "name": "#%%\n"
    }
   },
   "outputs": [
    {
     "data": {
      "application/vnd.plotly.v1+json": {
       "config": {
        "linkText": "Export to plot.ly",
        "plotlyServerURL": "https://plot.ly",
        "showLink": false
       },
       "data": [
        {
         "mode": "lines+markers",
         "name": "Actual",
         "type": "scatter",
         "x": [
          "2022-01-01T00:59:59.999000",
          "2022-01-02T00:59:59.999000",
          "2022-01-03T00:59:59.999000",
          "2022-01-04T00:59:59.999000",
          "2022-01-05T00:59:59.999000",
          "2022-01-06T00:59:59.999000",
          "2022-01-07T00:59:59.999000",
          "2022-01-08T00:59:59.999000",
          "2022-01-09T00:59:59.999000",
          "2022-01-10T00:59:59.999000",
          "2022-01-11T00:59:59.999000",
          "2022-01-12T00:59:59.999000",
          "2022-01-13T00:59:59.999000",
          "2022-01-14T00:59:59.999000",
          "2022-01-15T00:59:59.999000",
          "2022-01-16T00:59:59.999000",
          "2022-01-17T00:59:59.999000",
          "2022-01-18T00:59:59.999000",
          "2022-01-19T00:59:59.999000",
          "2022-01-20T00:59:59.999000",
          "2022-01-21T00:59:59.999000",
          "2022-01-22T00:59:59.999000",
          "2022-01-23T00:59:59.999000",
          "2022-01-24T00:59:59.999000",
          "2022-01-25T00:59:59.999000",
          "2022-01-26T00:59:59.999000",
          "2022-01-27T00:59:59.999000",
          "2022-01-28T00:59:59.999000",
          "2022-01-29T00:59:59.999000",
          "2022-01-30T00:59:59.999000",
          "2022-01-31T00:59:59.999000",
          "2022-02-01T00:59:59.999000",
          "2022-02-02T00:59:59.999000",
          "2022-02-03T00:59:59.999000",
          "2022-02-04T00:59:59.999000",
          "2022-02-05T00:59:59.999000",
          "2022-02-06T00:59:59.999000",
          "2022-02-07T00:59:59.999000",
          "2022-02-08T00:59:59.999000",
          "2022-02-09T00:59:59.999000",
          "2022-02-10T00:59:59.999000",
          "2022-02-11T00:59:59.999000",
          "2022-02-12T00:59:59.999000",
          "2022-02-13T00:59:59.999000",
          "2022-02-14T00:59:59.999000",
          "2022-02-15T00:59:59.999000",
          "2022-02-16T00:59:59.999000",
          "2022-02-17T00:59:59.999000",
          "2022-02-18T00:59:59.999000",
          "2022-02-19T00:59:59.999000",
          "2022-02-20T00:59:59.999000",
          "2022-02-21T00:59:59.999000",
          "2022-02-22T00:59:59.999000",
          "2022-02-23T00:59:59.999000",
          "2022-02-24T00:59:59.999000",
          "2022-02-25T00:59:59.999000",
          "2022-02-26T00:59:59.999000",
          "2022-02-27T00:59:59.999000",
          "2022-02-28T00:59:59.999000",
          "2022-03-01T00:59:59.999000",
          "2022-03-02T00:59:59.999000",
          "2022-03-03T00:59:59.999000",
          "2022-03-04T00:59:59.999000",
          "2022-03-05T00:59:59.999000",
          "2022-03-06T00:59:59.999000",
          "2022-03-07T00:59:59.999000",
          "2022-03-08T00:59:59.999000",
          "2022-03-09T00:59:59.999000",
          "2022-03-10T00:59:59.999000",
          "2022-03-11T00:59:59.999000",
          "2022-03-12T00:59:59.999000",
          "2022-03-13T00:59:59.999000",
          "2022-03-14T00:59:59.999000",
          "2022-03-15T00:59:59.999000",
          "2022-03-16T00:59:59.999000",
          "2022-03-17T00:59:59.999000",
          "2022-03-18T00:59:59.999000",
          "2022-03-19T00:59:59.999000",
          "2022-03-20T00:59:59.999000",
          "2022-03-21T00:59:59.999000",
          "2022-03-22T00:59:59.999000",
          "2022-03-23T00:59:59.999000",
          "2022-03-24T00:59:59.999000",
          "2022-03-25T00:59:59.999000",
          "2022-03-26T01:59:59.999000",
          "2022-03-27T01:59:59.999000",
          "2022-03-28T01:59:59.999000",
          "2022-03-29T01:59:59.999000",
          "2022-03-30T01:59:59.999000",
          "2022-03-31T01:59:59.999000",
          "2022-04-01T01:59:59.999000",
          "2022-04-02T01:59:59.999000",
          "2022-04-03T01:59:59.999000",
          "2022-04-04T01:59:59.999000",
          "2022-04-05T01:59:59.999000",
          "2022-04-06T01:59:59.999000",
          "2022-04-07T01:59:59.999000",
          "2022-04-08T01:59:59.999000",
          "2022-04-09T01:59:59.999000",
          "2022-04-10T01:59:59.999000",
          "2022-04-11T01:59:59.999000",
          "2022-04-12T01:59:59.999000",
          "2022-04-13T01:59:59.999000",
          "2022-04-14T01:59:59.999000",
          "2022-04-15T01:59:59.999000",
          "2022-04-16T01:59:59.999000",
          "2022-04-17T01:59:59.999000",
          "2022-04-18T01:59:59.999000",
          "2022-04-19T01:59:59.999000",
          "2022-04-20T01:59:59.999000",
          "2022-04-21T01:59:59.999000",
          "2022-04-22T01:59:59.999000",
          "2022-04-23T01:59:59.999000",
          "2022-04-24T01:59:59.999000",
          "2022-04-25T01:59:59.999000",
          "2022-04-26T01:59:59.999000",
          "2022-04-27T01:59:59.999000",
          "2022-04-28T01:59:59.999000",
          "2022-04-29T01:59:59.999000",
          "2022-04-30T01:59:59.999000",
          "2022-05-01T01:59:59.999000",
          "2022-05-02T01:59:59.999000",
          "2022-05-03T01:59:59.999000",
          "2022-05-04T01:59:59.999000",
          "2022-05-05T01:59:59.999000",
          "2022-05-06T01:59:59.999000",
          "2022-05-07T01:59:59.999000",
          "2022-05-08T01:59:59.999000",
          "2022-05-09T01:59:59.999000",
          "2022-05-10T01:59:59.999000",
          "2022-05-11T01:59:59.999000",
          "2022-05-12T01:59:59.999000",
          "2022-05-13T01:59:59.999000",
          "2022-05-14T01:59:59.999000",
          "2022-05-15T01:59:59.999000",
          "2022-05-16T01:59:59.999000",
          "2022-05-17T01:59:59.999000",
          "2022-05-18T01:59:59.999000",
          "2022-05-19T01:59:59.999000",
          "2022-05-20T01:59:59.999000",
          "2022-05-21T01:59:59.999000",
          "2022-05-22T01:59:59.999000",
          "2022-05-23T01:59:59.999000",
          "2022-05-24T01:59:59.999000",
          "2022-05-25T01:59:59.999000",
          "2022-05-26T01:59:59.999000",
          "2022-05-27T01:59:59.999000",
          "2022-05-28T01:59:59.999000",
          "2022-05-29T01:59:59.999000",
          "2022-05-30T01:59:59.999000",
          "2022-05-31T01:59:59.999000",
          "2022-06-01T01:59:59.999000",
          "2022-06-02T01:59:59.999000",
          "2022-06-03T01:59:59.999000",
          "2022-06-04T01:59:59.999000",
          "2022-06-05T01:59:59.999000",
          "2022-06-06T01:59:59.999000",
          "2022-06-07T01:59:59.999000",
          "2022-06-08T01:59:59.999000",
          "2022-06-09T01:59:59.999000",
          "2022-06-10T01:59:59.999000",
          "2022-06-11T01:59:59.999000",
          "2022-06-12T01:59:59.999000",
          "2022-06-13T01:59:59.999000",
          "2022-06-14T01:59:59.999000",
          "2022-06-15T01:59:59.999000",
          "2022-06-16T01:59:59.999000",
          "2022-06-17T01:59:59.999000",
          "2022-06-18T01:59:59.999000",
          "2022-06-19T01:59:59.999000",
          "2022-06-20T01:59:59.999000",
          "2022-06-21T01:59:59.999000",
          "2022-06-22T01:59:59.999000",
          "2022-06-23T01:59:59.999000",
          "2022-06-24T01:59:59.999000",
          "2022-06-25T01:59:59.999000",
          "2022-06-26T01:59:59.999000",
          "2022-06-27T01:59:59.999000",
          "2022-06-28T01:59:59.999000",
          "2022-06-29T01:59:59.999000",
          "2022-06-30T01:59:59.999000",
          "2022-07-01T01:59:59.999000",
          "2022-07-02T01:59:59.999000",
          "2022-07-03T01:59:59.999000",
          "2022-07-04T01:59:59.999000",
          "2022-07-05T01:59:59.999000",
          "2022-07-06T01:59:59.999000",
          "2022-07-07T01:59:59.999000",
          "2022-07-08T01:59:59.999000",
          "2022-07-09T01:59:59.999000",
          "2022-07-10T01:59:59.999000",
          "2022-07-11T01:59:59.999000",
          "2022-07-12T01:59:59.999000",
          "2022-07-13T01:59:59.999000",
          "2022-07-14T01:59:59.999000",
          "2022-07-15T01:59:59.999000",
          "2022-07-16T01:59:59.999000",
          "2022-07-17T01:59:59.999000",
          "2022-07-18T01:59:59.999000",
          "2022-07-19T01:59:59.999000",
          "2022-07-20T01:59:59.999000",
          "2022-07-21T01:59:59.999000",
          "2022-07-22T01:59:59.999000",
          "2022-07-23T01:59:59.999000",
          "2022-07-24T01:59:59.999000",
          "2022-07-25T01:59:59.999000",
          "2022-07-26T01:59:59.999000",
          "2022-07-27T01:59:59.999000",
          "2022-07-28T01:59:59.999000",
          "2022-07-29T01:59:59.999000",
          "2022-07-30T01:59:59.999000",
          "2022-07-31T01:59:59.999000",
          "2022-08-01T01:59:59.999000",
          "2022-08-02T01:59:59.999000",
          "2022-08-03T01:59:59.999000",
          "2022-08-04T01:59:59.999000",
          "2022-08-05T01:59:59.999000",
          "2022-08-06T01:59:59.999000",
          "2022-08-07T01:59:59.999000",
          "2022-08-08T01:59:59.999000"
         ],
         "y": [
          3828.27,
          3765.89,
          3785.11,
          3540.63,
          3406.81,
          3199.24,
          3080.95,
          3151.97,
          3082.68,
          3239.72,
          3371.26,
          3240.61,
          3307.42,
          3326.04,
          3346.88,
          3209.67,
          3159.85,
          3084.02,
          3001.48,
          2568.15,
          2412.18,
          2539.01,
          2439.29,
          2458.83,
          2462.99,
          2424.25,
          2544.99,
          2601.43,
          2601.68,
          2686.94,
          2787.23,
          2680.67,
          2695.46,
          2994.99,
          3012.65,
          3054.99,
          3139.77,
          3116.69,
          3243.94,
          3072.49,
          2927.54,
          2918.88,
          2871.13,
          2929.75,
          3183.52,
          3122.3,
          2891.87,
          2779.48,
          2763.63,
          2621.99,
          2568.02,
          2636.29,
          2579.71,
          2596.2,
          2768.49,
          2779.47,
          2616.79,
          2920.95,
          2976.33,
          2947.3,
          2833.99,
          2622.1,
          2665.15,
          2551.29,
          2491.12,
          2575.97,
          2726.98,
          2606.7,
          2556.86,
          2568.8,
          2515.65,
          2589.41,
          2617.73,
          2773.81,
          2811.92,
          2938.92,
          2950.84,
          2861.38,
          2890.03,
          2969.64,
          3036,
          3110.76,
          3102.14,
          3145,
          3295.65,
          3332.92,
          3400.51,
          3385.79,
          3281.51,
          3455.21,
          3443.77,
          3521.91,
          3519.5,
          3406.99,
          3168.51,
          3227.19,
          3192.39,
          3258.57,
          3203.04,
          2979.74,
          3027.66,
          3118.28,
          3021.98,
          3040.56,
          3059.3,
          2988.06,
          3055.56,
          3101.77,
          3076.04,
          2983.58,
          2962.39,
          2933.03,
          2921,
          3006.62,
          2809.67,
          2888.96,
          2936.93,
          2817.13,
          2726.66,
          2824.81,
          2856.54,
          2781.7,
          2940.64,
          2747.97,
          2692.85,
          2635.34,
          2519.71,
          2228.55,
          2342.05,
          2084.99,
          1960.22,
          2009.69,
          2056.48,
          2145.29,
          2023.66,
          2090.72,
          1915.11,
          2019.55,
          1959.08,
          1975.07,
          2043.19,
          1973.32,
          1979.41,
          1942.63,
          1792.23,
          1727.27,
          1792.22,
          1813.64,
          1998.78,
          1941.9,
          1817.95,
          1834.08,
          1775.12,
          1804.58,
          1806.23,
          1859.84,
          1813.33,
          1791.88,
          1788.81,
          1662.91,
          1532.89,
          1434.84,
          1209.82,
          1208.9,
          1237.52,
          1068.5,
          1086.94,
          995.13,
          1128.53,
          1128.24,
          1125.85,
          1050.19,
          1144.72,
          1225.02,
          1242.36,
          1197.79,
          1192.51,
          1144.05,
          1100.21,
          1071.01,
          1059.73,
          1067.01,
          1074.26,
          1151,
          1132.5,
          1186.57,
          1237.49,
          1214.04,
          1217.02,
          1168.36,
          1096.4,
          1038.58,
          1115,
          1193.42,
          1231.25,
          1355.85,
          1338.65,
          1581.04,
          1542.32,
          1521.58,
          1575.45,
          1535.27,
          1548.67,
          1597.7,
          1440.79,
          1449.12,
          1635.74,
          1724.52,
          1721.68,
          1697,
          1678.12,
          1630.28,
          1630.91,
          1618.16,
          1607.96,
          1736.81,
          1690.6,
          1700.19,
          1777.05,
          1702.76
         ]
        },
        {
         "mode": "lines+markers",
         "name": "Prediction",
         "type": "scatter",
         "x": [
          "2022-01-01T00:59:59.999000",
          "2022-01-02T00:59:59.999000",
          "2022-01-03T00:59:59.999000",
          "2022-01-04T00:59:59.999000",
          "2022-01-05T00:59:59.999000",
          "2022-01-06T00:59:59.999000",
          "2022-01-07T00:59:59.999000",
          "2022-01-08T00:59:59.999000",
          "2022-01-09T00:59:59.999000",
          "2022-01-10T00:59:59.999000",
          "2022-01-11T00:59:59.999000",
          "2022-01-12T00:59:59.999000",
          "2022-01-13T00:59:59.999000",
          "2022-01-14T00:59:59.999000",
          "2022-01-15T00:59:59.999000",
          "2022-01-16T00:59:59.999000",
          "2022-01-17T00:59:59.999000",
          "2022-01-18T00:59:59.999000",
          "2022-01-19T00:59:59.999000",
          "2022-01-20T00:59:59.999000",
          "2022-01-21T00:59:59.999000",
          "2022-01-22T00:59:59.999000",
          "2022-01-23T00:59:59.999000",
          "2022-01-24T00:59:59.999000",
          "2022-01-25T00:59:59.999000",
          "2022-01-26T00:59:59.999000",
          "2022-01-27T00:59:59.999000",
          "2022-01-28T00:59:59.999000",
          "2022-01-29T00:59:59.999000",
          "2022-01-30T00:59:59.999000",
          "2022-01-31T00:59:59.999000",
          "2022-02-01T00:59:59.999000",
          "2022-02-02T00:59:59.999000",
          "2022-02-03T00:59:59.999000",
          "2022-02-04T00:59:59.999000",
          "2022-02-05T00:59:59.999000",
          "2022-02-06T00:59:59.999000",
          "2022-02-07T00:59:59.999000",
          "2022-02-08T00:59:59.999000",
          "2022-02-09T00:59:59.999000",
          "2022-02-10T00:59:59.999000",
          "2022-02-11T00:59:59.999000",
          "2022-02-12T00:59:59.999000",
          "2022-02-13T00:59:59.999000",
          "2022-02-14T00:59:59.999000",
          "2022-02-15T00:59:59.999000",
          "2022-02-16T00:59:59.999000",
          "2022-02-17T00:59:59.999000",
          "2022-02-18T00:59:59.999000",
          "2022-02-19T00:59:59.999000",
          "2022-02-20T00:59:59.999000",
          "2022-02-21T00:59:59.999000",
          "2022-02-22T00:59:59.999000",
          "2022-02-23T00:59:59.999000",
          "2022-02-24T00:59:59.999000",
          "2022-02-25T00:59:59.999000",
          "2022-02-26T00:59:59.999000",
          "2022-02-27T00:59:59.999000",
          "2022-02-28T00:59:59.999000",
          "2022-03-01T00:59:59.999000",
          "2022-03-02T00:59:59.999000",
          "2022-03-03T00:59:59.999000",
          "2022-03-04T00:59:59.999000",
          "2022-03-05T00:59:59.999000",
          "2022-03-06T00:59:59.999000",
          "2022-03-07T00:59:59.999000",
          "2022-03-08T00:59:59.999000",
          "2022-03-09T00:59:59.999000",
          "2022-03-10T00:59:59.999000",
          "2022-03-11T00:59:59.999000",
          "2022-03-12T00:59:59.999000",
          "2022-03-13T00:59:59.999000",
          "2022-03-14T00:59:59.999000",
          "2022-03-15T00:59:59.999000",
          "2022-03-16T00:59:59.999000",
          "2022-03-17T00:59:59.999000",
          "2022-03-18T00:59:59.999000",
          "2022-03-19T00:59:59.999000",
          "2022-03-20T00:59:59.999000",
          "2022-03-21T00:59:59.999000",
          "2022-03-22T00:59:59.999000",
          "2022-03-23T00:59:59.999000",
          "2022-03-24T00:59:59.999000",
          "2022-03-25T00:59:59.999000",
          "2022-03-26T01:59:59.999000",
          "2022-03-27T01:59:59.999000",
          "2022-03-28T01:59:59.999000",
          "2022-03-29T01:59:59.999000",
          "2022-03-30T01:59:59.999000",
          "2022-03-31T01:59:59.999000",
          "2022-04-01T01:59:59.999000",
          "2022-04-02T01:59:59.999000",
          "2022-04-03T01:59:59.999000",
          "2022-04-04T01:59:59.999000",
          "2022-04-05T01:59:59.999000",
          "2022-04-06T01:59:59.999000",
          "2022-04-07T01:59:59.999000",
          "2022-04-08T01:59:59.999000",
          "2022-04-09T01:59:59.999000",
          "2022-04-10T01:59:59.999000",
          "2022-04-11T01:59:59.999000",
          "2022-04-12T01:59:59.999000",
          "2022-04-13T01:59:59.999000",
          "2022-04-14T01:59:59.999000",
          "2022-04-15T01:59:59.999000",
          "2022-04-16T01:59:59.999000",
          "2022-04-17T01:59:59.999000",
          "2022-04-18T01:59:59.999000",
          "2022-04-19T01:59:59.999000",
          "2022-04-20T01:59:59.999000",
          "2022-04-21T01:59:59.999000",
          "2022-04-22T01:59:59.999000",
          "2022-04-23T01:59:59.999000",
          "2022-04-24T01:59:59.999000",
          "2022-04-25T01:59:59.999000",
          "2022-04-26T01:59:59.999000",
          "2022-04-27T01:59:59.999000",
          "2022-04-28T01:59:59.999000",
          "2022-04-29T01:59:59.999000",
          "2022-04-30T01:59:59.999000",
          "2022-05-01T01:59:59.999000",
          "2022-05-02T01:59:59.999000",
          "2022-05-03T01:59:59.999000",
          "2022-05-04T01:59:59.999000",
          "2022-05-05T01:59:59.999000",
          "2022-05-06T01:59:59.999000",
          "2022-05-07T01:59:59.999000",
          "2022-05-08T01:59:59.999000",
          "2022-05-09T01:59:59.999000",
          "2022-05-10T01:59:59.999000",
          "2022-05-11T01:59:59.999000",
          "2022-05-12T01:59:59.999000",
          "2022-05-13T01:59:59.999000",
          "2022-05-14T01:59:59.999000",
          "2022-05-15T01:59:59.999000",
          "2022-05-16T01:59:59.999000",
          "2022-05-17T01:59:59.999000",
          "2022-05-18T01:59:59.999000",
          "2022-05-19T01:59:59.999000",
          "2022-05-20T01:59:59.999000",
          "2022-05-21T01:59:59.999000",
          "2022-05-22T01:59:59.999000",
          "2022-05-23T01:59:59.999000",
          "2022-05-24T01:59:59.999000",
          "2022-05-25T01:59:59.999000",
          "2022-05-26T01:59:59.999000",
          "2022-05-27T01:59:59.999000",
          "2022-05-28T01:59:59.999000",
          "2022-05-29T01:59:59.999000",
          "2022-05-30T01:59:59.999000",
          "2022-05-31T01:59:59.999000",
          "2022-06-01T01:59:59.999000",
          "2022-06-02T01:59:59.999000",
          "2022-06-03T01:59:59.999000",
          "2022-06-04T01:59:59.999000",
          "2022-06-05T01:59:59.999000",
          "2022-06-06T01:59:59.999000",
          "2022-06-07T01:59:59.999000",
          "2022-06-08T01:59:59.999000",
          "2022-06-09T01:59:59.999000",
          "2022-06-10T01:59:59.999000",
          "2022-06-11T01:59:59.999000",
          "2022-06-12T01:59:59.999000",
          "2022-06-13T01:59:59.999000",
          "2022-06-14T01:59:59.999000",
          "2022-06-15T01:59:59.999000",
          "2022-06-16T01:59:59.999000",
          "2022-06-17T01:59:59.999000",
          "2022-06-18T01:59:59.999000",
          "2022-06-19T01:59:59.999000",
          "2022-06-20T01:59:59.999000",
          "2022-06-21T01:59:59.999000",
          "2022-06-22T01:59:59.999000",
          "2022-06-23T01:59:59.999000",
          "2022-06-24T01:59:59.999000",
          "2022-06-25T01:59:59.999000",
          "2022-06-26T01:59:59.999000",
          "2022-06-27T01:59:59.999000",
          "2022-06-28T01:59:59.999000",
          "2022-06-29T01:59:59.999000",
          "2022-06-30T01:59:59.999000",
          "2022-07-01T01:59:59.999000",
          "2022-07-02T01:59:59.999000",
          "2022-07-03T01:59:59.999000",
          "2022-07-04T01:59:59.999000",
          "2022-07-05T01:59:59.999000",
          "2022-07-06T01:59:59.999000",
          "2022-07-07T01:59:59.999000",
          "2022-07-08T01:59:59.999000",
          "2022-07-09T01:59:59.999000",
          "2022-07-10T01:59:59.999000",
          "2022-07-11T01:59:59.999000",
          "2022-07-12T01:59:59.999000",
          "2022-07-13T01:59:59.999000",
          "2022-07-14T01:59:59.999000",
          "2022-07-15T01:59:59.999000",
          "2022-07-16T01:59:59.999000",
          "2022-07-17T01:59:59.999000",
          "2022-07-18T01:59:59.999000",
          "2022-07-19T01:59:59.999000",
          "2022-07-20T01:59:59.999000",
          "2022-07-21T01:59:59.999000",
          "2022-07-22T01:59:59.999000",
          "2022-07-23T01:59:59.999000",
          "2022-07-24T01:59:59.999000",
          "2022-07-25T01:59:59.999000",
          "2022-07-26T01:59:59.999000",
          "2022-07-27T01:59:59.999000",
          "2022-07-28T01:59:59.999000",
          "2022-07-29T01:59:59.999000",
          "2022-07-30T01:59:59.999000",
          "2022-07-31T01:59:59.999000",
          "2022-08-01T01:59:59.999000",
          "2022-08-02T01:59:59.999000",
          "2022-08-03T01:59:59.999000",
          "2022-08-04T01:59:59.999000",
          "2022-08-05T01:59:59.999000",
          "2022-08-06T01:59:59.999000",
          "2022-08-07T01:59:59.999000",
          "2022-08-08T01:59:59.999000"
         ],
         "y": [
          3609.71044921875,
          3609.15234375,
          3618.235107421875,
          3628.06298828125,
          3605.86572265625,
          3545.20068359375,
          3446.469482421875,
          3325.89208984375,
          3221.26123046875,
          3140.417724609375,
          3102.384033203125,
          3113.796142578125,
          3136.65576171875,
          3160.56494140625,
          3183.00830078125,
          3203.834716796875,
          3204.7568359375,
          3183.828125,
          3144.68994140625,
          3091.854248046875,
          2988.38134765625,
          2841.43017578125,
          2705.738037109375,
          2596.780029296875,
          2520.728271484375,
          2474.576904296875,
          2445.822265625,
          2440.978515625,
          2459.345947265625,
          2488.247314453125,
          2525.812744140625,
          2575.360595703125,
          2614.34814453125,
          2637.76953125,
          2683.662109375,
          2749.45556640625,
          2820.6923828125,
          2892.12451171875,
          2951.06787109375,
          3007.298828125,
          3037.508544921875,
          3025.64990234375,
          2987.513427734375,
          2938.635009765625,
          2900.177490234375,
          2907.455810546875,
          2941.031005859375,
          2951.26318359375,
          2921.6923828125,
          2869.1455078125,
          2798.973388671875,
          2721.88330078125,
          2660.93017578125,
          2616.349609375,
          2587.643798828125,
          2591.379638671875,
          2619.087646484375,
          2635.032958984375,
          2667.9453125,
          2722.505859375,
          2778.983154296875,
          2810.57275390625,
          2793.17529296875,
          2749.746826171875,
          2691.03662109375,
          2625.823974609375,
          2576.60009765625,
          2565.907958984375,
          2570.298583984375,
          2569.547607421875,
          2562.667236328125,
          2547.62353515625,
          2537.554931640625,
          2538.6083984375,
          2565.013916015625,
          2610.807373046875,
          2674.46826171875,
          2741.55322265625,
          2787.720458984375,
          2813.575439453125,
          2835.17333984375,
          2863.70947265625,
          2903.59130859375,
          2944.512939453125,
          2982.889892578125,
          3032.289794921875,
          3089.53955078125,
          3150.329833984375,
          3202.367431640625,
          3227.21875,
          3250.264404296875,
          3275.22509765625,
          3307.184814453125,
          3339.69384765625,
          3352.7978515625,
          3320.1484375,
          3267.555908203125,
          3214.25146484375,
          3179.3125,
          3156.861328125,
          3115.505615234375,
          3066.753662109375,
          3035.0458984375,
          3011.626220703125,
          2994.639404296875,
          2985.612548828125,
          2974.301513671875,
          2968.341064453125,
          2973.994873046875,
          2983.760498046875,
          2981.46630859375,
          2966.167724609375,
          2942.537841796875,
          2917.0947265625,
          2905.351806640625,
          2883.76220703125,
          2861.599609375,
          2851.069580078125,
          2837.400146484375,
          2808.595458984375,
          2783.561279296875,
          2773.216064453125,
          2765.975341796875,
          2776.228759765625,
          2777.17626953125,
          2758.440185546875,
          2722.505615234375,
          2669.06591796875,
          2578.75927734375,
          2485.4970703125,
          2383.47314453125,
          2271.397705078125,
          2171.966796875,
          2103.7314453125,
          2075.960693359375,
          2063.666259765625,
          2061.531005859375,
          2045.7823486328125,
          2028.4566650390625,
          2010.4791259765625,
          1995.380859375,
          1992.267578125,
          1991.517822265625,
          1989.6522216796875,
          1982.7872314453125,
          1956.10986328125,
          1909.5592041015625,
          1864.15380859375,
          1833.4447021484375,
          1838.2274169921875,
          1862.9866943359375,
          1877.4664306640625,
          1877.636474609375,
          1863.217529296875,
          1845.015380859375,
          1829.9730224609375,
          1825.919921875,
          1825.91650390625,
          1823.5078125,
          1818.1937255859375,
          1798.067138671875,
          1753.6904296875,
          1687.10302734375,
          1591.7432861328125,
          1487.2706298828125,
          1398.1671142578125,
          1317.248779296875,
          1248.250732421875,
          1186.133544921875,
          1146.8466796875,
          1131.0548095703125,
          1130.3902587890625,
          1128.4805908203125,
          1130.7689208984375,
          1146.661865234375,
          1173.7470703125,
          1198.507080078125,
          1214.603515625,
          1217.21044921875,
          1205.7679443359375,
          1183.9012451171875,
          1157.966552734375,
          1134.7794189453125,
          1118.534423828125,
          1117.283447265625,
          1125.793701171875,
          1142.7987060546875,
          1168.453369140625,
          1194.2459716796875,
          1214.8973388671875,
          1223.872802734375,
          1215.4481201171875,
          1189.8165283203125,
          1164.64013671875,
          1156.363525390625,
          1167.5228271484375,
          1202.445068359375,
          1247.6029052734375,
          1315.1610107421875,
          1389.410888671875,
          1451.588623046875,
          1500.3226318359375,
          1531.75634765625,
          1549.645751953125,
          1564.0369873046875,
          1560.7657470703125,
          1543.3074951171875,
          1540.9185791015625,
          1566.699951171875,
          1608.5218505859375,
          1648.1339111328125,
          1675.08251953125,
          1683.9327392578125,
          1679.9066162109375,
          1669.123291015625,
          1655.818603515625,
          1657.4140625,
          1668.1630859375,
          1681.5355224609375,
          1701.5565185546875
         ]
        },
        {
         "mode": "lines+markers",
         "name": "Next 30_days prediction",
         "type": "scatter",
         "x": [
          "2022-08-10T01:59:59.999000",
          "2022-08-11T01:59:59.999000",
          "2022-08-12T01:59:59.999000",
          "2022-08-13T01:59:59.999000",
          "2022-08-14T01:59:59.999000",
          "2022-08-15T01:59:59.999000",
          "2022-08-16T01:59:59.999000",
          "2022-08-17T01:59:59.999000",
          "2022-08-18T01:59:59.999000",
          "2022-08-19T01:59:59.999000",
          "2022-08-20T01:59:59.999000",
          "2022-08-21T01:59:59.999000",
          "2022-08-22T01:59:59.999000",
          "2022-08-23T01:59:59.999000",
          "2022-08-24T01:59:59.999000",
          "2022-08-25T01:59:59.999000",
          "2022-08-26T01:59:59.999000",
          "2022-08-27T01:59:59.999000",
          "2022-08-28T01:59:59.999000",
          "2022-08-29T01:59:59.999000",
          "2022-08-30T01:59:59.999000",
          "2022-08-31T01:59:59.999000",
          "2022-09-01T01:59:59.999000",
          "2022-09-02T01:59:59.999000",
          "2022-09-03T01:59:59.999000",
          "2022-09-04T01:59:59.999000",
          "2022-09-05T01:59:59.999000",
          "2022-09-06T01:59:59.999000",
          "2022-09-07T01:59:59.999000",
          "2022-09-08T01:59:59.999000"
         ],
         "y": [
          1737.1529185831544,
          1752.1386149096486,
          1760.1195914590357,
          1763.9328216898439,
          1766.1697365438936,
          1768.2106679213045,
          1770.3087611460683,
          1772.455005483627,
          1774.6879781413077,
          1776.864915293455,
          1779.0984511220454,
          1781.259337903261,
          1783.365597106218,
          1785.4521453273294,
          1787.5206720793244,
          1789.5666719949243,
          1791.5876108050345,
          1793.5829253387449,
          1795.5543051087855,
          1797.501750115156,
          1799.4249787724016,
          1801.325680593252,
          1803.2032924067971,
          1805.0572510421273,
          1806.889246011972,
          1808.6987141454217,
          1810.485937027931,
          1812.2514778304098,
          1813.9953365528581,
          1815.717513195276
         ]
        }
       ],
       "layout": {
        "autosize": false,
        "height": 1000,
        "margin": {
         "b": 100,
         "l": 50,
         "pad": 4,
         "r": 50,
         "t": 100
        },
        "template": {
         "data": {
          "bar": [
           {
            "error_x": {
             "color": "#2a3f5f"
            },
            "error_y": {
             "color": "#2a3f5f"
            },
            "marker": {
             "line": {
              "color": "#E5ECF6",
              "width": 0.5
             },
             "pattern": {
              "fillmode": "overlay",
              "size": 10,
              "solidity": 0.2
             }
            },
            "type": "bar"
           }
          ],
          "barpolar": [
           {
            "marker": {
             "line": {
              "color": "#E5ECF6",
              "width": 0.5
             },
             "pattern": {
              "fillmode": "overlay",
              "size": 10,
              "solidity": 0.2
             }
            },
            "type": "barpolar"
           }
          ],
          "carpet": [
           {
            "aaxis": {
             "endlinecolor": "#2a3f5f",
             "gridcolor": "white",
             "linecolor": "white",
             "minorgridcolor": "white",
             "startlinecolor": "#2a3f5f"
            },
            "baxis": {
             "endlinecolor": "#2a3f5f",
             "gridcolor": "white",
             "linecolor": "white",
             "minorgridcolor": "white",
             "startlinecolor": "#2a3f5f"
            },
            "type": "carpet"
           }
          ],
          "choropleth": [
           {
            "colorbar": {
             "outlinewidth": 0,
             "ticks": ""
            },
            "type": "choropleth"
           }
          ],
          "contour": [
           {
            "colorbar": {
             "outlinewidth": 0,
             "ticks": ""
            },
            "colorscale": [
             [
              0,
              "#0d0887"
             ],
             [
              0.1111111111111111,
              "#46039f"
             ],
             [
              0.2222222222222222,
              "#7201a8"
             ],
             [
              0.3333333333333333,
              "#9c179e"
             ],
             [
              0.4444444444444444,
              "#bd3786"
             ],
             [
              0.5555555555555556,
              "#d8576b"
             ],
             [
              0.6666666666666666,
              "#ed7953"
             ],
             [
              0.7777777777777778,
              "#fb9f3a"
             ],
             [
              0.8888888888888888,
              "#fdca26"
             ],
             [
              1,
              "#f0f921"
             ]
            ],
            "type": "contour"
           }
          ],
          "contourcarpet": [
           {
            "colorbar": {
             "outlinewidth": 0,
             "ticks": ""
            },
            "type": "contourcarpet"
           }
          ],
          "heatmap": [
           {
            "colorbar": {
             "outlinewidth": 0,
             "ticks": ""
            },
            "colorscale": [
             [
              0,
              "#0d0887"
             ],
             [
              0.1111111111111111,
              "#46039f"
             ],
             [
              0.2222222222222222,
              "#7201a8"
             ],
             [
              0.3333333333333333,
              "#9c179e"
             ],
             [
              0.4444444444444444,
              "#bd3786"
             ],
             [
              0.5555555555555556,
              "#d8576b"
             ],
             [
              0.6666666666666666,
              "#ed7953"
             ],
             [
              0.7777777777777778,
              "#fb9f3a"
             ],
             [
              0.8888888888888888,
              "#fdca26"
             ],
             [
              1,
              "#f0f921"
             ]
            ],
            "type": "heatmap"
           }
          ],
          "heatmapgl": [
           {
            "colorbar": {
             "outlinewidth": 0,
             "ticks": ""
            },
            "colorscale": [
             [
              0,
              "#0d0887"
             ],
             [
              0.1111111111111111,
              "#46039f"
             ],
             [
              0.2222222222222222,
              "#7201a8"
             ],
             [
              0.3333333333333333,
              "#9c179e"
             ],
             [
              0.4444444444444444,
              "#bd3786"
             ],
             [
              0.5555555555555556,
              "#d8576b"
             ],
             [
              0.6666666666666666,
              "#ed7953"
             ],
             [
              0.7777777777777778,
              "#fb9f3a"
             ],
             [
              0.8888888888888888,
              "#fdca26"
             ],
             [
              1,
              "#f0f921"
             ]
            ],
            "type": "heatmapgl"
           }
          ],
          "histogram": [
           {
            "marker": {
             "pattern": {
              "fillmode": "overlay",
              "size": 10,
              "solidity": 0.2
             }
            },
            "type": "histogram"
           }
          ],
          "histogram2d": [
           {
            "colorbar": {
             "outlinewidth": 0,
             "ticks": ""
            },
            "colorscale": [
             [
              0,
              "#0d0887"
             ],
             [
              0.1111111111111111,
              "#46039f"
             ],
             [
              0.2222222222222222,
              "#7201a8"
             ],
             [
              0.3333333333333333,
              "#9c179e"
             ],
             [
              0.4444444444444444,
              "#bd3786"
             ],
             [
              0.5555555555555556,
              "#d8576b"
             ],
             [
              0.6666666666666666,
              "#ed7953"
             ],
             [
              0.7777777777777778,
              "#fb9f3a"
             ],
             [
              0.8888888888888888,
              "#fdca26"
             ],
             [
              1,
              "#f0f921"
             ]
            ],
            "type": "histogram2d"
           }
          ],
          "histogram2dcontour": [
           {
            "colorbar": {
             "outlinewidth": 0,
             "ticks": ""
            },
            "colorscale": [
             [
              0,
              "#0d0887"
             ],
             [
              0.1111111111111111,
              "#46039f"
             ],
             [
              0.2222222222222222,
              "#7201a8"
             ],
             [
              0.3333333333333333,
              "#9c179e"
             ],
             [
              0.4444444444444444,
              "#bd3786"
             ],
             [
              0.5555555555555556,
              "#d8576b"
             ],
             [
              0.6666666666666666,
              "#ed7953"
             ],
             [
              0.7777777777777778,
              "#fb9f3a"
             ],
             [
              0.8888888888888888,
              "#fdca26"
             ],
             [
              1,
              "#f0f921"
             ]
            ],
            "type": "histogram2dcontour"
           }
          ],
          "mesh3d": [
           {
            "colorbar": {
             "outlinewidth": 0,
             "ticks": ""
            },
            "type": "mesh3d"
           }
          ],
          "parcoords": [
           {
            "line": {
             "colorbar": {
              "outlinewidth": 0,
              "ticks": ""
             }
            },
            "type": "parcoords"
           }
          ],
          "pie": [
           {
            "automargin": true,
            "type": "pie"
           }
          ],
          "scatter": [
           {
            "fillpattern": {
             "fillmode": "overlay",
             "size": 10,
             "solidity": 0.2
            },
            "type": "scatter"
           }
          ],
          "scatter3d": [
           {
            "line": {
             "colorbar": {
              "outlinewidth": 0,
              "ticks": ""
             }
            },
            "marker": {
             "colorbar": {
              "outlinewidth": 0,
              "ticks": ""
             }
            },
            "type": "scatter3d"
           }
          ],
          "scattercarpet": [
           {
            "marker": {
             "colorbar": {
              "outlinewidth": 0,
              "ticks": ""
             }
            },
            "type": "scattercarpet"
           }
          ],
          "scattergeo": [
           {
            "marker": {
             "colorbar": {
              "outlinewidth": 0,
              "ticks": ""
             }
            },
            "type": "scattergeo"
           }
          ],
          "scattergl": [
           {
            "marker": {
             "colorbar": {
              "outlinewidth": 0,
              "ticks": ""
             }
            },
            "type": "scattergl"
           }
          ],
          "scattermapbox": [
           {
            "marker": {
             "colorbar": {
              "outlinewidth": 0,
              "ticks": ""
             }
            },
            "type": "scattermapbox"
           }
          ],
          "scatterpolar": [
           {
            "marker": {
             "colorbar": {
              "outlinewidth": 0,
              "ticks": ""
             }
            },
            "type": "scatterpolar"
           }
          ],
          "scatterpolargl": [
           {
            "marker": {
             "colorbar": {
              "outlinewidth": 0,
              "ticks": ""
             }
            },
            "type": "scatterpolargl"
           }
          ],
          "scatterternary": [
           {
            "marker": {
             "colorbar": {
              "outlinewidth": 0,
              "ticks": ""
             }
            },
            "type": "scatterternary"
           }
          ],
          "surface": [
           {
            "colorbar": {
             "outlinewidth": 0,
             "ticks": ""
            },
            "colorscale": [
             [
              0,
              "#0d0887"
             ],
             [
              0.1111111111111111,
              "#46039f"
             ],
             [
              0.2222222222222222,
              "#7201a8"
             ],
             [
              0.3333333333333333,
              "#9c179e"
             ],
             [
              0.4444444444444444,
              "#bd3786"
             ],
             [
              0.5555555555555556,
              "#d8576b"
             ],
             [
              0.6666666666666666,
              "#ed7953"
             ],
             [
              0.7777777777777778,
              "#fb9f3a"
             ],
             [
              0.8888888888888888,
              "#fdca26"
             ],
             [
              1,
              "#f0f921"
             ]
            ],
            "type": "surface"
           }
          ],
          "table": [
           {
            "cells": {
             "fill": {
              "color": "#EBF0F8"
             },
             "line": {
              "color": "white"
             }
            },
            "header": {
             "fill": {
              "color": "#C8D4E3"
             },
             "line": {
              "color": "white"
             }
            },
            "type": "table"
           }
          ]
         },
         "layout": {
          "annotationdefaults": {
           "arrowcolor": "#2a3f5f",
           "arrowhead": 0,
           "arrowwidth": 1
          },
          "autotypenumbers": "strict",
          "coloraxis": {
           "colorbar": {
            "outlinewidth": 0,
            "ticks": ""
           }
          },
          "colorscale": {
           "diverging": [
            [
             0,
             "#8e0152"
            ],
            [
             0.1,
             "#c51b7d"
            ],
            [
             0.2,
             "#de77ae"
            ],
            [
             0.3,
             "#f1b6da"
            ],
            [
             0.4,
             "#fde0ef"
            ],
            [
             0.5,
             "#f7f7f7"
            ],
            [
             0.6,
             "#e6f5d0"
            ],
            [
             0.7,
             "#b8e186"
            ],
            [
             0.8,
             "#7fbc41"
            ],
            [
             0.9,
             "#4d9221"
            ],
            [
             1,
             "#276419"
            ]
           ],
           "sequential": [
            [
             0,
             "#0d0887"
            ],
            [
             0.1111111111111111,
             "#46039f"
            ],
            [
             0.2222222222222222,
             "#7201a8"
            ],
            [
             0.3333333333333333,
             "#9c179e"
            ],
            [
             0.4444444444444444,
             "#bd3786"
            ],
            [
             0.5555555555555556,
             "#d8576b"
            ],
            [
             0.6666666666666666,
             "#ed7953"
            ],
            [
             0.7777777777777778,
             "#fb9f3a"
            ],
            [
             0.8888888888888888,
             "#fdca26"
            ],
            [
             1,
             "#f0f921"
            ]
           ],
           "sequentialminus": [
            [
             0,
             "#0d0887"
            ],
            [
             0.1111111111111111,
             "#46039f"
            ],
            [
             0.2222222222222222,
             "#7201a8"
            ],
            [
             0.3333333333333333,
             "#9c179e"
            ],
            [
             0.4444444444444444,
             "#bd3786"
            ],
            [
             0.5555555555555556,
             "#d8576b"
            ],
            [
             0.6666666666666666,
             "#ed7953"
            ],
            [
             0.7777777777777778,
             "#fb9f3a"
            ],
            [
             0.8888888888888888,
             "#fdca26"
            ],
            [
             1,
             "#f0f921"
            ]
           ]
          },
          "colorway": [
           "#636efa",
           "#EF553B",
           "#00cc96",
           "#ab63fa",
           "#FFA15A",
           "#19d3f3",
           "#FF6692",
           "#B6E880",
           "#FF97FF",
           "#FECB52"
          ],
          "font": {
           "color": "#2a3f5f"
          },
          "geo": {
           "bgcolor": "white",
           "lakecolor": "white",
           "landcolor": "#E5ECF6",
           "showlakes": true,
           "showland": true,
           "subunitcolor": "white"
          },
          "hoverlabel": {
           "align": "left"
          },
          "hovermode": "closest",
          "mapbox": {
           "style": "light"
          },
          "paper_bgcolor": "white",
          "plot_bgcolor": "#E5ECF6",
          "polar": {
           "angularaxis": {
            "gridcolor": "white",
            "linecolor": "white",
            "ticks": ""
           },
           "bgcolor": "#E5ECF6",
           "radialaxis": {
            "gridcolor": "white",
            "linecolor": "white",
            "ticks": ""
           }
          },
          "scene": {
           "xaxis": {
            "backgroundcolor": "#E5ECF6",
            "gridcolor": "white",
            "gridwidth": 2,
            "linecolor": "white",
            "showbackground": true,
            "ticks": "",
            "zerolinecolor": "white"
           },
           "yaxis": {
            "backgroundcolor": "#E5ECF6",
            "gridcolor": "white",
            "gridwidth": 2,
            "linecolor": "white",
            "showbackground": true,
            "ticks": "",
            "zerolinecolor": "white"
           },
           "zaxis": {
            "backgroundcolor": "#E5ECF6",
            "gridcolor": "white",
            "gridwidth": 2,
            "linecolor": "white",
            "showbackground": true,
            "ticks": "",
            "zerolinecolor": "white"
           }
          },
          "shapedefaults": {
           "line": {
            "color": "#2a3f5f"
           }
          },
          "ternary": {
           "aaxis": {
            "gridcolor": "white",
            "linecolor": "white",
            "ticks": ""
           },
           "baxis": {
            "gridcolor": "white",
            "linecolor": "white",
            "ticks": ""
           },
           "bgcolor": "#E5ECF6",
           "caxis": {
            "gridcolor": "white",
            "linecolor": "white",
            "ticks": ""
           }
          },
          "title": {
           "x": 0.05
          },
          "xaxis": {
           "automargin": true,
           "gridcolor": "white",
           "linecolor": "white",
           "ticks": "",
           "title": {
            "standoff": 15
           },
           "zerolinecolor": "white",
           "zerolinewidth": 2
          },
          "yaxis": {
           "automargin": true,
           "gridcolor": "white",
           "linecolor": "white",
           "ticks": "",
           "title": {
            "standoff": 15
           },
           "zerolinecolor": "white",
           "zerolinewidth": 2
          }
         }
        },
        "width": 2000,
        "xaxis": {
         "autorange": true,
         "linecolor": "black",
         "linewidth": 1,
         "mirror": true,
         "range": [
          "2021-12-17 11:18:13.288",
          "2022-09-22 15:41:46.71"
         ],
         "type": "date"
        },
        "yaxis": {
         "autorange": true,
         "linecolor": "black",
         "linewidth": 1,
         "mirror": true,
         "range": [
          821.1652631578947,
          4002.234736842105
         ],
         "type": "linear"
        }
       }
      },
      "image/png": "[encoded data removed]",
      "text/html": [
       "<div>                            <div id=\"49830435-6ac4-4567-a8f1-010f4a2b760e\" class=\"plotly-graph-div\" style=\"height:1000px; width:2000px;\"></div>            <script type=\"text/javascript\">                require([\"plotly\"], function(Plotly) {                    window.PLOTLYENV=window.PLOTLYENV || {};                                    if (document.getElementById(\"49830435-6ac4-4567-a8f1-010f4a2b760e\")) {                    Plotly.newPlot(                        \"49830435-6ac4-4567-a8f1-010f4a2b760e\",                        [{\"mode\":\"lines+markers\",\"name\":\"Actual\",\"x\":[\"2022-01-01T00:59:59.999000\",\"2022-01-02T00:59:59.999000\",\"2022-01-03T00:59:59.999000\",\"2022-01-04T00:59:59.999000\",\"2022-01-05T00:59:59.999000\",\"2022-01-06T00:59:59.999000\",\"2022-01-07T00:59:59.999000\",\"2022-01-08T00:59:59.999000\",\"2022-01-09T00:59:59.999000\",\"2022-01-10T00:59:59.999000\",\"2022-01-11T00:59:59.999000\",\"2022-01-12T00:59:59.999000\",\"2022-01-13T00:59:59.999000\",\"2022-01-14T00:59:59.999000\",\"2022-01-15T00:59:59.999000\",\"2022-01-16T00:59:59.999000\",\"2022-01-17T00:59:59.999000\",\"2022-01-18T00:59:59.999000\",\"2022-01-19T00:59:59.999000\",\"2022-01-20T00:59:59.999000\",\"2022-01-21T00:59:59.999000\",\"2022-01-22T00:59:59.999000\",\"2022-01-23T00:59:59.999000\",\"2022-01-24T00:59:59.999000\",\"2022-01-25T00:59:59.999000\",\"2022-01-26T00:59:59.999000\",\"2022-01-27T00:59:59.999000\",\"2022-01-28T00:59:59.999000\",\"2022-01-29T00:59:59.999000\",\"2022-01-30T00:59:59.999000\",\"2022-01-31T00:59:59.999000\",\"2022-02-01T00:59:59.999000\",\"2022-02-02T00:59:59.999000\",\"2022-02-03T00:59:59.999000\",\"2022-02-04T00:59:59.999000\",\"2022-02-05T00:59:59.999000\",\"2022-02-06T00:59:59.999000\",\"2022-02-07T00:59:59.999000\",\"2022-02-08T00:59:59.999000\",\"2022-02-09T00:59:59.999000\",\"2022-02-10T00:59:59.999000\",\"2022-02-11T00:59:59.999000\",\"2022-02-12T00:59:59.999000\",\"2022-02-13T00:59:59.999000\",\"2022-02-14T00:59:59.999000\",\"2022-02-15T00:59:59.999000\",\"2022-02-16T00:59:59.999000\",\"2022-02-17T00:59:59.999000\",\"2022-02-18T00:59:59.999000\",\"2022-02-19T00:59:59.999000\",\"2022-02-20T00:59:59.999000\",\"2022-02-21T00:59:59.999000\",\"2022-02-22T00:59:59.999000\",\"2022-02-23T00:59:59.999000\",\"2022-02-24T00:59:59.999000\",\"2022-02-25T00:59:59.999000\",\"2022-02-26T00:59:59.999000\",\"2022-02-27T00:59:59.999000\",\"2022-02-28T00:59:59.999000\",\"2022-03-01T00:59:59.999000\",\"2022-03-02T00:59:59.999000\",\"2022-03-03T00:59:59.999000\",\"2022-03-04T00:59:59.999000\",\"2022-03-05T00:59:59.999000\",\"2022-03-06T00:59:59.999000\",\"2022-03-07T00:59:59.999000\",\"2022-03-08T00:59:59.999000\",\"2022-03-09T00:59:59.999000\",\"2022-03-10T00:59:59.999000\",\"2022-03-11T00:59:59.999000\",\"2022-03-12T00:59:59.999000\",\"2022-03-13T00:59:59.999000\",\"2022-03-14T00:59:59.999000\",\"2022-03-15T00:59:59.999000\",\"2022-03-16T00:59:59.999000\",\"2022-03-17T00:59:59.999000\",\"2022-03-18T00:59:59.999000\",\"2022-03-19T00:59:59.999000\",\"2022-03-20T00:59:59.999000\",\"2022-03-21T00:59:59.999000\",\"2022-03-22T00:59:59.999000\",\"2022-03-23T00:59:59.999000\",\"2022-03-24T00:59:59.999000\",\"2022-03-25T00:59:59.999000\",\"2022-03-26T01:59:59.999000\",\"2022-03-27T01:59:59.999000\",\"2022-03-28T01:59:59.999000\",\"2022-03-29T01:59:59.999000\",\"2022-03-30T01:59:59.999000\",\"2022-03-31T01:59:59.999000\",\"2022-04-01T01:59:59.999000\",\"2022-04-02T01:59:59.999000\",\"2022-04-03T01:59:59.999000\",\"2022-04-04T01:59:59.999000\",\"2022-04-05T01:59:59.999000\",\"2022-04-06T01:59:59.999000\",\"2022-04-07T01:59:59.999000\",\"2022-04-08T01:59:59.999000\",\"2022-04-09T01:59:59.999000\",\"2022-04-10T01:59:59.999000\",\"2022-04-11T01:59:59.999000\",\"2022-04-12T01:59:59.999000\",\"2022-04-13T01:59:59.999000\",\"2022-04-14T01:59:59.999000\",\"2022-04-15T01:59:59.999000\",\"2022-04-16T01:59:59.999000\",\"2022-04-17T01:59:59.999000\",\"2022-04-18T01:59:59.999000\",\"2022-04-19T01:59:59.999000\",\"2022-04-20T01:59:59.999000\",\"2022-04-21T01:59:59.999000\",\"2022-04-22T01:59:59.999000\",\"2022-04-23T01:59:59.999000\",\"2022-04-24T01:59:59.999000\",\"2022-04-25T01:59:59.999000\",\"2022-04-26T01:59:59.999000\",\"2022-04-27T01:59:59.999000\",\"2022-04-28T01:59:59.999000\",\"2022-04-29T01:59:59.999000\",\"2022-04-30T01:59:59.999000\",\"2022-05-01T01:59:59.999000\",\"2022-05-02T01:59:59.999000\",\"2022-05-03T01:59:59.999000\",\"2022-05-04T01:59:59.999000\",\"2022-05-05T01:59:59.999000\",\"2022-05-06T01:59:59.999000\",\"2022-05-07T01:59:59.999000\",\"2022-05-08T01:59:59.999000\",\"2022-05-09T01:59:59.999000\",\"2022-05-10T01:59:59.999000\",\"2022-05-11T01:59:59.999000\",\"2022-05-12T01:59:59.999000\",\"2022-05-13T01:59:59.999000\",\"2022-05-14T01:59:59.999000\",\"2022-05-15T01:59:59.999000\",\"2022-05-16T01:59:59.999000\",\"2022-05-17T01:59:59.999000\",\"2022-05-18T01:59:59.999000\",\"2022-05-19T01:59:59.999000\",\"2022-05-20T01:59:59.999000\",\"2022-05-21T01:59:59.999000\",\"2022-05-22T01:59:59.999000\",\"2022-05-23T01:59:59.999000\",\"2022-05-24T01:59:59.999000\",\"2022-05-25T01:59:59.999000\",\"2022-05-26T01:59:59.999000\",\"2022-05-27T01:59:59.999000\",\"2022-05-28T01:59:59.999000\",\"2022-05-29T01:59:59.999000\",\"2022-05-30T01:59:59.999000\",\"2022-05-31T01:59:59.999000\",\"2022-06-01T01:59:59.999000\",\"2022-06-02T01:59:59.999000\",\"2022-06-03T01:59:59.999000\",\"2022-06-04T01:59:59.999000\",\"2022-06-05T01:59:59.999000\",\"2022-06-06T01:59:59.999000\",\"2022-06-07T01:59:59.999000\",\"2022-06-08T01:59:59.999000\",\"2022-06-09T01:59:59.999000\",\"2022-06-10T01:59:59.999000\",\"2022-06-11T01:59:59.999000\",\"2022-06-12T01:59:59.999000\",\"2022-06-13T01:59:59.999000\",\"2022-06-14T01:59:59.999000\",\"2022-06-15T01:59:59.999000\",\"2022-06-16T01:59:59.999000\",\"2022-06-17T01:59:59.999000\",\"2022-06-18T01:59:59.999000\",\"2022-06-19T01:59:59.999000\",\"2022-06-20T01:59:59.999000\",\"2022-06-21T01:59:59.999000\",\"2022-06-22T01:59:59.999000\",\"2022-06-23T01:59:59.999000\",\"2022-06-24T01:59:59.999000\",\"2022-06-25T01:59:59.999000\",\"2022-06-26T01:59:59.999000\",\"2022-06-27T01:59:59.999000\",\"2022-06-28T01:59:59.999000\",\"2022-06-29T01:59:59.999000\",\"2022-06-30T01:59:59.999000\",\"2022-07-01T01:59:59.999000\",\"2022-07-02T01:59:59.999000\",\"2022-07-03T01:59:59.999000\",\"2022-07-04T01:59:59.999000\",\"2022-07-05T01:59:59.999000\",\"2022-07-06T01:59:59.999000\",\"2022-07-07T01:59:59.999000\",\"2022-07-08T01:59:59.999000\",\"2022-07-09T01:59:59.999000\",\"2022-07-10T01:59:59.999000\",\"2022-07-11T01:59:59.999000\",\"2022-07-12T01:59:59.999000\",\"2022-07-13T01:59:59.999000\",\"2022-07-14T01:59:59.999000\",\"2022-07-15T01:59:59.999000\",\"2022-07-16T01:59:59.999000\",\"2022-07-17T01:59:59.999000\",\"2022-07-18T01:59:59.999000\",\"2022-07-19T01:59:59.999000\",\"2022-07-20T01:59:59.999000\",\"2022-07-21T01:59:59.999000\",\"2022-07-22T01:59:59.999000\",\"2022-07-23T01:59:59.999000\",\"2022-07-24T01:59:59.999000\",\"2022-07-25T01:59:59.999000\",\"2022-07-26T01:59:59.999000\",\"2022-07-27T01:59:59.999000\",\"2022-07-28T01:59:59.999000\",\"2022-07-29T01:59:59.999000\",\"2022-07-30T01:59:59.999000\",\"2022-07-31T01:59:59.999000\",\"2022-08-01T01:59:59.999000\",\"2022-08-02T01:59:59.999000\",\"2022-08-03T01:59:59.999000\",\"2022-08-04T01:59:59.999000\",\"2022-08-05T01:59:59.999000\",\"2022-08-06T01:59:59.999000\",\"2022-08-07T01:59:59.999000\",\"2022-08-08T01:59:59.999000\"],\"y\":[3828.27,3765.89,3785.11,3540.63,3406.81,3199.24,3080.95,3151.97,3082.68,3239.72,3371.26,3240.61,3307.42,3326.04,3346.88,3209.67,3159.85,3084.02,3001.48,2568.15,2412.18,2539.01,2439.29,2458.83,2462.99,2424.25,2544.99,2601.43,2601.68,2686.94,2787.23,2680.67,2695.46,2994.99,3012.65,3054.99,3139.77,3116.69,3243.94,3072.49,2927.54,2918.88,2871.13,2929.75,3183.52,3122.3,2891.87,2779.48,2763.63,2621.99,2568.02,2636.29,2579.71,2596.2,2768.49,2779.47,2616.79,2920.95,2976.33,2947.3,2833.99,2622.1,2665.15,2551.29,2491.12,2575.97,2726.98,2606.7,2556.86,2568.8,2515.65,2589.41,2617.73,2773.81,2811.92,2938.92,2950.84,2861.38,2890.03,2969.64,3036.0,3110.76,3102.14,3145.0,3295.65,3332.92,3400.51,3385.79,3281.51,3455.21,3443.77,3521.91,3519.5,3406.99,3168.51,3227.19,3192.39,3258.57,3203.04,2979.74,3027.66,3118.28,3021.98,3040.56,3059.3,2988.06,3055.56,3101.77,3076.04,2983.58,2962.39,2933.03,2921.0,3006.62,2809.67,2888.96,2936.93,2817.13,2726.66,2824.81,2856.54,2781.7,2940.64,2747.97,2692.85,2635.34,2519.71,2228.55,2342.05,2084.99,1960.22,2009.69,2056.48,2145.29,2023.66,2090.72,1915.11,2019.55,1959.08,1975.07,2043.19,1973.32,1979.41,1942.63,1792.23,1727.27,1792.22,1813.64,1998.78,1941.9,1817.95,1834.08,1775.12,1804.58,1806.23,1859.84,1813.33,1791.88,1788.81,1662.91,1532.89,1434.84,1209.82,1208.9,1237.52,1068.5,1086.94,995.13,1128.53,1128.24,1125.85,1050.19,1144.72,1225.02,1242.36,1197.79,1192.51,1144.05,1100.21,1071.01,1059.73,1067.01,1074.26,1151.0,1132.5,1186.57,1237.49,1214.04,1217.02,1168.36,1096.4,1038.58,1115.0,1193.42,1231.25,1355.85,1338.65,1581.04,1542.32,1521.58,1575.45,1535.27,1548.67,1597.7,1440.79,1449.12,1635.74,1724.52,1721.68,1697.0,1678.12,1630.28,1630.91,1618.16,1607.96,1736.81,1690.6,1700.19,1777.05,1702.76],\"type\":\"scatter\"},{\"mode\":\"lines+markers\",\"name\":\"Prediction\",\"x\":[\"2022-01-01T00:59:59.999000\",\"2022-01-02T00:59:59.999000\",\"2022-01-03T00:59:59.999000\",\"2022-01-04T00:59:59.999000\",\"2022-01-05T00:59:59.999000\",\"2022-01-06T00:59:59.999000\",\"2022-01-07T00:59:59.999000\",\"2022-01-08T00:59:59.999000\",\"2022-01-09T00:59:59.999000\",\"2022-01-10T00:59:59.999000\",\"2022-01-11T00:59:59.999000\",\"2022-01-12T00:59:59.999000\",\"2022-01-13T00:59:59.999000\",\"2022-01-14T00:59:59.999000\",\"2022-01-15T00:59:59.999000\",\"2022-01-16T00:59:59.999000\",\"2022-01-17T00:59:59.999000\",\"2022-01-18T00:59:59.999000\",\"2022-01-19T00:59:59.999000\",\"2022-01-20T00:59:59.999000\",\"2022-01-21T00:59:59.999000\",\"2022-01-22T00:59:59.999000\",\"2022-01-23T00:59:59.999000\",\"2022-01-24T00:59:59.999000\",\"2022-01-25T00:59:59.999000\",\"2022-01-26T00:59:59.999000\",\"2022-01-27T00:59:59.999000\",\"2022-01-28T00:59:59.999000\",\"2022-01-29T00:59:59.999000\",\"2022-01-30T00:59:59.999000\",\"2022-01-31T00:59:59.999000\",\"2022-02-01T00:59:59.999000\",\"2022-02-02T00:59:59.999000\",\"2022-02-03T00:59:59.999000\",\"2022-02-04T00:59:59.999000\",\"2022-02-05T00:59:59.999000\",\"2022-02-06T00:59:59.999000\",\"2022-02-07T00:59:59.999000\",\"2022-02-08T00:59:59.999000\",\"2022-02-09T00:59:59.999000\",\"2022-02-10T00:59:59.999000\",\"2022-02-11T00:59:59.999000\",\"2022-02-12T00:59:59.999000\",\"2022-02-13T00:59:59.999000\",\"2022-02-14T00:59:59.999000\",\"2022-02-15T00:59:59.999000\",\"2022-02-16T00:59:59.999000\",\"2022-02-17T00:59:59.999000\",\"2022-02-18T00:59:59.999000\",\"2022-02-19T00:59:59.999000\",\"2022-02-20T00:59:59.999000\",\"2022-02-21T00:59:59.999000\",\"2022-02-22T00:59:59.999000\",\"2022-02-23T00:59:59.999000\",\"2022-02-24T00:59:59.999000\",\"2022-02-25T00:59:59.999000\",\"2022-02-26T00:59:59.999000\",\"2022-02-27T00:59:59.999000\",\"2022-02-28T00:59:59.999000\",\"2022-03-01T00:59:59.999000\",\"2022-03-02T00:59:59.999000\",\"2022-03-03T00:59:59.999000\",\"2022-03-04T00:59:59.999000\",\"2022-03-05T00:59:59.999000\",\"2022-03-06T00:59:59.999000\",\"2022-03-07T00:59:59.999000\",\"2022-03-08T00:59:59.999000\",\"2022-03-09T00:59:59.999000\",\"2022-03-10T00:59:59.999000\",\"2022-03-11T00:59:59.999000\",\"2022-03-12T00:59:59.999000\",\"2022-03-13T00:59:59.999000\",\"2022-03-14T00:59:59.999000\",\"2022-03-15T00:59:59.999000\",\"2022-03-16T00:59:59.999000\",\"2022-03-17T00:59:59.999000\",\"2022-03-18T00:59:59.999000\",\"2022-03-19T00:59:59.999000\",\"2022-03-20T00:59:59.999000\",\"2022-03-21T00:59:59.999000\",\"2022-03-22T00:59:59.999000\",\"2022-03-23T00:59:59.999000\",\"2022-03-24T00:59:59.999000\",\"2022-03-25T00:59:59.999000\",\"2022-03-26T01:59:59.999000\",\"2022-03-27T01:59:59.999000\",\"2022-03-28T01:59:59.999000\",\"2022-03-29T01:59:59.999000\",\"2022-03-30T01:59:59.999000\",\"2022-03-31T01:59:59.999000\",\"2022-04-01T01:59:59.999000\",\"2022-04-02T01:59:59.999000\",\"2022-04-03T01:59:59.999000\",\"2022-04-04T01:59:59.999000\",\"2022-04-05T01:59:59.999000\",\"2022-04-06T01:59:59.999000\",\"2022-04-07T01:59:59.999000\",\"2022-04-08T01:59:59.999000\",\"2022-04-09T01:59:59.999000\",\"2022-04-10T01:59:59.999000\",\"2022-04-11T01:59:59.999000\",\"2022-04-12T01:59:59.999000\",\"2022-04-13T01:59:59.999000\",\"2022-04-14T01:59:59.999000\",\"2022-04-15T01:59:59.999000\",\"2022-04-16T01:59:59.999000\",\"2022-04-17T01:59:59.999000\",\"2022-04-18T01:59:59.999000\",\"2022-04-19T01:59:59.999000\",\"2022-04-20T01:59:59.999000\",\"2022-04-21T01:59:59.999000\",\"2022-04-22T01:59:59.999000\",\"2022-04-23T01:59:59.999000\",\"2022-04-24T01:59:59.999000\",\"2022-04-25T01:59:59.999000\",\"2022-04-26T01:59:59.999000\",\"2022-04-27T01:59:59.999000\",\"2022-04-28T01:59:59.999000\",\"2022-04-29T01:59:59.999000\",\"2022-04-30T01:59:59.999000\",\"2022-05-01T01:59:59.999000\",\"2022-05-02T01:59:59.999000\",\"2022-05-03T01:59:59.999000\",\"2022-05-04T01:59:59.999000\",\"2022-05-05T01:59:59.999000\",\"2022-05-06T01:59:59.999000\",\"2022-05-07T01:59:59.999000\",\"2022-05-08T01:59:59.999000\",\"2022-05-09T01:59:59.999000\",\"2022-05-10T01:59:59.999000\",\"2022-05-11T01:59:59.999000\",\"2022-05-12T01:59:59.999000\",\"2022-05-13T01:59:59.999000\",\"2022-05-14T01:59:59.999000\",\"2022-05-15T01:59:59.999000\",\"2022-05-16T01:59:59.999000\",\"2022-05-17T01:59:59.999000\",\"2022-05-18T01:59:59.999000\",\"2022-05-19T01:59:59.999000\",\"2022-05-20T01:59:59.999000\",\"2022-05-21T01:59:59.999000\",\"2022-05-22T01:59:59.999000\",\"2022-05-23T01:59:59.999000\",\"2022-05-24T01:59:59.999000\",\"2022-05-25T01:59:59.999000\",\"2022-05-26T01:59:59.999000\",\"2022-05-27T01:59:59.999000\",\"2022-05-28T01:59:59.999000\",\"2022-05-29T01:59:59.999000\",\"2022-05-30T01:59:59.999000\",\"2022-05-31T01:59:59.999000\",\"2022-06-01T01:59:59.999000\",\"2022-06-02T01:59:59.999000\",\"2022-06-03T01:59:59.999000\",\"2022-06-04T01:59:59.999000\",\"2022-06-05T01:59:59.999000\",\"2022-06-06T01:59:59.999000\",\"2022-06-07T01:59:59.999000\",\"2022-06-08T01:59:59.999000\",\"2022-06-09T01:59:59.999000\",\"2022-06-10T01:59:59.999000\",\"2022-06-11T01:59:59.999000\",\"2022-06-12T01:59:59.999000\",\"2022-06-13T01:59:59.999000\",\"2022-06-14T01:59:59.999000\",\"2022-06-15T01:59:59.999000\",\"2022-06-16T01:59:59.999000\",\"2022-06-17T01:59:59.999000\",\"2022-06-18T01:59:59.999000\",\"2022-06-19T01:59:59.999000\",\"2022-06-20T01:59:59.999000\",\"2022-06-21T01:59:59.999000\",\"2022-06-22T01:59:59.999000\",\"2022-06-23T01:59:59.999000\",\"2022-06-24T01:59:59.999000\",\"2022-06-25T01:59:59.999000\",\"2022-06-26T01:59:59.999000\",\"2022-06-27T01:59:59.999000\",\"2022-06-28T01:59:59.999000\",\"2022-06-29T01:59:59.999000\",\"2022-06-30T01:59:59.999000\",\"2022-07-01T01:59:59.999000\",\"2022-07-02T01:59:59.999000\",\"2022-07-03T01:59:59.999000\",\"2022-07-04T01:59:59.999000\",\"2022-07-05T01:59:59.999000\",\"2022-07-06T01:59:59.999000\",\"2022-07-07T01:59:59.999000\",\"2022-07-08T01:59:59.999000\",\"2022-07-09T01:59:59.999000\",\"2022-07-10T01:59:59.999000\",\"2022-07-11T01:59:59.999000\",\"2022-07-12T01:59:59.999000\",\"2022-07-13T01:59:59.999000\",\"2022-07-14T01:59:59.999000\",\"2022-07-15T01:59:59.999000\",\"2022-07-16T01:59:59.999000\",\"2022-07-17T01:59:59.999000\",\"2022-07-18T01:59:59.999000\",\"2022-07-19T01:59:59.999000\",\"2022-07-20T01:59:59.999000\",\"2022-07-21T01:59:59.999000\",\"2022-07-22T01:59:59.999000\",\"2022-07-23T01:59:59.999000\",\"2022-07-24T01:59:59.999000\",\"2022-07-25T01:59:59.999000\",\"2022-07-26T01:59:59.999000\",\"2022-07-27T01:59:59.999000\",\"2022-07-28T01:59:59.999000\",\"2022-07-29T01:59:59.999000\",\"2022-07-30T01:59:59.999000\",\"2022-07-31T01:59:59.999000\",\"2022-08-01T01:59:59.999000\",\"2022-08-02T01:59:59.999000\",\"2022-08-03T01:59:59.999000\",\"2022-08-04T01:59:59.999000\",\"2022-08-05T01:59:59.999000\",\"2022-08-06T01:59:59.999000\",\"2022-08-07T01:59:59.999000\",\"2022-08-08T01:59:59.999000\"],\"y\":[3609.71044921875,3609.15234375,3618.235107421875,3628.06298828125,3605.86572265625,3545.20068359375,3446.469482421875,3325.89208984375,3221.26123046875,3140.417724609375,3102.384033203125,3113.796142578125,3136.65576171875,3160.56494140625,3183.00830078125,3203.834716796875,3204.7568359375,3183.828125,3144.68994140625,3091.854248046875,2988.38134765625,2841.43017578125,2705.738037109375,2596.780029296875,2520.728271484375,2474.576904296875,2445.822265625,2440.978515625,2459.345947265625,2488.247314453125,2525.812744140625,2575.360595703125,2614.34814453125,2637.76953125,2683.662109375,2749.45556640625,2820.6923828125,2892.12451171875,2951.06787109375,3007.298828125,3037.508544921875,3025.64990234375,2987.513427734375,2938.635009765625,2900.177490234375,2907.455810546875,2941.031005859375,2951.26318359375,2921.6923828125,2869.1455078125,2798.973388671875,2721.88330078125,2660.93017578125,2616.349609375,2587.643798828125,2591.379638671875,2619.087646484375,2635.032958984375,2667.9453125,2722.505859375,2778.983154296875,2810.57275390625,2793.17529296875,2749.746826171875,2691.03662109375,2625.823974609375,2576.60009765625,2565.907958984375,2570.298583984375,2569.547607421875,2562.667236328125,2547.62353515625,2537.554931640625,2538.6083984375,2565.013916015625,2610.807373046875,2674.46826171875,2741.55322265625,2787.720458984375,2813.575439453125,2835.17333984375,2863.70947265625,2903.59130859375,2944.512939453125,2982.889892578125,3032.289794921875,3089.53955078125,3150.329833984375,3202.367431640625,3227.21875,3250.264404296875,3275.22509765625,3307.184814453125,3339.69384765625,3352.7978515625,3320.1484375,3267.555908203125,3214.25146484375,3179.3125,3156.861328125,3115.505615234375,3066.753662109375,3035.0458984375,3011.626220703125,2994.639404296875,2985.612548828125,2974.301513671875,2968.341064453125,2973.994873046875,2983.760498046875,2981.46630859375,2966.167724609375,2942.537841796875,2917.0947265625,2905.351806640625,2883.76220703125,2861.599609375,2851.069580078125,2837.400146484375,2808.595458984375,2783.561279296875,2773.216064453125,2765.975341796875,2776.228759765625,2777.17626953125,2758.440185546875,2722.505615234375,2669.06591796875,2578.75927734375,2485.4970703125,2383.47314453125,2271.397705078125,2171.966796875,2103.7314453125,2075.960693359375,2063.666259765625,2061.531005859375,2045.7823486328125,2028.4566650390625,2010.4791259765625,1995.380859375,1992.267578125,1991.517822265625,1989.6522216796875,1982.7872314453125,1956.10986328125,1909.5592041015625,1864.15380859375,1833.4447021484375,1838.2274169921875,1862.9866943359375,1877.4664306640625,1877.636474609375,1863.217529296875,1845.015380859375,1829.9730224609375,1825.919921875,1825.91650390625,1823.5078125,1818.1937255859375,1798.067138671875,1753.6904296875,1687.10302734375,1591.7432861328125,1487.2706298828125,1398.1671142578125,1317.248779296875,1248.250732421875,1186.133544921875,1146.8466796875,1131.0548095703125,1130.3902587890625,1128.4805908203125,1130.7689208984375,1146.661865234375,1173.7470703125,1198.507080078125,1214.603515625,1217.21044921875,1205.7679443359375,1183.9012451171875,1157.966552734375,1134.7794189453125,1118.534423828125,1117.283447265625,1125.793701171875,1142.7987060546875,1168.453369140625,1194.2459716796875,1214.8973388671875,1223.872802734375,1215.4481201171875,1189.8165283203125,1164.64013671875,1156.363525390625,1167.5228271484375,1202.445068359375,1247.6029052734375,1315.1610107421875,1389.410888671875,1451.588623046875,1500.3226318359375,1531.75634765625,1549.645751953125,1564.0369873046875,1560.7657470703125,1543.3074951171875,1540.9185791015625,1566.699951171875,1608.5218505859375,1648.1339111328125,1675.08251953125,1683.9327392578125,1679.9066162109375,1669.123291015625,1655.818603515625,1657.4140625,1668.1630859375,1681.5355224609375,1701.5565185546875],\"type\":\"scatter\"},{\"mode\":\"lines+markers\",\"name\":\"Next 30_days prediction\",\"x\":[\"2022-08-10T01:59:59.999000\",\"2022-08-11T01:59:59.999000\",\"2022-08-12T01:59:59.999000\",\"2022-08-13T01:59:59.999000\",\"2022-08-14T01:59:59.999000\",\"2022-08-15T01:59:59.999000\",\"2022-08-16T01:59:59.999000\",\"2022-08-17T01:59:59.999000\",\"2022-08-18T01:59:59.999000\",\"2022-08-19T01:59:59.999000\",\"2022-08-20T01:59:59.999000\",\"2022-08-21T01:59:59.999000\",\"2022-08-22T01:59:59.999000\",\"2022-08-23T01:59:59.999000\",\"2022-08-24T01:59:59.999000\",\"2022-08-25T01:59:59.999000\",\"2022-08-26T01:59:59.999000\",\"2022-08-27T01:59:59.999000\",\"2022-08-28T01:59:59.999000\",\"2022-08-29T01:59:59.999000\",\"2022-08-30T01:59:59.999000\",\"2022-08-31T01:59:59.999000\",\"2022-09-01T01:59:59.999000\",\"2022-09-02T01:59:59.999000\",\"2022-09-03T01:59:59.999000\",\"2022-09-04T01:59:59.999000\",\"2022-09-05T01:59:59.999000\",\"2022-09-06T01:59:59.999000\",\"2022-09-07T01:59:59.999000\",\"2022-09-08T01:59:59.999000\"],\"y\":[1737.1529185831544,1752.1386149096486,1760.1195914590357,1763.9328216898439,1766.1697365438936,1768.2106679213045,1770.3087611460683,1772.455005483627,1774.6879781413077,1776.864915293455,1779.0984511220454,1781.259337903261,1783.365597106218,1785.4521453273294,1787.5206720793244,1789.5666719949243,1791.5876108050345,1793.5829253387449,1795.5543051087855,1797.501750115156,1799.4249787724016,1801.325680593252,1803.2032924067971,1805.0572510421273,1806.889246011972,1808.6987141454217,1810.485937027931,1812.2514778304098,1813.9953365528581,1815.717513195276],\"type\":\"scatter\"}],                        {\"autosize\":false,\"height\":1000,\"margin\":{\"b\":100,\"l\":50,\"pad\":4,\"r\":50,\"t\":100},\"template\":{\"data\":{\"barpolar\":[{\"marker\":{\"line\":{\"color\":\"#E5ECF6\",\"width\":0.5},\"pattern\":{\"fillmode\":\"overlay\",\"size\":10,\"solidity\":0.2}},\"type\":\"barpolar\"}],\"bar\":[{\"error_x\":{\"color\":\"#2a3f5f\"},\"error_y\":{\"color\":\"#2a3f5f\"},\"marker\":{\"line\":{\"color\":\"#E5ECF6\",\"width\":0.5},\"pattern\":{\"fillmode\":\"overlay\",\"size\":10,\"solidity\":0.2}},\"type\":\"bar\"}],\"carpet\":[{\"aaxis\":{\"endlinecolor\":\"#2a3f5f\",\"gridcolor\":\"white\",\"linecolor\":\"white\",\"minorgridcolor\":\"white\",\"startlinecolor\":\"#2a3f5f\"},\"baxis\":{\"endlinecolor\":\"#2a3f5f\",\"gridcolor\":\"white\",\"linecolor\":\"white\",\"minorgridcolor\":\"white\",\"startlinecolor\":\"#2a3f5f\"},\"type\":\"carpet\"}],\"choropleth\":[{\"colorbar\":{\"outlinewidth\":0,\"ticks\":\"\"},\"type\":\"choropleth\"}],\"contourcarpet\":[{\"colorbar\":{\"outlinewidth\":0,\"ticks\":\"\"},\"type\":\"contourcarpet\"}],\"contour\":[{\"colorbar\":{\"outlinewidth\":0,\"ticks\":\"\"},\"colorscale\":[[0.0,\"#0d0887\"],[0.1111111111111111,\"#46039f\"],[0.2222222222222222,\"#7201a8\"],[0.3333333333333333,\"#9c179e\"],[0.4444444444444444,\"#bd3786\"],[0.5555555555555556,\"#d8576b\"],[0.6666666666666666,\"#ed7953\"],[0.7777777777777778,\"#fb9f3a\"],[0.8888888888888888,\"#fdca26\"],[1.0,\"#f0f921\"]],\"type\":\"contour\"}],\"heatmapgl\":[{\"colorbar\":{\"outlinewidth\":0,\"ticks\":\"\"},\"colorscale\":[[0.0,\"#0d0887\"],[0.1111111111111111,\"#46039f\"],[0.2222222222222222,\"#7201a8\"],[0.3333333333333333,\"#9c179e\"],[0.4444444444444444,\"#bd3786\"],[0.5555555555555556,\"#d8576b\"],[0.6666666666666666,\"#ed7953\"],[0.7777777777777778,\"#fb9f3a\"],[0.8888888888888888,\"#fdca26\"],[1.0,\"#f0f921\"]],\"type\":\"heatmapgl\"}],\"heatmap\":[{\"colorbar\":{\"outlinewidth\":0,\"ticks\":\"\"},\"colorscale\":[[0.0,\"#0d0887\"],[0.1111111111111111,\"#46039f\"],[0.2222222222222222,\"#7201a8\"],[0.3333333333333333,\"#9c179e\"],[0.4444444444444444,\"#bd3786\"],[0.5555555555555556,\"#d8576b\"],[0.6666666666666666,\"#ed7953\"],[0.7777777777777778,\"#fb9f3a\"],[0.8888888888888888,\"#fdca26\"],[1.0,\"#f0f921\"]],\"type\":\"heatmap\"}],\"histogram2dcontour\":[{\"colorbar\":{\"outlinewidth\":0,\"ticks\":\"\"},\"colorscale\":[[0.0,\"#0d0887\"],[0.1111111111111111,\"#46039f\"],[0.2222222222222222,\"#7201a8\"],[0.3333333333333333,\"#9c179e\"],[0.4444444444444444,\"#bd3786\"],[0.5555555555555556,\"#d8576b\"],[0.6666666666666666,\"#ed7953\"],[0.7777777777777778,\"#fb9f3a\"],[0.8888888888888888,\"#fdca26\"],[1.0,\"#f0f921\"]],\"type\":\"histogram2dcontour\"}],\"histogram2d\":[{\"colorbar\":{\"outlinewidth\":0,\"ticks\":\"\"},\"colorscale\":[[0.0,\"#0d0887\"],[0.1111111111111111,\"#46039f\"],[0.2222222222222222,\"#7201a8\"],[0.3333333333333333,\"#9c179e\"],[0.4444444444444444,\"#bd3786\"],[0.5555555555555556,\"#d8576b\"],[0.6666666666666666,\"#ed7953\"],[0.7777777777777778,\"#fb9f3a\"],[0.8888888888888888,\"#fdca26\"],[1.0,\"#f0f921\"]],\"type\":\"histogram2d\"}],\"histogram\":[{\"marker\":{\"pattern\":{\"fillmode\":\"overlay\",\"size\":10,\"solidity\":0.2}},\"type\":\"histogram\"}],\"mesh3d\":[{\"colorbar\":{\"outlinewidth\":0,\"ticks\":\"\"},\"type\":\"mesh3d\"}],\"parcoords\":[{\"line\":{\"colorbar\":{\"outlinewidth\":0,\"ticks\":\"\"}},\"type\":\"parcoords\"}],\"pie\":[{\"automargin\":true,\"type\":\"pie\"}],\"scatter3d\":[{\"line\":{\"colorbar\":{\"outlinewidth\":0,\"ticks\":\"\"}},\"marker\":{\"colorbar\":{\"outlinewidth\":0,\"ticks\":\"\"}},\"type\":\"scatter3d\"}],\"scattercarpet\":[{\"marker\":{\"colorbar\":{\"outlinewidth\":0,\"ticks\":\"\"}},\"type\":\"scattercarpet\"}],\"scattergeo\":[{\"marker\":{\"colorbar\":{\"outlinewidth\":0,\"ticks\":\"\"}},\"type\":\"scattergeo\"}],\"scattergl\":[{\"marker\":{\"colorbar\":{\"outlinewidth\":0,\"ticks\":\"\"}},\"type\":\"scattergl\"}],\"scattermapbox\":[{\"marker\":{\"colorbar\":{\"outlinewidth\":0,\"ticks\":\"\"}},\"type\":\"scattermapbox\"}],\"scatterpolargl\":[{\"marker\":{\"colorbar\":{\"outlinewidth\":0,\"ticks\":\"\"}},\"type\":\"scatterpolargl\"}],\"scatterpolar\":[{\"marker\":{\"colorbar\":{\"outlinewidth\":0,\"ticks\":\"\"}},\"type\":\"scatterpolar\"}],\"scatter\":[{\"fillpattern\":{\"fillmode\":\"overlay\",\"size\":10,\"solidity\":0.2},\"type\":\"scatter\"}],\"scatterternary\":[{\"marker\":{\"colorbar\":{\"outlinewidth\":0,\"ticks\":\"\"}},\"type\":\"scatterternary\"}],\"surface\":[{\"colorbar\":{\"outlinewidth\":0,\"ticks\":\"\"},\"colorscale\":[[0.0,\"#0d0887\"],[0.1111111111111111,\"#46039f\"],[0.2222222222222222,\"#7201a8\"],[0.3333333333333333,\"#9c179e\"],[0.4444444444444444,\"#bd3786\"],[0.5555555555555556,\"#d8576b\"],[0.6666666666666666,\"#ed7953\"],[0.7777777777777778,\"#fb9f3a\"],[0.8888888888888888,\"#fdca26\"],[1.0,\"#f0f921\"]],\"type\":\"surface\"}],\"table\":[{\"cells\":{\"fill\":{\"color\":\"#EBF0F8\"},\"line\":{\"color\":\"white\"}},\"header\":{\"fill\":{\"color\":\"#C8D4E3\"},\"line\":{\"color\":\"white\"}},\"type\":\"table\"}]},\"layout\":{\"annotationdefaults\":{\"arrowcolor\":\"#2a3f5f\",\"arrowhead\":0,\"arrowwidth\":1},\"autotypenumbers\":\"strict\",\"coloraxis\":{\"colorbar\":{\"outlinewidth\":0,\"ticks\":\"\"}},\"colorscale\":{\"diverging\":[[0,\"#8e0152\"],[0.1,\"#c51b7d\"],[0.2,\"#de77ae\"],[0.3,\"#f1b6da\"],[0.4,\"#fde0ef\"],[0.5,\"#f7f7f7\"],[0.6,\"#e6f5d0\"],[0.7,\"#b8e186\"],[0.8,\"#7fbc41\"],[0.9,\"#4d9221\"],[1,\"#276419\"]],\"sequential\":[[0.0,\"#0d0887\"],[0.1111111111111111,\"#46039f\"],[0.2222222222222222,\"#7201a8\"],[0.3333333333333333,\"#9c179e\"],[0.4444444444444444,\"#bd3786\"],[0.5555555555555556,\"#d8576b\"],[0.6666666666666666,\"#ed7953\"],[0.7777777777777778,\"#fb9f3a\"],[0.8888888888888888,\"#fdca26\"],[1.0,\"#f0f921\"]],\"sequentialminus\":[[0.0,\"#0d0887\"],[0.1111111111111111,\"#46039f\"],[0.2222222222222222,\"#7201a8\"],[0.3333333333333333,\"#9c179e\"],[0.4444444444444444,\"#bd3786\"],[0.5555555555555556,\"#d8576b\"],[0.6666666666666666,\"#ed7953\"],[0.7777777777777778,\"#fb9f3a\"],[0.8888888888888888,\"#fdca26\"],[1.0,\"#f0f921\"]]},\"colorway\":[\"#636efa\",\"#EF553B\",\"#00cc96\",\"#ab63fa\",\"#FFA15A\",\"#19d3f3\",\"#FF6692\",\"#B6E880\",\"#FF97FF\",\"#FECB52\"],\"font\":{\"color\":\"#2a3f5f\"},\"geo\":{\"bgcolor\":\"white\",\"lakecolor\":\"white\",\"landcolor\":\"#E5ECF6\",\"showlakes\":true,\"showland\":true,\"subunitcolor\":\"white\"},\"hoverlabel\":{\"align\":\"left\"},\"hovermode\":\"closest\",\"mapbox\":{\"style\":\"light\"},\"paper_bgcolor\":\"white\",\"plot_bgcolor\":\"#E5ECF6\",\"polar\":{\"angularaxis\":{\"gridcolor\":\"white\",\"linecolor\":\"white\",\"ticks\":\"\"},\"bgcolor\":\"#E5ECF6\",\"radialaxis\":{\"gridcolor\":\"white\",\"linecolor\":\"white\",\"ticks\":\"\"}},\"scene\":{\"xaxis\":{\"backgroundcolor\":\"#E5ECF6\",\"gridcolor\":\"white\",\"gridwidth\":2,\"linecolor\":\"white\",\"showbackground\":true,\"ticks\":\"\",\"zerolinecolor\":\"white\"},\"yaxis\":{\"backgroundcolor\":\"#E5ECF6\",\"gridcolor\":\"white\",\"gridwidth\":2,\"linecolor\":\"white\",\"showbackground\":true,\"ticks\":\"\",\"zerolinecolor\":\"white\"},\"zaxis\":{\"backgroundcolor\":\"#E5ECF6\",\"gridcolor\":\"white\",\"gridwidth\":2,\"linecolor\":\"white\",\"showbackground\":true,\"ticks\":\"\",\"zerolinecolor\":\"white\"}},\"shapedefaults\":{\"line\":{\"color\":\"#2a3f5f\"}},\"ternary\":{\"aaxis\":{\"gridcolor\":\"white\",\"linecolor\":\"white\",\"ticks\":\"\"},\"baxis\":{\"gridcolor\":\"white\",\"linecolor\":\"white\",\"ticks\":\"\"},\"bgcolor\":\"#E5ECF6\",\"caxis\":{\"gridcolor\":\"white\",\"linecolor\":\"white\",\"ticks\":\"\"}},\"title\":{\"x\":0.05},\"xaxis\":{\"automargin\":true,\"gridcolor\":\"white\",\"linecolor\":\"white\",\"ticks\":\"\",\"title\":{\"standoff\":15},\"zerolinecolor\":\"white\",\"zerolinewidth\":2},\"yaxis\":{\"automargin\":true,\"gridcolor\":\"white\",\"linecolor\":\"white\",\"ticks\":\"\",\"title\":{\"standoff\":15},\"zerolinecolor\":\"white\",\"zerolinewidth\":2}}},\"width\":2000,\"xaxis\":{\"linecolor\":\"black\",\"linewidth\":1,\"mirror\":true},\"yaxis\":{\"linecolor\":\"black\",\"linewidth\":1,\"mirror\":true}},                        {\"responsive\": true}                    ).then(function(){\n",
       "                            \n",
       "var gd = document.getElementById('49830435-6ac4-4567-a8f1-010f4a2b760e');\n",
       "var x = new MutationObserver(function (mutations, observer) {{\n",
       "        var display = window.getComputedStyle(gd).display;\n",
       "        if (!display || display === 'none') {{\n",
       "            console.log([gd, 'removed!']);\n",
       "            Plotly.purge(gd);\n",
       "            observer.disconnect();\n",
       "        }}\n",
       "}});\n",
       "\n",
       "// Listen for the removal of the full notebook cells\n",
       "var notebookContainer = gd.closest('#notebook-container');\n",
       "if (notebookContainer) {{\n",
       "    x.observe(notebookContainer, {childList: true});\n",
       "}}\n",
       "\n",
       "// Listen for the clearing of the current output cell\n",
       "var outputEl = gd.closest('.output');\n",
       "if (outputEl) {{\n",
       "    x.observe(outputEl, {childList: true});\n",
       "}}\n",
       "\n",
       "                        })                };                });            </script>        </div>"
      ]
     },
     "metadata": {},
     "output_type": "display_data"
    }
   ],
   "source": [
    "# Display chart\n",
    "trace_close = go.Scatter(x=actual_pred.index, y=actual_pred['close'], mode='lines+markers', name='Actual')\n",
    "trace_prediction = go.Scatter(x=actual_pred.index, y=actual_pred['prediction'], mode='lines+markers', name='Prediction')\n",
    "trace_next_30days_prediction = go.Scatter(x=preds.index, y=preds['close'], mode='lines+markers', name='Next 30_days prediction')\n",
    "\n",
    "# Fill out data with our traces\n",
    "data = [trace_close, trace_prediction, trace_next_30days_prediction]\n",
    "layout = go.Layout(\n",
    "    autosize=False,\n",
    "    width=2000,\n",
    "    height=1000,\n",
    "\n",
    "    xaxis= go.layout.XAxis(linecolor = 'black',\n",
    "                          linewidth = 1,\n",
    "                          mirror = True),\n",
    "\n",
    "    yaxis= go.layout.YAxis(linecolor = 'black',\n",
    "                          linewidth = 1,\n",
    "                          mirror = True),\n",
    "\n",
    "    margin=go.layout.Margin(\n",
    "        l=50,\n",
    "        r=50,\n",
    "        b=100,\n",
    "        t=100,\n",
    "        pad = 4\n",
    "    )\n",
    ")\n",
    "fig = go.Figure(data=data, layout=layout)\n",
    "# Plot it and save as basic-line.html\n",
    "pyo.iplot(fig, filename = 'chart')"
   ]
  },
  {
   "cell_type": "code",
   "execution_count": 49,
   "id": "1b211a11-5f6b-42a0-ba43-d3c4d41de8cc",
   "metadata": {
    "pycharm": {
     "name": "#%%\n"
    }
   },
   "outputs": [
    {
     "name": "stdout",
     "output_type": "stream",
     "text": [
      "7/7 [==============================] - 1s 10ms/step\n"
     ]
    },
    {
     "data": {
      "text/plain": [
       "220"
      ]
     },
     "execution_count": 49,
     "metadata": {},
     "output_type": "execute_result"
    }
   ],
   "source": [
    "# LSTM Predictiion\n",
    "my_LSTM_model, LSTM_prediction = LSTM_model(X_train, y_train, X_test, sc)\n",
    "len(LSTM_prediction)"
   ]
  },
  {
   "cell_type": "code",
   "execution_count": 50,
   "id": "1aa6edb5-2cd3-4bc5-be20-9a53b828dfca",
   "metadata": {
    "pycharm": {
     "name": "#%%\n"
    }
   },
   "outputs": [
    {
     "data": {
      "text/plain": [
       "array([[3677.5044],\n",
       "       [3658.95  ],\n",
       "       [3649.361 ],\n",
       "       [3649.8054],\n",
       "       [3630.3547],\n",
       "       [3588.2925],\n",
       "       [3513.803 ],\n",
       "       [3415.375 ],\n",
       "       [3321.8433],\n",
       "       [3234.135 ],\n",
       "       [3177.4204],\n",
       "       [3159.7285],\n",
       "       [3154.5881],\n",
       "       [3165.7952],\n",
       "       [3185.6118],\n",
       "       [3209.27  ],\n",
       "       [3216.8494],\n",
       "       [3207.824 ],\n",
       "       [3181.8958],\n",
       "       [3139.931 ],\n",
       "       [3050.335 ],\n",
       "       [2928.9934],\n",
       "       [2813.2239],\n",
       "       [2703.0125],\n",
       "       [2611.1086],\n",
       "       [2541.1711],\n",
       "       [2488.4016],\n",
       "       [2463.2593],\n",
       "       [2462.8787],\n",
       "       [2477.6995],\n",
       "       [2507.7551],\n",
       "       [2550.9854],\n",
       "       [2586.58  ],\n",
       "       [2615.9294],\n",
       "       [2666.7344],\n",
       "       [2726.523 ],\n",
       "       [2789.9993],\n",
       "       [2857.4016],\n",
       "       [2918.026 ],\n",
       "       [2980.7722],\n",
       "       [3020.1423],\n",
       "       [3027.3784],\n",
       "       [3012.9712],\n",
       "       [2981.0813],\n",
       "       [2949.5588],\n",
       "       [2948.0364],\n",
       "       [2958.9292],\n",
       "       [2954.8057],\n",
       "       [2931.6006],\n",
       "       [2897.9697],\n",
       "       [2846.6086],\n",
       "       [2783.6714],\n",
       "       [2726.5466],\n",
       "       [2673.2488],\n",
       "       [2630.3362],\n",
       "       [2616.7861],\n",
       "       [2624.5698],\n",
       "       [2628.319 ],\n",
       "       [2658.134 ],\n",
       "       [2704.8281],\n",
       "       [2753.9653],\n",
       "       [2787.2832],\n",
       "       [2786.0972],\n",
       "       [2768.181 ],\n",
       "       [2729.5664],\n",
       "       [2677.4219],\n",
       "       [2631.6934],\n",
       "       [2608.8086],\n",
       "       [2591.4087],\n",
       "       [2576.8477],\n",
       "       [2566.939 ],\n",
       "       [2555.122 ],\n",
       "       [2549.497 ],\n",
       "       [2549.7825],\n",
       "       [2569.0344],\n",
       "       [2600.8804],\n",
       "       [2649.8938],\n",
       "       [2706.3274],\n",
       "       [2752.997 ],\n",
       "       [2790.5752],\n",
       "       [2825.516 ],\n",
       "       [2861.011 ],\n",
       "       [2900.2354],\n",
       "       [2936.9258],\n",
       "       [2973.2683],\n",
       "       [3021.1711],\n",
       "       [3074.9065],\n",
       "       [3133.6804],\n",
       "       [3186.6895],\n",
       "       [3219.247 ],\n",
       "       [3253.9834],\n",
       "       [3284.3928],\n",
       "       [3317.5298],\n",
       "       [3348.0193],\n",
       "       [3362.1328],\n",
       "       [3341.7148],\n",
       "       [3309.8103],\n",
       "       [3270.5706],\n",
       "       [3238.1665],\n",
       "       [3206.9785],\n",
       "       [3159.208 ],\n",
       "       [3112.7139],\n",
       "       [3081.3064],\n",
       "       [3052.821 ],\n",
       "       [3031.1736],\n",
       "       [3016.2744],\n",
       "       [2999.8752],\n",
       "       [2991.4697],\n",
       "       [2993.5505],\n",
       "       [2999.1519],\n",
       "       [2995.8694],\n",
       "       [2985.1794],\n",
       "       [2968.6453],\n",
       "       [2948.863 ],\n",
       "       [2937.5996],\n",
       "       [2913.0825],\n",
       "       [2891.5947],\n",
       "       [2878.6973],\n",
       "       [2861.0586],\n",
       "       [2834.0388],\n",
       "       [2813.4734],\n",
       "       [2801.3542],\n",
       "       [2788.3113],\n",
       "       [2792.134 ],\n",
       "       [2786.747 ],\n",
       "       [2771.1614],\n",
       "       [2744.5928],\n",
       "       [2703.1638],\n",
       "       [2628.4768],\n",
       "       [2551.9731],\n",
       "       [2456.878 ],\n",
       "       [2349.8647],\n",
       "       [2251.239 ],\n",
       "       [2172.1882],\n",
       "       [2122.5105],\n",
       "       [2084.1758],\n",
       "       [2063.3   ],\n",
       "       [2038.5941],\n",
       "       [2023.265 ],\n",
       "       [2006.9514],\n",
       "       [1994.5526],\n",
       "       [1990.1459],\n",
       "       [1983.633 ],\n",
       "       [1977.6409],\n",
       "       [1969.3804],\n",
       "       [1947.5193],\n",
       "       [1912.0898],\n",
       "       [1878.2253],\n",
       "       [1848.7423],\n",
       "       [1843.224 ],\n",
       "       [1847.9271],\n",
       "       [1847.7998],\n",
       "       [1846.8975],\n",
       "       [1839.1492],\n",
       "       [1830.5457],\n",
       "       [1822.2953],\n",
       "       [1818.725 ],\n",
       "       [1813.5039],\n",
       "       [1806.5785],\n",
       "       [1798.7162],\n",
       "       [1781.3973],\n",
       "       [1747.7479],\n",
       "       [1696.7169],\n",
       "       [1619.6583],\n",
       "       [1532.7373],\n",
       "       [1450.4364],\n",
       "       [1364.1924],\n",
       "       [1286.1351],\n",
       "       [1212.33  ],\n",
       "       [1159.2771],\n",
       "       [1125.3237],\n",
       "       [1106.2957],\n",
       "       [1091.4209],\n",
       "       [1088.9407],\n",
       "       [1098.5594],\n",
       "       [1116.6656],\n",
       "       [1136.6818],\n",
       "       [1153.0242],\n",
       "       [1162.0938],\n",
       "       [1159.3601],\n",
       "       [1148.4125],\n",
       "       [1132.0648],\n",
       "       [1114.8231],\n",
       "       [1097.5442],\n",
       "       [1089.2109],\n",
       "       [1087.0721],\n",
       "       [1094.4868],\n",
       "       [1111.3082],\n",
       "       [1131.1202],\n",
       "       [1150.9498],\n",
       "       [1164.2582],\n",
       "       [1165.4102],\n",
       "       [1153.1598],\n",
       "       [1139.7084],\n",
       "       [1132.9885],\n",
       "       [1136.0017],\n",
       "       [1155.453 ],\n",
       "       [1183.0569],\n",
       "       [1235.509 ],\n",
       "       [1295.8231],\n",
       "       [1354.3011],\n",
       "       [1410.3856],\n",
       "       [1455.0859],\n",
       "       [1487.8363],\n",
       "       [1514.4482],\n",
       "       [1521.2722],\n",
       "       [1515.2754],\n",
       "       [1519.5693],\n",
       "       [1536.7688],\n",
       "       [1563.8607],\n",
       "       [1592.4011],\n",
       "       [1616.8842],\n",
       "       [1632.6705],\n",
       "       [1640.6516],\n",
       "       [1641.4304],\n",
       "       [1637.7556],\n",
       "       [1641.331 ],\n",
       "       [1644.5292],\n",
       "       [1650.064 ],\n",
       "       [1664.4688]], dtype=float32)"
      ]
     },
     "execution_count": 50,
     "metadata": {},
     "output_type": "execute_result"
    }
   ],
   "source": [
    "LSTM_prediction\n"
   ]
  },
  {
   "cell_type": "code",
   "execution_count": 51,
   "id": "5d9cf562-5cb8-4974-92d8-d19d1d9b51ed",
   "metadata": {
    "pycharm": {
     "name": "#%%\n"
    }
   },
   "outputs": [
    {
     "name": "stdout",
     "output_type": "stream",
     "text": [
      "Before transformation Input data for prediction\n",
      "[[1630.28 1630.91 1618.16 1607.96 1736.81 1690.6  1700.19 1777.05 1702.76\n",
      "  1826.73]]\n",
      "Input data for prediction\n",
      "[[0.32735986]\n",
      " [0.32749322]\n",
      " [0.32479436]\n",
      " [0.32263527]\n",
      " [0.34990961]\n",
      " [0.34012811]\n",
      " [0.34215807]\n",
      " [0.35842742]\n",
      " [0.34270208]\n",
      " [0.36894344]]\n",
      "[0.327359860463738, 0.32749321581128743, 0.32479435758707265, 0.3226352710077008, 0.3499096147088832, 0.34012810580370945, 0.3421580705386287, 0.3584274229396599, 0.3427020756865684, 0.3689434446321298]\n",
      "input [0.327359860463738, 0.32749321581128743, 0.32479435758707265, 0.3226352710077008, 0.3499096147088832, 0.34012810580370945, 0.3421580705386287, 0.3584274229396599, 0.3427020756865684, 0.3689434446321298] \n",
      "0 day input [[[0.32735986]\n",
      "  [0.32749322]\n",
      "  [0.32479436]\n",
      "  [0.32263527]\n",
      "  [0.34990961]\n",
      "  [0.34012811]\n",
      "  [0.34215807]\n",
      "  [0.35842742]\n",
      "  [0.34270208]\n",
      "  [0.36894344]]]\n",
      "0 day output [[0.34145778]]\n",
      "1 day input [0.32749322 0.32479436 0.32263527 0.34990961 0.34012811 0.34215807\n",
      " 0.35842742 0.34270208 0.36894344 0.34145778]\n",
      "1 day output [[0.34395933]]\n",
      "[0.32749321581128743, 0.32479435758707265, 0.3226352710077008, 0.3499096147088832, 0.34012810580370945, 0.3421580705386287, 0.3584274229396599, 0.3427020756865684, 0.3689434446321298, 0.3414577841758728, 0.34395933151245117]\n",
      "2 day input [0.32479436 0.32263527 0.34990961 0.34012811 0.34215807 0.35842742\n",
      " 0.34270208 0.36894344 0.34145778 0.34395933]\n",
      "2 day output [[0.34519076]]\n",
      "[0.32479435758707265, 0.3226352710077008, 0.3499096147088832, 0.34012810580370945, 0.3421580705386287, 0.3584274229396599, 0.3427020756865684, 0.3689434446321298, 0.3414577841758728, 0.34395933151245117, 0.34519076347351074]\n",
      "3 day input [0.32263527 0.34990961 0.34012811 0.34215807 0.35842742 0.34270208\n",
      " 0.36894344 0.34145778 0.34395933 0.34519076]\n",
      "3 day output [[0.34555998]]\n",
      "[0.3226352710077008, 0.3499096147088832, 0.34012810580370945, 0.3421580705386287, 0.3584274229396599, 0.3427020756865684, 0.3689434446321298, 0.3414577841758728, 0.34395933151245117, 0.34519076347351074, 0.3455599844455719]\n",
      "4 day input [0.34990961 0.34012811 0.34215807 0.35842742 0.34270208 0.36894344\n",
      " 0.34145778 0.34395933 0.34519076 0.34555998]\n",
      "4 day output [[0.34533754]]\n",
      "[0.3499096147088832, 0.34012810580370945, 0.3421580705386287, 0.3584274229396599, 0.3427020756865684, 0.3689434446321298, 0.3414577841758728, 0.34395933151245117, 0.34519076347351074, 0.3455599844455719, 0.34533753991127014]\n",
      "5 day input [0.34012811 0.34215807 0.35842742 0.34270208 0.36894344 0.34145778\n",
      " 0.34395933 0.34519076 0.34555998 0.34533754]\n",
      "5 day output [[0.34462565]]\n",
      "[0.34012810580370945, 0.3421580705386287, 0.3584274229396599, 0.3427020756865684, 0.3689434446321298, 0.3414577841758728, 0.34395933151245117, 0.34519076347351074, 0.3455599844455719, 0.34533753991127014, 0.34462565183639526]\n",
      "6 day input [0.34215807 0.35842742 0.34270208 0.36894344 0.34145778 0.34395933\n",
      " 0.34519076 0.34555998 0.34533754 0.34462565]\n",
      "6 day output [[0.34393635]]\n",
      "[0.3421580705386287, 0.3584274229396599, 0.3427020756865684, 0.3689434446321298, 0.3414577841758728, 0.34395933151245117, 0.34519076347351074, 0.3455599844455719, 0.34533753991127014, 0.34462565183639526, 0.34393635392189026]\n",
      "7 day input [0.35842742 0.34270208 0.36894344 0.34145778 0.34395933 0.34519076\n",
      " 0.34555998 0.34533754 0.34462565 0.34393635]\n",
      "7 day output [[0.34316242]]\n",
      "[0.3584274229396599, 0.3427020756865684, 0.3689434446321298, 0.3414577841758728, 0.34395933151245117, 0.34519076347351074, 0.3455599844455719, 0.34533753991127014, 0.34462565183639526, 0.34393635392189026, 0.3431624174118042]\n",
      "8 day input [0.34270208 0.36894344 0.34145778 0.34395933 0.34519076 0.34555998\n",
      " 0.34533754 0.34462565 0.34393635 0.34316242]\n",
      "8 day output [[0.34231213]]\n",
      "[0.3427020756865684, 0.3689434446321298, 0.3414577841758728, 0.34395933151245117, 0.34519076347351074, 0.3455599844455719, 0.34533753991127014, 0.34462565183639526, 0.34393635392189026, 0.3431624174118042, 0.34231212735176086]\n",
      "9 day input [0.36894344 0.34145778 0.34395933 0.34519076 0.34555998 0.34533754\n",
      " 0.34462565 0.34393635 0.34316242 0.34231213]\n",
      "9 day output [[0.3416441]]\n",
      "[0.3689434446321298, 0.3414577841758728, 0.34395933151245117, 0.34519076347351074, 0.3455599844455719, 0.34533753991127014, 0.34462565183639526, 0.34393635392189026, 0.3431624174118042, 0.34231212735176086, 0.3416441082954407]\n",
      "10 day input [0.34145778 0.34395933 0.34519076 0.34555998 0.34533754 0.34462565\n",
      " 0.34393635 0.34316242 0.34231213 0.34164411]\n",
      "10 day output [[0.3408427]]\n",
      "[0.3414577841758728, 0.34395933151245117, 0.34519076347351074, 0.3455599844455719, 0.34533753991127014, 0.34462565183639526, 0.34393635392189026, 0.3431624174118042, 0.34231212735176086, 0.3416441082954407, 0.34084269404411316]\n",
      "11 day input [0.34395933 0.34519076 0.34555998 0.34533754 0.34462565 0.34393635\n",
      " 0.34316242 0.34231213 0.34164411 0.34084269]\n",
      "11 day output [[0.34033132]]\n",
      "[0.34395933151245117, 0.34519076347351074, 0.3455599844455719, 0.34533753991127014, 0.34462565183639526, 0.34393635392189026, 0.3431624174118042, 0.34231212735176086, 0.3416441082954407, 0.34084269404411316, 0.3403313159942627]\n",
      "12 day input [0.34519076 0.34555998 0.34533754 0.34462565 0.34393635 0.34316242\n",
      " 0.34231213 0.34164411 0.34084269 0.34033132]\n",
      "12 day output [[0.33970824]]\n",
      "[0.34519076347351074, 0.3455599844455719, 0.34533753991127014, 0.34462565183639526, 0.34393635392189026, 0.3431624174118042, 0.34231212735176086, 0.3416441082954407, 0.34084269404411316, 0.3403313159942627, 0.33970823884010315]\n",
      "13 day input [0.34555998 0.34533754 0.34462565 0.34393635 0.34316242 0.34231213\n",
      " 0.34164411 0.34084269 0.34033132 0.33970824]\n",
      "13 day output [[0.33904114]]\n",
      "[0.3455599844455719, 0.34533753991127014, 0.34462565183639526, 0.34393635392189026, 0.3431624174118042, 0.34231212735176086, 0.3416441082954407, 0.34084269404411316, 0.3403313159942627, 0.33970823884010315, 0.339041143655777]\n",
      "14 day input [0.34533754 0.34462565 0.34393635 0.34316242 0.34231213 0.34164411\n",
      " 0.34084269 0.34033132 0.33970824 0.33904114]\n",
      "14 day output [[0.33836347]]\n",
      "[0.34533753991127014, 0.34462565183639526, 0.34393635392189026, 0.3431624174118042, 0.34231212735176086, 0.3416441082954407, 0.34084269404411316, 0.3403313159942627, 0.33970823884010315, 0.339041143655777, 0.3383634686470032]\n",
      "15 day input [0.34462565 0.34393635 0.34316242 0.34231213 0.34164411 0.34084269\n",
      " 0.34033132 0.33970824 0.33904114 0.33836347]\n",
      "15 day output [[0.33768952]]\n",
      "[0.34462565183639526, 0.34393635392189026, 0.3431624174118042, 0.34231212735176086, 0.3416441082954407, 0.34084269404411316, 0.3403313159942627, 0.33970823884010315, 0.339041143655777, 0.3383634686470032, 0.33768951892852783]\n",
      "16 day input [0.34393635 0.34316242 0.34231213 0.34164411 0.34084269 0.34033132\n",
      " 0.33970824 0.33904114 0.33836347 0.33768952]\n",
      "16 day output [[0.3370236]]\n",
      "[0.34393635392189026, 0.3431624174118042, 0.34231212735176086, 0.3416441082954407, 0.34084269404411316, 0.3403313159942627, 0.33970823884010315, 0.339041143655777, 0.3383634686470032, 0.33768951892852783, 0.3370235860347748]\n",
      "17 day input [0.34316242 0.34231213 0.34164411 0.34084269 0.34033132 0.33970824\n",
      " 0.33904114 0.33836347 0.33768952 0.33702359]\n",
      "17 day output [[0.33636263]]\n",
      "[0.3431624174118042, 0.34231212735176086, 0.3416441082954407, 0.34084269404411316, 0.3403313159942627, 0.33970823884010315, 0.339041143655777, 0.3383634686470032, 0.33768951892852783, 0.3370235860347748, 0.3363626301288605]\n",
      "18 day input [0.34231213 0.34164411 0.34084269 0.34033132 0.33970824 0.33904114\n",
      " 0.33836347 0.33768952 0.33702359 0.33636263]\n",
      "18 day output [[0.33570543]]\n",
      "[0.34231212735176086, 0.3416441082954407, 0.34084269404411316, 0.3403313159942627, 0.33970823884010315, 0.339041143655777, 0.3383634686470032, 0.33768951892852783, 0.3370235860347748, 0.3363626301288605, 0.335705429315567]\n",
      "19 day input [0.34164411 0.34084269 0.34033132 0.33970824 0.33904114 0.33836347\n",
      " 0.33768952 0.33702359 0.33636263 0.33570543]\n",
      "19 day output [[0.33505028]]\n",
      "[0.3416441082954407, 0.34084269404411316, 0.3403313159942627, 0.33970823884010315, 0.339041143655777, 0.3383634686470032, 0.33768951892852783, 0.3370235860347748, 0.3363626301288605, 0.335705429315567, 0.3350502848625183]\n",
      "20 day input [0.34084269 0.34033132 0.33970824 0.33904114 0.33836347 0.33768952\n",
      " 0.33702359 0.33636263 0.33570543 0.33505028]\n",
      "20 day output [[0.334395]]\n",
      "[0.34084269404411316, 0.3403313159942627, 0.33970823884010315, 0.339041143655777, 0.3383634686470032, 0.33768951892852783, 0.3370235860347748, 0.3363626301288605, 0.335705429315567, 0.3350502848625183, 0.33439499139785767]\n",
      "21 day input [0.34033132 0.33970824 0.33904114 0.33836347 0.33768952 0.33702359\n",
      " 0.33636263 0.33570543 0.33505028 0.33439499]\n",
      "21 day output [[0.3337404]]\n",
      "[0.3403313159942627, 0.33970823884010315, 0.339041143655777, 0.3383634686470032, 0.33768951892852783, 0.3370235860347748, 0.3363626301288605, 0.335705429315567, 0.3350502848625183, 0.33439499139785767, 0.3337404131889343]\n",
      "22 day input [0.33970824 0.33904114 0.33836347 0.33768952 0.33702359 0.33636263\n",
      " 0.33570543 0.33505028 0.33439499 0.33374041]\n",
      "22 day output [[0.33308452]]\n",
      "[0.33970823884010315, 0.339041143655777, 0.3383634686470032, 0.33768951892852783, 0.3370235860347748, 0.3363626301288605, 0.335705429315567, 0.3350502848625183, 0.33439499139785767, 0.3337404131889343, 0.3330845236778259]\n",
      "23 day input [0.33904114 0.33836347 0.33768952 0.33702359 0.33636263 0.33570543\n",
      " 0.33505028 0.33439499 0.33374041 0.33308452]\n",
      "23 day output [[0.33242968]]\n",
      "[0.339041143655777, 0.3383634686470032, 0.33768951892852783, 0.3370235860347748, 0.3363626301288605, 0.335705429315567, 0.3350502848625183, 0.33439499139785767, 0.3337404131889343, 0.3330845236778259, 0.3324296772480011]\n",
      "24 day input [0.33836347 0.33768952 0.33702359 0.33636263 0.33570543 0.33505028\n",
      " 0.33439499 0.33374041 0.33308452 0.33242968]\n",
      "24 day output [[0.33177638]]\n",
      "[0.3383634686470032, 0.33768951892852783, 0.3370235860347748, 0.3363626301288605, 0.335705429315567, 0.3350502848625183, 0.33439499139785767, 0.3337404131889343, 0.3330845236778259, 0.3324296772480011, 0.33177638053894043]\n",
      "25 day input [0.33768952 0.33702359 0.33636263 0.33570543 0.33505028 0.33439499\n",
      " 0.33374041 0.33308452 0.33242968 0.33177638]\n",
      "25 day output [[0.33112445]]\n",
      "[0.33768951892852783, 0.3370235860347748, 0.3363626301288605, 0.335705429315567, 0.3350502848625183, 0.33439499139785767, 0.3337404131889343, 0.3330845236778259, 0.3324296772480011, 0.33177638053894043, 0.3311244547367096]\n",
      "26 day input [0.33702359 0.33636263 0.33570543 0.33505028 0.33439499 0.33374041\n",
      " 0.33308452 0.33242968 0.33177638 0.33112445]\n",
      "26 day output [[0.33047348]]\n",
      "[0.3370235860347748, 0.3363626301288605, 0.335705429315567, 0.3350502848625183, 0.33439499139785767, 0.3337404131889343, 0.3330845236778259, 0.3324296772480011, 0.33177638053894043, 0.3311244547367096, 0.33047348260879517]\n",
      "27 day input [0.33636263 0.33570543 0.33505028 0.33439499 0.33374041 0.33308452\n",
      " 0.33242968 0.33177638 0.33112445 0.33047348]\n",
      "27 day output [[0.3298234]]\n",
      "[0.3363626301288605, 0.335705429315567, 0.3350502848625183, 0.33439499139785767, 0.3337404131889343, 0.3330845236778259, 0.3324296772480011, 0.33177638053894043, 0.3311244547367096, 0.33047348260879517, 0.32982340455055237]\n",
      "28 day input [0.33570543 0.33505028 0.33439499 0.33374041 0.33308452 0.33242968\n",
      " 0.33177638 0.33112445 0.33047348 0.3298234 ]\n",
      "28 day output [[0.32917416]]\n",
      "[0.335705429315567, 0.3350502848625183, 0.33439499139785767, 0.3337404131889343, 0.3330845236778259, 0.3324296772480011, 0.33177638053894043, 0.3311244547367096, 0.33047348260879517, 0.32982340455055237, 0.3291741609573364]\n",
      "29 day input [0.33505028 0.33439499 0.33374041 0.33308452 0.33242968 0.33177638\n",
      " 0.33112445 0.33047348 0.3298234  0.32917416]\n",
      "29 day output [[0.32852566]]\n",
      "[0.3350502848625183, 0.33439499139785767, 0.3337404131889343, 0.3330845236778259, 0.3324296772480011, 0.33177638053894043, 0.3311244547367096, 0.33047348260879517, 0.32982340455055237, 0.3291741609573364, 0.3285256624221802]\n",
      "[1696.8816931593417, 1708.6995531177517, 1714.5171086168286, 1716.2613897174595, 1715.2105127996203, 1711.847396918535, 1708.5910019248722, 1704.9347555851934, 1700.9177982777355, 1697.7619292914865, 1693.97587205708, 1691.5600096464154, 1688.6164560931918, 1685.4649516814945, 1682.263465851545, 1679.0795791125295, 1675.9335656172034, 1672.811064507365, 1669.7063032811877, 1666.6112567532061, 1663.515506261587, 1660.4231347954271, 1657.3245684492585, 1654.2309298485516, 1651.144612469673, 1648.064771556258, 1644.989436010122, 1641.9183242458103, 1638.8511546778677, 1635.7875049281117]\n",
      "1660175999999.0\n",
      "2022-08-11 01:59:59.999000\n",
      "DatetimeIndex(['2022-08-10 01:59:59.999000', '2022-08-11 01:59:59.999000',\n",
      "               '2022-08-12 01:59:59.999000', '2022-08-13 01:59:59.999000',\n",
      "               '2022-08-14 01:59:59.999000', '2022-08-15 01:59:59.999000',\n",
      "               '2022-08-16 01:59:59.999000', '2022-08-17 01:59:59.999000',\n",
      "               '2022-08-18 01:59:59.999000', '2022-08-19 01:59:59.999000',\n",
      "               '2022-08-20 01:59:59.999000', '2022-08-21 01:59:59.999000',\n",
      "               '2022-08-22 01:59:59.999000', '2022-08-23 01:59:59.999000',\n",
      "               '2022-08-24 01:59:59.999000', '2022-08-25 01:59:59.999000',\n",
      "               '2022-08-26 01:59:59.999000', '2022-08-27 01:59:59.999000',\n",
      "               '2022-08-28 01:59:59.999000', '2022-08-29 01:59:59.999000',\n",
      "               '2022-08-30 01:59:59.999000', '2022-08-31 01:59:59.999000',\n",
      "               '2022-09-01 01:59:59.999000', '2022-09-02 01:59:59.999000',\n",
      "               '2022-09-03 01:59:59.999000', '2022-09-04 01:59:59.999000',\n",
      "               '2022-09-05 01:59:59.999000', '2022-09-06 01:59:59.999000',\n",
      "               '2022-09-07 01:59:59.999000', '2022-09-08 01:59:59.999000'],\n",
      "              dtype='datetime64[ns]', freq='D')\n",
      "                               close\n",
      "2022-08-10 01:59:59.999  1696.881693\n",
      "2022-08-11 01:59:59.999  1708.699553\n",
      "2022-08-12 01:59:59.999  1714.517109\n",
      "2022-08-13 01:59:59.999  1716.261390\n",
      "2022-08-14 01:59:59.999  1715.210513\n",
      "2022-08-15 01:59:59.999  1711.847397\n",
      "2022-08-16 01:59:59.999  1708.591002\n",
      "2022-08-17 01:59:59.999  1704.934756\n",
      "2022-08-18 01:59:59.999  1700.917798\n",
      "2022-08-19 01:59:59.999  1697.761929\n",
      "2022-08-20 01:59:59.999  1693.975872\n",
      "2022-08-21 01:59:59.999  1691.560010\n",
      "2022-08-22 01:59:59.999  1688.616456\n",
      "2022-08-23 01:59:59.999  1685.464952\n",
      "2022-08-24 01:59:59.999  1682.263466\n",
      "2022-08-25 01:59:59.999  1679.079579\n",
      "2022-08-26 01:59:59.999  1675.933566\n",
      "2022-08-27 01:59:59.999  1672.811065\n",
      "2022-08-28 01:59:59.999  1669.706303\n",
      "2022-08-29 01:59:59.999  1666.611257\n",
      "2022-08-30 01:59:59.999  1663.515506\n",
      "2022-08-31 01:59:59.999  1660.423135\n",
      "2022-09-01 01:59:59.999  1657.324568\n",
      "2022-09-02 01:59:59.999  1654.230930\n",
      "2022-09-03 01:59:59.999  1651.144612\n",
      "2022-09-04 01:59:59.999  1648.064772\n",
      "2022-09-05 01:59:59.999  1644.989436\n",
      "2022-09-06 01:59:59.999  1641.918324\n",
      "2022-09-07 01:59:59.999  1638.851155\n",
      "2022-09-08 01:59:59.999  1635.787505\n"
     ]
    }
   ],
   "source": [
    "# Get predictions\n",
    "preds  = predict_future_days(all_data, 10, 30, my_LSTM_model, sc)"
   ]
  },
  {
   "cell_type": "code",
   "execution_count": 53,
   "id": "1b68b3f4-a2a1-4a0d-aa5f-59807ce403e5",
   "metadata": {
    "pycharm": {
     "name": "#%%\n"
    }
   },
   "outputs": [
    {
     "name": "stdout",
     "output_type": "stream",
     "text": [
      "Mean Squared Error: 36232.15\n"
     ]
    }
   ],
   "source": [
    "# Get the Mean Squared Error\n",
    "actual_pred = pd.DataFrame(columns=['close', 'prediction'])\n",
    "actual_pred['close'] = all_data.loc['2022':, 'close'][0:len(LSTM_prediction)]\n",
    "actual_pred['prediction'] = LSTM_prediction[:, 0]\n",
    "\n",
    "m = MeanSquaredError()\n",
    "m.update_state(np.array(actual_pred['close']), np.array(actual_pred['prediction']))\n",
    "\n",
    "print(\"Mean Squared Error: \" + str(m.result().numpy()))"
   ]
  },
  {
   "cell_type": "code",
   "execution_count": 54,
   "id": "ff8314f3-daa7-43e2-8ade-2cc8b76dca30",
   "metadata": {
    "pycharm": {
     "name": "#%%\n"
    }
   },
   "outputs": [
    {
     "data": {
      "application/vnd.plotly.v1+json": {
       "config": {
        "linkText": "Export to plot.ly",
        "plotlyServerURL": "https://plot.ly",
        "showLink": false
       },
       "data": [
        {
         "mode": "lines+markers",
         "name": "Actual",
         "type": "scatter",
         "x": [
          "2022-01-01T00:59:59.999000",
          "2022-01-02T00:59:59.999000",
          "2022-01-03T00:59:59.999000",
          "2022-01-04T00:59:59.999000",
          "2022-01-05T00:59:59.999000",
          "2022-01-06T00:59:59.999000",
          "2022-01-07T00:59:59.999000",
          "2022-01-08T00:59:59.999000",
          "2022-01-09T00:59:59.999000",
          "2022-01-10T00:59:59.999000",
          "2022-01-11T00:59:59.999000",
          "2022-01-12T00:59:59.999000",
          "2022-01-13T00:59:59.999000",
          "2022-01-14T00:59:59.999000",
          "2022-01-15T00:59:59.999000",
          "2022-01-16T00:59:59.999000",
          "2022-01-17T00:59:59.999000",
          "2022-01-18T00:59:59.999000",
          "2022-01-19T00:59:59.999000",
          "2022-01-20T00:59:59.999000",
          "2022-01-21T00:59:59.999000",
          "2022-01-22T00:59:59.999000",
          "2022-01-23T00:59:59.999000",
          "2022-01-24T00:59:59.999000",
          "2022-01-25T00:59:59.999000",
          "2022-01-26T00:59:59.999000",
          "2022-01-27T00:59:59.999000",
          "2022-01-28T00:59:59.999000",
          "2022-01-29T00:59:59.999000",
          "2022-01-30T00:59:59.999000",
          "2022-01-31T00:59:59.999000",
          "2022-02-01T00:59:59.999000",
          "2022-02-02T00:59:59.999000",
          "2022-02-03T00:59:59.999000",
          "2022-02-04T00:59:59.999000",
          "2022-02-05T00:59:59.999000",
          "2022-02-06T00:59:59.999000",
          "2022-02-07T00:59:59.999000",
          "2022-02-08T00:59:59.999000",
          "2022-02-09T00:59:59.999000",
          "2022-02-10T00:59:59.999000",
          "2022-02-11T00:59:59.999000",
          "2022-02-12T00:59:59.999000",
          "2022-02-13T00:59:59.999000",
          "2022-02-14T00:59:59.999000",
          "2022-02-15T00:59:59.999000",
          "2022-02-16T00:59:59.999000",
          "2022-02-17T00:59:59.999000",
          "2022-02-18T00:59:59.999000",
          "2022-02-19T00:59:59.999000",
          "2022-02-20T00:59:59.999000",
          "2022-02-21T00:59:59.999000",
          "2022-02-22T00:59:59.999000",
          "2022-02-23T00:59:59.999000",
          "2022-02-24T00:59:59.999000",
          "2022-02-25T00:59:59.999000",
          "2022-02-26T00:59:59.999000",
          "2022-02-27T00:59:59.999000",
          "2022-02-28T00:59:59.999000",
          "2022-03-01T00:59:59.999000",
          "2022-03-02T00:59:59.999000",
          "2022-03-03T00:59:59.999000",
          "2022-03-04T00:59:59.999000",
          "2022-03-05T00:59:59.999000",
          "2022-03-06T00:59:59.999000",
          "2022-03-07T00:59:59.999000",
          "2022-03-08T00:59:59.999000",
          "2022-03-09T00:59:59.999000",
          "2022-03-10T00:59:59.999000",
          "2022-03-11T00:59:59.999000",
          "2022-03-12T00:59:59.999000",
          "2022-03-13T00:59:59.999000",
          "2022-03-14T00:59:59.999000",
          "2022-03-15T00:59:59.999000",
          "2022-03-16T00:59:59.999000",
          "2022-03-17T00:59:59.999000",
          "2022-03-18T00:59:59.999000",
          "2022-03-19T00:59:59.999000",
          "2022-03-20T00:59:59.999000",
          "2022-03-21T00:59:59.999000",
          "2022-03-22T00:59:59.999000",
          "2022-03-23T00:59:59.999000",
          "2022-03-24T00:59:59.999000",
          "2022-03-25T00:59:59.999000",
          "2022-03-26T01:59:59.999000",
          "2022-03-27T01:59:59.999000",
          "2022-03-28T01:59:59.999000",
          "2022-03-29T01:59:59.999000",
          "2022-03-30T01:59:59.999000",
          "2022-03-31T01:59:59.999000",
          "2022-04-01T01:59:59.999000",
          "2022-04-02T01:59:59.999000",
          "2022-04-03T01:59:59.999000",
          "2022-04-04T01:59:59.999000",
          "2022-04-05T01:59:59.999000",
          "2022-04-06T01:59:59.999000",
          "2022-04-07T01:59:59.999000",
          "2022-04-08T01:59:59.999000",
          "2022-04-09T01:59:59.999000",
          "2022-04-10T01:59:59.999000",
          "2022-04-11T01:59:59.999000",
          "2022-04-12T01:59:59.999000",
          "2022-04-13T01:59:59.999000",
          "2022-04-14T01:59:59.999000",
          "2022-04-15T01:59:59.999000",
          "2022-04-16T01:59:59.999000",
          "2022-04-17T01:59:59.999000",
          "2022-04-18T01:59:59.999000",
          "2022-04-19T01:59:59.999000",
          "2022-04-20T01:59:59.999000",
          "2022-04-21T01:59:59.999000",
          "2022-04-22T01:59:59.999000",
          "2022-04-23T01:59:59.999000",
          "2022-04-24T01:59:59.999000",
          "2022-04-25T01:59:59.999000",
          "2022-04-26T01:59:59.999000",
          "2022-04-27T01:59:59.999000",
          "2022-04-28T01:59:59.999000",
          "2022-04-29T01:59:59.999000",
          "2022-04-30T01:59:59.999000",
          "2022-05-01T01:59:59.999000",
          "2022-05-02T01:59:59.999000",
          "2022-05-03T01:59:59.999000",
          "2022-05-04T01:59:59.999000",
          "2022-05-05T01:59:59.999000",
          "2022-05-06T01:59:59.999000",
          "2022-05-07T01:59:59.999000",
          "2022-05-08T01:59:59.999000",
          "2022-05-09T01:59:59.999000",
          "2022-05-10T01:59:59.999000",
          "2022-05-11T01:59:59.999000",
          "2022-05-12T01:59:59.999000",
          "2022-05-13T01:59:59.999000",
          "2022-05-14T01:59:59.999000",
          "2022-05-15T01:59:59.999000",
          "2022-05-16T01:59:59.999000",
          "2022-05-17T01:59:59.999000",
          "2022-05-18T01:59:59.999000",
          "2022-05-19T01:59:59.999000",
          "2022-05-20T01:59:59.999000",
          "2022-05-21T01:59:59.999000",
          "2022-05-22T01:59:59.999000",
          "2022-05-23T01:59:59.999000",
          "2022-05-24T01:59:59.999000",
          "2022-05-25T01:59:59.999000",
          "2022-05-26T01:59:59.999000",
          "2022-05-27T01:59:59.999000",
          "2022-05-28T01:59:59.999000",
          "2022-05-29T01:59:59.999000",
          "2022-05-30T01:59:59.999000",
          "2022-05-31T01:59:59.999000",
          "2022-06-01T01:59:59.999000",
          "2022-06-02T01:59:59.999000",
          "2022-06-03T01:59:59.999000",
          "2022-06-04T01:59:59.999000",
          "2022-06-05T01:59:59.999000",
          "2022-06-06T01:59:59.999000",
          "2022-06-07T01:59:59.999000",
          "2022-06-08T01:59:59.999000",
          "2022-06-09T01:59:59.999000",
          "2022-06-10T01:59:59.999000",
          "2022-06-11T01:59:59.999000",
          "2022-06-12T01:59:59.999000",
          "2022-06-13T01:59:59.999000",
          "2022-06-14T01:59:59.999000",
          "2022-06-15T01:59:59.999000",
          "2022-06-16T01:59:59.999000",
          "2022-06-17T01:59:59.999000",
          "2022-06-18T01:59:59.999000",
          "2022-06-19T01:59:59.999000",
          "2022-06-20T01:59:59.999000",
          "2022-06-21T01:59:59.999000",
          "2022-06-22T01:59:59.999000",
          "2022-06-23T01:59:59.999000",
          "2022-06-24T01:59:59.999000",
          "2022-06-25T01:59:59.999000",
          "2022-06-26T01:59:59.999000",
          "2022-06-27T01:59:59.999000",
          "2022-06-28T01:59:59.999000",
          "2022-06-29T01:59:59.999000",
          "2022-06-30T01:59:59.999000",
          "2022-07-01T01:59:59.999000",
          "2022-07-02T01:59:59.999000",
          "2022-07-03T01:59:59.999000",
          "2022-07-04T01:59:59.999000",
          "2022-07-05T01:59:59.999000",
          "2022-07-06T01:59:59.999000",
          "2022-07-07T01:59:59.999000",
          "2022-07-08T01:59:59.999000",
          "2022-07-09T01:59:59.999000",
          "2022-07-10T01:59:59.999000",
          "2022-07-11T01:59:59.999000",
          "2022-07-12T01:59:59.999000",
          "2022-07-13T01:59:59.999000",
          "2022-07-14T01:59:59.999000",
          "2022-07-15T01:59:59.999000",
          "2022-07-16T01:59:59.999000",
          "2022-07-17T01:59:59.999000",
          "2022-07-18T01:59:59.999000",
          "2022-07-19T01:59:59.999000",
          "2022-07-20T01:59:59.999000",
          "2022-07-21T01:59:59.999000",
          "2022-07-22T01:59:59.999000",
          "2022-07-23T01:59:59.999000",
          "2022-07-24T01:59:59.999000",
          "2022-07-25T01:59:59.999000",
          "2022-07-26T01:59:59.999000",
          "2022-07-27T01:59:59.999000",
          "2022-07-28T01:59:59.999000",
          "2022-07-29T01:59:59.999000",
          "2022-07-30T01:59:59.999000",
          "2022-07-31T01:59:59.999000",
          "2022-08-01T01:59:59.999000",
          "2022-08-02T01:59:59.999000",
          "2022-08-03T01:59:59.999000",
          "2022-08-04T01:59:59.999000",
          "2022-08-05T01:59:59.999000",
          "2022-08-06T01:59:59.999000",
          "2022-08-07T01:59:59.999000",
          "2022-08-08T01:59:59.999000"
         ],
         "y": [
          3828.27,
          3765.89,
          3785.11,
          3540.63,
          3406.81,
          3199.24,
          3080.95,
          3151.97,
          3082.68,
          3239.72,
          3371.26,
          3240.61,
          3307.42,
          3326.04,
          3346.88,
          3209.67,
          3159.85,
          3084.02,
          3001.48,
          2568.15,
          2412.18,
          2539.01,
          2439.29,
          2458.83,
          2462.99,
          2424.25,
          2544.99,
          2601.43,
          2601.68,
          2686.94,
          2787.23,
          2680.67,
          2695.46,
          2994.99,
          3012.65,
          3054.99,
          3139.77,
          3116.69,
          3243.94,
          3072.49,
          2927.54,
          2918.88,
          2871.13,
          2929.75,
          3183.52,
          3122.3,
          2891.87,
          2779.48,
          2763.63,
          2621.99,
          2568.02,
          2636.29,
          2579.71,
          2596.2,
          2768.49,
          2779.47,
          2616.79,
          2920.95,
          2976.33,
          2947.3,
          2833.99,
          2622.1,
          2665.15,
          2551.29,
          2491.12,
          2575.97,
          2726.98,
          2606.7,
          2556.86,
          2568.8,
          2515.65,
          2589.41,
          2617.73,
          2773.81,
          2811.92,
          2938.92,
          2950.84,
          2861.38,
          2890.03,
          2969.64,
          3036,
          3110.76,
          3102.14,
          3145,
          3295.65,
          3332.92,
          3400.51,
          3385.79,
          3281.51,
          3455.21,
          3443.77,
          3521.91,
          3519.5,
          3406.99,
          3168.51,
          3227.19,
          3192.39,
          3258.57,
          3203.04,
          2979.74,
          3027.66,
          3118.28,
          3021.98,
          3040.56,
          3059.3,
          2988.06,
          3055.56,
          3101.77,
          3076.04,
          2983.58,
          2962.39,
          2933.03,
          2921,
          3006.62,
          2809.67,
          2888.96,
          2936.93,
          2817.13,
          2726.66,
          2824.81,
          2856.54,
          2781.7,
          2940.64,
          2747.97,
          2692.85,
          2635.34,
          2519.71,
          2228.55,
          2342.05,
          2084.99,
          1960.22,
          2009.69,
          2056.48,
          2145.29,
          2023.66,
          2090.72,
          1915.11,
          2019.55,
          1959.08,
          1975.07,
          2043.19,
          1973.32,
          1979.41,
          1942.63,
          1792.23,
          1727.27,
          1792.22,
          1813.64,
          1998.78,
          1941.9,
          1817.95,
          1834.08,
          1775.12,
          1804.58,
          1806.23,
          1859.84,
          1813.33,
          1791.88,
          1788.81,
          1662.91,
          1532.89,
          1434.84,
          1209.82,
          1208.9,
          1237.52,
          1068.5,
          1086.94,
          995.13,
          1128.53,
          1128.24,
          1125.85,
          1050.19,
          1144.72,
          1225.02,
          1242.36,
          1197.79,
          1192.51,
          1144.05,
          1100.21,
          1071.01,
          1059.73,
          1067.01,
          1074.26,
          1151,
          1132.5,
          1186.57,
          1237.49,
          1214.04,
          1217.02,
          1168.36,
          1096.4,
          1038.58,
          1115,
          1193.42,
          1231.25,
          1355.85,
          1338.65,
          1581.04,
          1542.32,
          1521.58,
          1575.45,
          1535.27,
          1548.67,
          1597.7,
          1440.79,
          1449.12,
          1635.74,
          1724.52,
          1721.68,
          1697,
          1678.12,
          1630.28,
          1630.91,
          1618.16,
          1607.96,
          1736.81,
          1690.6,
          1700.19,
          1777.05,
          1702.76
         ]
        },
        {
         "mode": "lines+markers",
         "name": "Prediction",
         "type": "scatter",
         "x": [
          "2022-01-01T00:59:59.999000",
          "2022-01-02T00:59:59.999000",
          "2022-01-03T00:59:59.999000",
          "2022-01-04T00:59:59.999000",
          "2022-01-05T00:59:59.999000",
          "2022-01-06T00:59:59.999000",
          "2022-01-07T00:59:59.999000",
          "2022-01-08T00:59:59.999000",
          "2022-01-09T00:59:59.999000",
          "2022-01-10T00:59:59.999000",
          "2022-01-11T00:59:59.999000",
          "2022-01-12T00:59:59.999000",
          "2022-01-13T00:59:59.999000",
          "2022-01-14T00:59:59.999000",
          "2022-01-15T00:59:59.999000",
          "2022-01-16T00:59:59.999000",
          "2022-01-17T00:59:59.999000",
          "2022-01-18T00:59:59.999000",
          "2022-01-19T00:59:59.999000",
          "2022-01-20T00:59:59.999000",
          "2022-01-21T00:59:59.999000",
          "2022-01-22T00:59:59.999000",
          "2022-01-23T00:59:59.999000",
          "2022-01-24T00:59:59.999000",
          "2022-01-25T00:59:59.999000",
          "2022-01-26T00:59:59.999000",
          "2022-01-27T00:59:59.999000",
          "2022-01-28T00:59:59.999000",
          "2022-01-29T00:59:59.999000",
          "2022-01-30T00:59:59.999000",
          "2022-01-31T00:59:59.999000",
          "2022-02-01T00:59:59.999000",
          "2022-02-02T00:59:59.999000",
          "2022-02-03T00:59:59.999000",
          "2022-02-04T00:59:59.999000",
          "2022-02-05T00:59:59.999000",
          "2022-02-06T00:59:59.999000",
          "2022-02-07T00:59:59.999000",
          "2022-02-08T00:59:59.999000",
          "2022-02-09T00:59:59.999000",
          "2022-02-10T00:59:59.999000",
          "2022-02-11T00:59:59.999000",
          "2022-02-12T00:59:59.999000",
          "2022-02-13T00:59:59.999000",
          "2022-02-14T00:59:59.999000",
          "2022-02-15T00:59:59.999000",
          "2022-02-16T00:59:59.999000",
          "2022-02-17T00:59:59.999000",
          "2022-02-18T00:59:59.999000",
          "2022-02-19T00:59:59.999000",
          "2022-02-20T00:59:59.999000",
          "2022-02-21T00:59:59.999000",
          "2022-02-22T00:59:59.999000",
          "2022-02-23T00:59:59.999000",
          "2022-02-24T00:59:59.999000",
          "2022-02-25T00:59:59.999000",
          "2022-02-26T00:59:59.999000",
          "2022-02-27T00:59:59.999000",
          "2022-02-28T00:59:59.999000",
          "2022-03-01T00:59:59.999000",
          "2022-03-02T00:59:59.999000",
          "2022-03-03T00:59:59.999000",
          "2022-03-04T00:59:59.999000",
          "2022-03-05T00:59:59.999000",
          "2022-03-06T00:59:59.999000",
          "2022-03-07T00:59:59.999000",
          "2022-03-08T00:59:59.999000",
          "2022-03-09T00:59:59.999000",
          "2022-03-10T00:59:59.999000",
          "2022-03-11T00:59:59.999000",
          "2022-03-12T00:59:59.999000",
          "2022-03-13T00:59:59.999000",
          "2022-03-14T00:59:59.999000",
          "2022-03-15T00:59:59.999000",
          "2022-03-16T00:59:59.999000",
          "2022-03-17T00:59:59.999000",
          "2022-03-18T00:59:59.999000",
          "2022-03-19T00:59:59.999000",
          "2022-03-20T00:59:59.999000",
          "2022-03-21T00:59:59.999000",
          "2022-03-22T00:59:59.999000",
          "2022-03-23T00:59:59.999000",
          "2022-03-24T00:59:59.999000",
          "2022-03-25T00:59:59.999000",
          "2022-03-26T01:59:59.999000",
          "2022-03-27T01:59:59.999000",
          "2022-03-28T01:59:59.999000",
          "2022-03-29T01:59:59.999000",
          "2022-03-30T01:59:59.999000",
          "2022-03-31T01:59:59.999000",
          "2022-04-01T01:59:59.999000",
          "2022-04-02T01:59:59.999000",
          "2022-04-03T01:59:59.999000",
          "2022-04-04T01:59:59.999000",
          "2022-04-05T01:59:59.999000",
          "2022-04-06T01:59:59.999000",
          "2022-04-07T01:59:59.999000",
          "2022-04-08T01:59:59.999000",
          "2022-04-09T01:59:59.999000",
          "2022-04-10T01:59:59.999000",
          "2022-04-11T01:59:59.999000",
          "2022-04-12T01:59:59.999000",
          "2022-04-13T01:59:59.999000",
          "2022-04-14T01:59:59.999000",
          "2022-04-15T01:59:59.999000",
          "2022-04-16T01:59:59.999000",
          "2022-04-17T01:59:59.999000",
          "2022-04-18T01:59:59.999000",
          "2022-04-19T01:59:59.999000",
          "2022-04-20T01:59:59.999000",
          "2022-04-21T01:59:59.999000",
          "2022-04-22T01:59:59.999000",
          "2022-04-23T01:59:59.999000",
          "2022-04-24T01:59:59.999000",
          "2022-04-25T01:59:59.999000",
          "2022-04-26T01:59:59.999000",
          "2022-04-27T01:59:59.999000",
          "2022-04-28T01:59:59.999000",
          "2022-04-29T01:59:59.999000",
          "2022-04-30T01:59:59.999000",
          "2022-05-01T01:59:59.999000",
          "2022-05-02T01:59:59.999000",
          "2022-05-03T01:59:59.999000",
          "2022-05-04T01:59:59.999000",
          "2022-05-05T01:59:59.999000",
          "2022-05-06T01:59:59.999000",
          "2022-05-07T01:59:59.999000",
          "2022-05-08T01:59:59.999000",
          "2022-05-09T01:59:59.999000",
          "2022-05-10T01:59:59.999000",
          "2022-05-11T01:59:59.999000",
          "2022-05-12T01:59:59.999000",
          "2022-05-13T01:59:59.999000",
          "2022-05-14T01:59:59.999000",
          "2022-05-15T01:59:59.999000",
          "2022-05-16T01:59:59.999000",
          "2022-05-17T01:59:59.999000",
          "2022-05-18T01:59:59.999000",
          "2022-05-19T01:59:59.999000",
          "2022-05-20T01:59:59.999000",
          "2022-05-21T01:59:59.999000",
          "2022-05-22T01:59:59.999000",
          "2022-05-23T01:59:59.999000",
          "2022-05-24T01:59:59.999000",
          "2022-05-25T01:59:59.999000",
          "2022-05-26T01:59:59.999000",
          "2022-05-27T01:59:59.999000",
          "2022-05-28T01:59:59.999000",
          "2022-05-29T01:59:59.999000",
          "2022-05-30T01:59:59.999000",
          "2022-05-31T01:59:59.999000",
          "2022-06-01T01:59:59.999000",
          "2022-06-02T01:59:59.999000",
          "2022-06-03T01:59:59.999000",
          "2022-06-04T01:59:59.999000",
          "2022-06-05T01:59:59.999000",
          "2022-06-06T01:59:59.999000",
          "2022-06-07T01:59:59.999000",
          "2022-06-08T01:59:59.999000",
          "2022-06-09T01:59:59.999000",
          "2022-06-10T01:59:59.999000",
          "2022-06-11T01:59:59.999000",
          "2022-06-12T01:59:59.999000",
          "2022-06-13T01:59:59.999000",
          "2022-06-14T01:59:59.999000",
          "2022-06-15T01:59:59.999000",
          "2022-06-16T01:59:59.999000",
          "2022-06-17T01:59:59.999000",
          "2022-06-18T01:59:59.999000",
          "2022-06-19T01:59:59.999000",
          "2022-06-20T01:59:59.999000",
          "2022-06-21T01:59:59.999000",
          "2022-06-22T01:59:59.999000",
          "2022-06-23T01:59:59.999000",
          "2022-06-24T01:59:59.999000",
          "2022-06-25T01:59:59.999000",
          "2022-06-26T01:59:59.999000",
          "2022-06-27T01:59:59.999000",
          "2022-06-28T01:59:59.999000",
          "2022-06-29T01:59:59.999000",
          "2022-06-30T01:59:59.999000",
          "2022-07-01T01:59:59.999000",
          "2022-07-02T01:59:59.999000",
          "2022-07-03T01:59:59.999000",
          "2022-07-04T01:59:59.999000",
          "2022-07-05T01:59:59.999000",
          "2022-07-06T01:59:59.999000",
          "2022-07-07T01:59:59.999000",
          "2022-07-08T01:59:59.999000",
          "2022-07-09T01:59:59.999000",
          "2022-07-10T01:59:59.999000",
          "2022-07-11T01:59:59.999000",
          "2022-07-12T01:59:59.999000",
          "2022-07-13T01:59:59.999000",
          "2022-07-14T01:59:59.999000",
          "2022-07-15T01:59:59.999000",
          "2022-07-16T01:59:59.999000",
          "2022-07-17T01:59:59.999000",
          "2022-07-18T01:59:59.999000",
          "2022-07-19T01:59:59.999000",
          "2022-07-20T01:59:59.999000",
          "2022-07-21T01:59:59.999000",
          "2022-07-22T01:59:59.999000",
          "2022-07-23T01:59:59.999000",
          "2022-07-24T01:59:59.999000",
          "2022-07-25T01:59:59.999000",
          "2022-07-26T01:59:59.999000",
          "2022-07-27T01:59:59.999000",
          "2022-07-28T01:59:59.999000",
          "2022-07-29T01:59:59.999000",
          "2022-07-30T01:59:59.999000",
          "2022-07-31T01:59:59.999000",
          "2022-08-01T01:59:59.999000",
          "2022-08-02T01:59:59.999000",
          "2022-08-03T01:59:59.999000",
          "2022-08-04T01:59:59.999000",
          "2022-08-05T01:59:59.999000",
          "2022-08-06T01:59:59.999000",
          "2022-08-07T01:59:59.999000",
          "2022-08-08T01:59:59.999000"
         ],
         "y": [
          3677.50439453125,
          3658.949951171875,
          3649.361083984375,
          3649.805419921875,
          3630.354736328125,
          3588.29248046875,
          3513.802978515625,
          3415.375,
          3321.84326171875,
          3234.135009765625,
          3177.42041015625,
          3159.728515625,
          3154.588134765625,
          3165.795166015625,
          3185.61181640625,
          3209.27001953125,
          3216.849365234375,
          3207.823974609375,
          3181.895751953125,
          3139.930908203125,
          3050.3349609375,
          2928.993408203125,
          2813.223876953125,
          2703.012451171875,
          2611.108642578125,
          2541.171142578125,
          2488.401611328125,
          2463.25927734375,
          2462.878662109375,
          2477.699462890625,
          2507.755126953125,
          2550.9853515625,
          2586.580078125,
          2615.929443359375,
          2666.734375,
          2726.52294921875,
          2789.999267578125,
          2857.401611328125,
          2918.02587890625,
          2980.772216796875,
          3020.142333984375,
          3027.37841796875,
          3012.97119140625,
          2981.081298828125,
          2949.558837890625,
          2948.036376953125,
          2958.92919921875,
          2954.8056640625,
          2931.6005859375,
          2897.9697265625,
          2846.608642578125,
          2783.67138671875,
          2726.546630859375,
          2673.248779296875,
          2630.336181640625,
          2616.7861328125,
          2624.56982421875,
          2628.319091796875,
          2658.134033203125,
          2704.828125,
          2753.96533203125,
          2787.283203125,
          2786.09716796875,
          2768.180908203125,
          2729.56640625,
          2677.421875,
          2631.693359375,
          2608.80859375,
          2591.40869140625,
          2576.84765625,
          2566.93896484375,
          2555.1220703125,
          2549.4970703125,
          2549.782470703125,
          2569.034423828125,
          2600.88037109375,
          2649.893798828125,
          2706.327392578125,
          2752.9970703125,
          2790.5751953125,
          2825.51611328125,
          2861.010986328125,
          2900.2353515625,
          2936.92578125,
          2973.268310546875,
          3021.171142578125,
          3074.906494140625,
          3133.680419921875,
          3186.689453125,
          3219.2470703125,
          3253.9833984375,
          3284.392822265625,
          3317.52978515625,
          3348.019287109375,
          3362.1328125,
          3341.71484375,
          3309.810302734375,
          3270.570556640625,
          3238.16650390625,
          3206.978515625,
          3159.2080078125,
          3112.7138671875,
          3081.306396484375,
          3052.821044921875,
          3031.173583984375,
          3016.2744140625,
          2999.875244140625,
          2991.4697265625,
          2993.550537109375,
          2999.15185546875,
          2995.869384765625,
          2985.179443359375,
          2968.645263671875,
          2948.863037109375,
          2937.599609375,
          2913.08251953125,
          2891.5947265625,
          2878.697265625,
          2861.05859375,
          2834.038818359375,
          2813.473388671875,
          2801.354248046875,
          2788.311279296875,
          2792.134033203125,
          2786.7470703125,
          2771.161376953125,
          2744.5927734375,
          2703.163818359375,
          2628.476806640625,
          2551.97314453125,
          2456.8779296875,
          2349.86474609375,
          2251.239013671875,
          2172.188232421875,
          2122.510498046875,
          2084.17578125,
          2063.300048828125,
          2038.5941162109375,
          2023.2650146484375,
          2006.951416015625,
          1994.5526123046875,
          1990.1458740234375,
          1983.633056640625,
          1977.640869140625,
          1969.38037109375,
          1947.519287109375,
          1912.08984375,
          1878.225341796875,
          1848.7423095703125,
          1843.2239990234375,
          1847.9271240234375,
          1847.7998046875,
          1846.8974609375,
          1839.149169921875,
          1830.545654296875,
          1822.2952880859375,
          1818.7249755859375,
          1813.50390625,
          1806.5784912109375,
          1798.7161865234375,
          1781.3973388671875,
          1747.7479248046875,
          1696.7169189453125,
          1619.6583251953125,
          1532.7373046875,
          1450.4364013671875,
          1364.1923828125,
          1286.1351318359375,
          1212.3299560546875,
          1159.277099609375,
          1125.32373046875,
          1106.295654296875,
          1091.4208984375,
          1088.940673828125,
          1098.5594482421875,
          1116.6656494140625,
          1136.6817626953125,
          1153.024169921875,
          1162.09375,
          1159.360107421875,
          1148.4124755859375,
          1132.0648193359375,
          1114.8231201171875,
          1097.544189453125,
          1089.2109375,
          1087.0721435546875,
          1094.48681640625,
          1111.3082275390625,
          1131.1202392578125,
          1150.9498291015625,
          1164.2581787109375,
          1165.41015625,
          1153.1597900390625,
          1139.7083740234375,
          1132.988525390625,
          1136.001708984375,
          1155.4530029296875,
          1183.056884765625,
          1235.509033203125,
          1295.8231201171875,
          1354.3011474609375,
          1410.3856201171875,
          1455.0859375,
          1487.8363037109375,
          1514.4482421875,
          1521.272216796875,
          1515.275390625,
          1519.5693359375,
          1536.768798828125,
          1563.8607177734375,
          1592.401123046875,
          1616.8841552734375,
          1632.6705322265625,
          1640.651611328125,
          1641.430419921875,
          1637.755615234375,
          1641.3310546875,
          1644.5291748046875,
          1650.06396484375,
          1664.46875
         ]
        },
        {
         "mode": "lines+markers",
         "name": "Next 30_days prediction",
         "type": "scatter",
         "x": [
          "2022-08-10T01:59:59.999000",
          "2022-08-11T01:59:59.999000",
          "2022-08-12T01:59:59.999000",
          "2022-08-13T01:59:59.999000",
          "2022-08-14T01:59:59.999000",
          "2022-08-15T01:59:59.999000",
          "2022-08-16T01:59:59.999000",
          "2022-08-17T01:59:59.999000",
          "2022-08-18T01:59:59.999000",
          "2022-08-19T01:59:59.999000",
          "2022-08-20T01:59:59.999000",
          "2022-08-21T01:59:59.999000",
          "2022-08-22T01:59:59.999000",
          "2022-08-23T01:59:59.999000",
          "2022-08-24T01:59:59.999000",
          "2022-08-25T01:59:59.999000",
          "2022-08-26T01:59:59.999000",
          "2022-08-27T01:59:59.999000",
          "2022-08-28T01:59:59.999000",
          "2022-08-29T01:59:59.999000",
          "2022-08-30T01:59:59.999000",
          "2022-08-31T01:59:59.999000",
          "2022-09-01T01:59:59.999000",
          "2022-09-02T01:59:59.999000",
          "2022-09-03T01:59:59.999000",
          "2022-09-04T01:59:59.999000",
          "2022-09-05T01:59:59.999000",
          "2022-09-06T01:59:59.999000",
          "2022-09-07T01:59:59.999000",
          "2022-09-08T01:59:59.999000"
         ],
         "y": [
          1696.8816931593417,
          1708.6995531177517,
          1714.5171086168286,
          1716.2613897174595,
          1715.2105127996203,
          1711.847396918535,
          1708.5910019248722,
          1704.9347555851934,
          1700.9177982777355,
          1697.7619292914865,
          1693.97587205708,
          1691.5600096464154,
          1688.6164560931918,
          1685.4649516814945,
          1682.263465851545,
          1679.0795791125295,
          1675.9335656172034,
          1672.811064507365,
          1669.7063032811877,
          1666.6112567532061,
          1663.515506261587,
          1660.4231347954271,
          1657.3245684492585,
          1654.2309298485516,
          1651.144612469673,
          1648.064771556258,
          1644.989436010122,
          1641.9183242458103,
          1638.8511546778677,
          1635.7875049281117
         ]
        }
       ],
       "layout": {
        "autosize": false,
        "height": 1000,
        "margin": {
         "b": 100,
         "l": 50,
         "pad": 4,
         "r": 50,
         "t": 100
        },
        "template": {
         "data": {
          "bar": [
           {
            "error_x": {
             "color": "#2a3f5f"
            },
            "error_y": {
             "color": "#2a3f5f"
            },
            "marker": {
             "line": {
              "color": "#E5ECF6",
              "width": 0.5
             },
             "pattern": {
              "fillmode": "overlay",
              "size": 10,
              "solidity": 0.2
             }
            },
            "type": "bar"
           }
          ],
          "barpolar": [
           {
            "marker": {
             "line": {
              "color": "#E5ECF6",
              "width": 0.5
             },
             "pattern": {
              "fillmode": "overlay",
              "size": 10,
              "solidity": 0.2
             }
            },
            "type": "barpolar"
           }
          ],
          "carpet": [
           {
            "aaxis": {
             "endlinecolor": "#2a3f5f",
             "gridcolor": "white",
             "linecolor": "white",
             "minorgridcolor": "white",
             "startlinecolor": "#2a3f5f"
            },
            "baxis": {
             "endlinecolor": "#2a3f5f",
             "gridcolor": "white",
             "linecolor": "white",
             "minorgridcolor": "white",
             "startlinecolor": "#2a3f5f"
            },
            "type": "carpet"
           }
          ],
          "choropleth": [
           {
            "colorbar": {
             "outlinewidth": 0,
             "ticks": ""
            },
            "type": "choropleth"
           }
          ],
          "contour": [
           {
            "colorbar": {
             "outlinewidth": 0,
             "ticks": ""
            },
            "colorscale": [
             [
              0,
              "#0d0887"
             ],
             [
              0.1111111111111111,
              "#46039f"
             ],
             [
              0.2222222222222222,
              "#7201a8"
             ],
             [
              0.3333333333333333,
              "#9c179e"
             ],
             [
              0.4444444444444444,
              "#bd3786"
             ],
             [
              0.5555555555555556,
              "#d8576b"
             ],
             [
              0.6666666666666666,
              "#ed7953"
             ],
             [
              0.7777777777777778,
              "#fb9f3a"
             ],
             [
              0.8888888888888888,
              "#fdca26"
             ],
             [
              1,
              "#f0f921"
             ]
            ],
            "type": "contour"
           }
          ],
          "contourcarpet": [
           {
            "colorbar": {
             "outlinewidth": 0,
             "ticks": ""
            },
            "type": "contourcarpet"
           }
          ],
          "heatmap": [
           {
            "colorbar": {
             "outlinewidth": 0,
             "ticks": ""
            },
            "colorscale": [
             [
              0,
              "#0d0887"
             ],
             [
              0.1111111111111111,
              "#46039f"
             ],
             [
              0.2222222222222222,
              "#7201a8"
             ],
             [
              0.3333333333333333,
              "#9c179e"
             ],
             [
              0.4444444444444444,
              "#bd3786"
             ],
             [
              0.5555555555555556,
              "#d8576b"
             ],
             [
              0.6666666666666666,
              "#ed7953"
             ],
             [
              0.7777777777777778,
              "#fb9f3a"
             ],
             [
              0.8888888888888888,
              "#fdca26"
             ],
             [
              1,
              "#f0f921"
             ]
            ],
            "type": "heatmap"
           }
          ],
          "heatmapgl": [
           {
            "colorbar": {
             "outlinewidth": 0,
             "ticks": ""
            },
            "colorscale": [
             [
              0,
              "#0d0887"
             ],
             [
              0.1111111111111111,
              "#46039f"
             ],
             [
              0.2222222222222222,
              "#7201a8"
             ],
             [
              0.3333333333333333,
              "#9c179e"
             ],
             [
              0.4444444444444444,
              "#bd3786"
             ],
             [
              0.5555555555555556,
              "#d8576b"
             ],
             [
              0.6666666666666666,
              "#ed7953"
             ],
             [
              0.7777777777777778,
              "#fb9f3a"
             ],
             [
              0.8888888888888888,
              "#fdca26"
             ],
             [
              1,
              "#f0f921"
             ]
            ],
            "type": "heatmapgl"
           }
          ],
          "histogram": [
           {
            "marker": {
             "pattern": {
              "fillmode": "overlay",
              "size": 10,
              "solidity": 0.2
             }
            },
            "type": "histogram"
           }
          ],
          "histogram2d": [
           {
            "colorbar": {
             "outlinewidth": 0,
             "ticks": ""
            },
            "colorscale": [
             [
              0,
              "#0d0887"
             ],
             [
              0.1111111111111111,
              "#46039f"
             ],
             [
              0.2222222222222222,
              "#7201a8"
             ],
             [
              0.3333333333333333,
              "#9c179e"
             ],
             [
              0.4444444444444444,
              "#bd3786"
             ],
             [
              0.5555555555555556,
              "#d8576b"
             ],
             [
              0.6666666666666666,
              "#ed7953"
             ],
             [
              0.7777777777777778,
              "#fb9f3a"
             ],
             [
              0.8888888888888888,
              "#fdca26"
             ],
             [
              1,
              "#f0f921"
             ]
            ],
            "type": "histogram2d"
           }
          ],
          "histogram2dcontour": [
           {
            "colorbar": {
             "outlinewidth": 0,
             "ticks": ""
            },
            "colorscale": [
             [
              0,
              "#0d0887"
             ],
             [
              0.1111111111111111,
              "#46039f"
             ],
             [
              0.2222222222222222,
              "#7201a8"
             ],
             [
              0.3333333333333333,
              "#9c179e"
             ],
             [
              0.4444444444444444,
              "#bd3786"
             ],
             [
              0.5555555555555556,
              "#d8576b"
             ],
             [
              0.6666666666666666,
              "#ed7953"
             ],
             [
              0.7777777777777778,
              "#fb9f3a"
             ],
             [
              0.8888888888888888,
              "#fdca26"
             ],
             [
              1,
              "#f0f921"
             ]
            ],
            "type": "histogram2dcontour"
           }
          ],
          "mesh3d": [
           {
            "colorbar": {
             "outlinewidth": 0,
             "ticks": ""
            },
            "type": "mesh3d"
           }
          ],
          "parcoords": [
           {
            "line": {
             "colorbar": {
              "outlinewidth": 0,
              "ticks": ""
             }
            },
            "type": "parcoords"
           }
          ],
          "pie": [
           {
            "automargin": true,
            "type": "pie"
           }
          ],
          "scatter": [
           {
            "fillpattern": {
             "fillmode": "overlay",
             "size": 10,
             "solidity": 0.2
            },
            "type": "scatter"
           }
          ],
          "scatter3d": [
           {
            "line": {
             "colorbar": {
              "outlinewidth": 0,
              "ticks": ""
             }
            },
            "marker": {
             "colorbar": {
              "outlinewidth": 0,
              "ticks": ""
             }
            },
            "type": "scatter3d"
           }
          ],
          "scattercarpet": [
           {
            "marker": {
             "colorbar": {
              "outlinewidth": 0,
              "ticks": ""
             }
            },
            "type": "scattercarpet"
           }
          ],
          "scattergeo": [
           {
            "marker": {
             "colorbar": {
              "outlinewidth": 0,
              "ticks": ""
             }
            },
            "type": "scattergeo"
           }
          ],
          "scattergl": [
           {
            "marker": {
             "colorbar": {
              "outlinewidth": 0,
              "ticks": ""
             }
            },
            "type": "scattergl"
           }
          ],
          "scattermapbox": [
           {
            "marker": {
             "colorbar": {
              "outlinewidth": 0,
              "ticks": ""
             }
            },
            "type": "scattermapbox"
           }
          ],
          "scatterpolar": [
           {
            "marker": {
             "colorbar": {
              "outlinewidth": 0,
              "ticks": ""
             }
            },
            "type": "scatterpolar"
           }
          ],
          "scatterpolargl": [
           {
            "marker": {
             "colorbar": {
              "outlinewidth": 0,
              "ticks": ""
             }
            },
            "type": "scatterpolargl"
           }
          ],
          "scatterternary": [
           {
            "marker": {
             "colorbar": {
              "outlinewidth": 0,
              "ticks": ""
             }
            },
            "type": "scatterternary"
           }
          ],
          "surface": [
           {
            "colorbar": {
             "outlinewidth": 0,
             "ticks": ""
            },
            "colorscale": [
             [
              0,
              "#0d0887"
             ],
             [
              0.1111111111111111,
              "#46039f"
             ],
             [
              0.2222222222222222,
              "#7201a8"
             ],
             [
              0.3333333333333333,
              "#9c179e"
             ],
             [
              0.4444444444444444,
              "#bd3786"
             ],
             [
              0.5555555555555556,
              "#d8576b"
             ],
             [
              0.6666666666666666,
              "#ed7953"
             ],
             [
              0.7777777777777778,
              "#fb9f3a"
             ],
             [
              0.8888888888888888,
              "#fdca26"
             ],
             [
              1,
              "#f0f921"
             ]
            ],
            "type": "surface"
           }
          ],
          "table": [
           {
            "cells": {
             "fill": {
              "color": "#EBF0F8"
             },
             "line": {
              "color": "white"
             }
            },
            "header": {
             "fill": {
              "color": "#C8D4E3"
             },
             "line": {
              "color": "white"
             }
            },
            "type": "table"
           }
          ]
         },
         "layout": {
          "annotationdefaults": {
           "arrowcolor": "#2a3f5f",
           "arrowhead": 0,
           "arrowwidth": 1
          },
          "autotypenumbers": "strict",
          "coloraxis": {
           "colorbar": {
            "outlinewidth": 0,
            "ticks": ""
           }
          },
          "colorscale": {
           "diverging": [
            [
             0,
             "#8e0152"
            ],
            [
             0.1,
             "#c51b7d"
            ],
            [
             0.2,
             "#de77ae"
            ],
            [
             0.3,
             "#f1b6da"
            ],
            [
             0.4,
             "#fde0ef"
            ],
            [
             0.5,
             "#f7f7f7"
            ],
            [
             0.6,
             "#e6f5d0"
            ],
            [
             0.7,
             "#b8e186"
            ],
            [
             0.8,
             "#7fbc41"
            ],
            [
             0.9,
             "#4d9221"
            ],
            [
             1,
             "#276419"
            ]
           ],
           "sequential": [
            [
             0,
             "#0d0887"
            ],
            [
             0.1111111111111111,
             "#46039f"
            ],
            [
             0.2222222222222222,
             "#7201a8"
            ],
            [
             0.3333333333333333,
             "#9c179e"
            ],
            [
             0.4444444444444444,
             "#bd3786"
            ],
            [
             0.5555555555555556,
             "#d8576b"
            ],
            [
             0.6666666666666666,
             "#ed7953"
            ],
            [
             0.7777777777777778,
             "#fb9f3a"
            ],
            [
             0.8888888888888888,
             "#fdca26"
            ],
            [
             1,
             "#f0f921"
            ]
           ],
           "sequentialminus": [
            [
             0,
             "#0d0887"
            ],
            [
             0.1111111111111111,
             "#46039f"
            ],
            [
             0.2222222222222222,
             "#7201a8"
            ],
            [
             0.3333333333333333,
             "#9c179e"
            ],
            [
             0.4444444444444444,
             "#bd3786"
            ],
            [
             0.5555555555555556,
             "#d8576b"
            ],
            [
             0.6666666666666666,
             "#ed7953"
            ],
            [
             0.7777777777777778,
             "#fb9f3a"
            ],
            [
             0.8888888888888888,
             "#fdca26"
            ],
            [
             1,
             "#f0f921"
            ]
           ]
          },
          "colorway": [
           "#636efa",
           "#EF553B",
           "#00cc96",
           "#ab63fa",
           "#FFA15A",
           "#19d3f3",
           "#FF6692",
           "#B6E880",
           "#FF97FF",
           "#FECB52"
          ],
          "font": {
           "color": "#2a3f5f"
          },
          "geo": {
           "bgcolor": "white",
           "lakecolor": "white",
           "landcolor": "#E5ECF6",
           "showlakes": true,
           "showland": true,
           "subunitcolor": "white"
          },
          "hoverlabel": {
           "align": "left"
          },
          "hovermode": "closest",
          "mapbox": {
           "style": "light"
          },
          "paper_bgcolor": "white",
          "plot_bgcolor": "#E5ECF6",
          "polar": {
           "angularaxis": {
            "gridcolor": "white",
            "linecolor": "white",
            "ticks": ""
           },
           "bgcolor": "#E5ECF6",
           "radialaxis": {
            "gridcolor": "white",
            "linecolor": "white",
            "ticks": ""
           }
          },
          "scene": {
           "xaxis": {
            "backgroundcolor": "#E5ECF6",
            "gridcolor": "white",
            "gridwidth": 2,
            "linecolor": "white",
            "showbackground": true,
            "ticks": "",
            "zerolinecolor": "white"
           },
           "yaxis": {
            "backgroundcolor": "#E5ECF6",
            "gridcolor": "white",
            "gridwidth": 2,
            "linecolor": "white",
            "showbackground": true,
            "ticks": "",
            "zerolinecolor": "white"
           },
           "zaxis": {
            "backgroundcolor": "#E5ECF6",
            "gridcolor": "white",
            "gridwidth": 2,
            "linecolor": "white",
            "showbackground": true,
            "ticks": "",
            "zerolinecolor": "white"
           }
          },
          "shapedefaults": {
           "line": {
            "color": "#2a3f5f"
           }
          },
          "ternary": {
           "aaxis": {
            "gridcolor": "white",
            "linecolor": "white",
            "ticks": ""
           },
           "baxis": {
            "gridcolor": "white",
            "linecolor": "white",
            "ticks": ""
           },
           "bgcolor": "#E5ECF6",
           "caxis": {
            "gridcolor": "white",
            "linecolor": "white",
            "ticks": ""
           }
          },
          "title": {
           "x": 0.05
          },
          "xaxis": {
           "automargin": true,
           "gridcolor": "white",
           "linecolor": "white",
           "ticks": "",
           "title": {
            "standoff": 15
           },
           "zerolinecolor": "white",
           "zerolinewidth": 2
          },
          "yaxis": {
           "automargin": true,
           "gridcolor": "white",
           "linecolor": "white",
           "ticks": "",
           "title": {
            "standoff": 15
           },
           "zerolinecolor": "white",
           "zerolinewidth": 2
          }
         }
        },
        "width": 2000,
        "xaxis": {
         "autorange": true,
         "linecolor": "black",
         "linewidth": 1,
         "mirror": true,
         "range": [
          "2021-12-17 11:18:13.288",
          "2022-09-22 15:41:46.71"
         ],
         "type": "date"
        },
        "yaxis": {
         "autorange": true,
         "linecolor": "black",
         "linewidth": 1,
         "mirror": true,
         "range": [
          821.1652631578947,
          4002.234736842105
         ],
         "type": "linear"
        }
       }
      },
      "image/png": "[encoded data removed]",
      "text/html": [
       "<div>                            <div id=\"e67fe2b5-816d-4a6c-a588-3b3e2a8b016e\" class=\"plotly-graph-div\" style=\"height:1000px; width:2000px;\"></div>            <script type=\"text/javascript\">                require([\"plotly\"], function(Plotly) {                    window.PLOTLYENV=window.PLOTLYENV || {};                                    if (document.getElementById(\"e67fe2b5-816d-4a6c-a588-3b3e2a8b016e\")) {                    Plotly.newPlot(                        \"e67fe2b5-816d-4a6c-a588-3b3e2a8b016e\",                        [{\"mode\":\"lines+markers\",\"name\":\"Actual\",\"x\":[\"2022-01-01T00:59:59.999000\",\"2022-01-02T00:59:59.999000\",\"2022-01-03T00:59:59.999000\",\"2022-01-04T00:59:59.999000\",\"2022-01-05T00:59:59.999000\",\"2022-01-06T00:59:59.999000\",\"2022-01-07T00:59:59.999000\",\"2022-01-08T00:59:59.999000\",\"2022-01-09T00:59:59.999000\",\"2022-01-10T00:59:59.999000\",\"2022-01-11T00:59:59.999000\",\"2022-01-12T00:59:59.999000\",\"2022-01-13T00:59:59.999000\",\"2022-01-14T00:59:59.999000\",\"2022-01-15T00:59:59.999000\",\"2022-01-16T00:59:59.999000\",\"2022-01-17T00:59:59.999000\",\"2022-01-18T00:59:59.999000\",\"2022-01-19T00:59:59.999000\",\"2022-01-20T00:59:59.999000\",\"2022-01-21T00:59:59.999000\",\"2022-01-22T00:59:59.999000\",\"2022-01-23T00:59:59.999000\",\"2022-01-24T00:59:59.999000\",\"2022-01-25T00:59:59.999000\",\"2022-01-26T00:59:59.999000\",\"2022-01-27T00:59:59.999000\",\"2022-01-28T00:59:59.999000\",\"2022-01-29T00:59:59.999000\",\"2022-01-30T00:59:59.999000\",\"2022-01-31T00:59:59.999000\",\"2022-02-01T00:59:59.999000\",\"2022-02-02T00:59:59.999000\",\"2022-02-03T00:59:59.999000\",\"2022-02-04T00:59:59.999000\",\"2022-02-05T00:59:59.999000\",\"2022-02-06T00:59:59.999000\",\"2022-02-07T00:59:59.999000\",\"2022-02-08T00:59:59.999000\",\"2022-02-09T00:59:59.999000\",\"2022-02-10T00:59:59.999000\",\"2022-02-11T00:59:59.999000\",\"2022-02-12T00:59:59.999000\",\"2022-02-13T00:59:59.999000\",\"2022-02-14T00:59:59.999000\",\"2022-02-15T00:59:59.999000\",\"2022-02-16T00:59:59.999000\",\"2022-02-17T00:59:59.999000\",\"2022-02-18T00:59:59.999000\",\"2022-02-19T00:59:59.999000\",\"2022-02-20T00:59:59.999000\",\"2022-02-21T00:59:59.999000\",\"2022-02-22T00:59:59.999000\",\"2022-02-23T00:59:59.999000\",\"2022-02-24T00:59:59.999000\",\"2022-02-25T00:59:59.999000\",\"2022-02-26T00:59:59.999000\",\"2022-02-27T00:59:59.999000\",\"2022-02-28T00:59:59.999000\",\"2022-03-01T00:59:59.999000\",\"2022-03-02T00:59:59.999000\",\"2022-03-03T00:59:59.999000\",\"2022-03-04T00:59:59.999000\",\"2022-03-05T00:59:59.999000\",\"2022-03-06T00:59:59.999000\",\"2022-03-07T00:59:59.999000\",\"2022-03-08T00:59:59.999000\",\"2022-03-09T00:59:59.999000\",\"2022-03-10T00:59:59.999000\",\"2022-03-11T00:59:59.999000\",\"2022-03-12T00:59:59.999000\",\"2022-03-13T00:59:59.999000\",\"2022-03-14T00:59:59.999000\",\"2022-03-15T00:59:59.999000\",\"2022-03-16T00:59:59.999000\",\"2022-03-17T00:59:59.999000\",\"2022-03-18T00:59:59.999000\",\"2022-03-19T00:59:59.999000\",\"2022-03-20T00:59:59.999000\",\"2022-03-21T00:59:59.999000\",\"2022-03-22T00:59:59.999000\",\"2022-03-23T00:59:59.999000\",\"2022-03-24T00:59:59.999000\",\"2022-03-25T00:59:59.999000\",\"2022-03-26T01:59:59.999000\",\"2022-03-27T01:59:59.999000\",\"2022-03-28T01:59:59.999000\",\"2022-03-29T01:59:59.999000\",\"2022-03-30T01:59:59.999000\",\"2022-03-31T01:59:59.999000\",\"2022-04-01T01:59:59.999000\",\"2022-04-02T01:59:59.999000\",\"2022-04-03T01:59:59.999000\",\"2022-04-04T01:59:59.999000\",\"2022-04-05T01:59:59.999000\",\"2022-04-06T01:59:59.999000\",\"2022-04-07T01:59:59.999000\",\"2022-04-08T01:59:59.999000\",\"2022-04-09T01:59:59.999000\",\"2022-04-10T01:59:59.999000\",\"2022-04-11T01:59:59.999000\",\"2022-04-12T01:59:59.999000\",\"2022-04-13T01:59:59.999000\",\"2022-04-14T01:59:59.999000\",\"2022-04-15T01:59:59.999000\",\"2022-04-16T01:59:59.999000\",\"2022-04-17T01:59:59.999000\",\"2022-04-18T01:59:59.999000\",\"2022-04-19T01:59:59.999000\",\"2022-04-20T01:59:59.999000\",\"2022-04-21T01:59:59.999000\",\"2022-04-22T01:59:59.999000\",\"2022-04-23T01:59:59.999000\",\"2022-04-24T01:59:59.999000\",\"2022-04-25T01:59:59.999000\",\"2022-04-26T01:59:59.999000\",\"2022-04-27T01:59:59.999000\",\"2022-04-28T01:59:59.999000\",\"2022-04-29T01:59:59.999000\",\"2022-04-30T01:59:59.999000\",\"2022-05-01T01:59:59.999000\",\"2022-05-02T01:59:59.999000\",\"2022-05-03T01:59:59.999000\",\"2022-05-04T01:59:59.999000\",\"2022-05-05T01:59:59.999000\",\"2022-05-06T01:59:59.999000\",\"2022-05-07T01:59:59.999000\",\"2022-05-08T01:59:59.999000\",\"2022-05-09T01:59:59.999000\",\"2022-05-10T01:59:59.999000\",\"2022-05-11T01:59:59.999000\",\"2022-05-12T01:59:59.999000\",\"2022-05-13T01:59:59.999000\",\"2022-05-14T01:59:59.999000\",\"2022-05-15T01:59:59.999000\",\"2022-05-16T01:59:59.999000\",\"2022-05-17T01:59:59.999000\",\"2022-05-18T01:59:59.999000\",\"2022-05-19T01:59:59.999000\",\"2022-05-20T01:59:59.999000\",\"2022-05-21T01:59:59.999000\",\"2022-05-22T01:59:59.999000\",\"2022-05-23T01:59:59.999000\",\"2022-05-24T01:59:59.999000\",\"2022-05-25T01:59:59.999000\",\"2022-05-26T01:59:59.999000\",\"2022-05-27T01:59:59.999000\",\"2022-05-28T01:59:59.999000\",\"2022-05-29T01:59:59.999000\",\"2022-05-30T01:59:59.999000\",\"2022-05-31T01:59:59.999000\",\"2022-06-01T01:59:59.999000\",\"2022-06-02T01:59:59.999000\",\"2022-06-03T01:59:59.999000\",\"2022-06-04T01:59:59.999000\",\"2022-06-05T01:59:59.999000\",\"2022-06-06T01:59:59.999000\",\"2022-06-07T01:59:59.999000\",\"2022-06-08T01:59:59.999000\",\"2022-06-09T01:59:59.999000\",\"2022-06-10T01:59:59.999000\",\"2022-06-11T01:59:59.999000\",\"2022-06-12T01:59:59.999000\",\"2022-06-13T01:59:59.999000\",\"2022-06-14T01:59:59.999000\",\"2022-06-15T01:59:59.999000\",\"2022-06-16T01:59:59.999000\",\"2022-06-17T01:59:59.999000\",\"2022-06-18T01:59:59.999000\",\"2022-06-19T01:59:59.999000\",\"2022-06-20T01:59:59.999000\",\"2022-06-21T01:59:59.999000\",\"2022-06-22T01:59:59.999000\",\"2022-06-23T01:59:59.999000\",\"2022-06-24T01:59:59.999000\",\"2022-06-25T01:59:59.999000\",\"2022-06-26T01:59:59.999000\",\"2022-06-27T01:59:59.999000\",\"2022-06-28T01:59:59.999000\",\"2022-06-29T01:59:59.999000\",\"2022-06-30T01:59:59.999000\",\"2022-07-01T01:59:59.999000\",\"2022-07-02T01:59:59.999000\",\"2022-07-03T01:59:59.999000\",\"2022-07-04T01:59:59.999000\",\"2022-07-05T01:59:59.999000\",\"2022-07-06T01:59:59.999000\",\"2022-07-07T01:59:59.999000\",\"2022-07-08T01:59:59.999000\",\"2022-07-09T01:59:59.999000\",\"2022-07-10T01:59:59.999000\",\"2022-07-11T01:59:59.999000\",\"2022-07-12T01:59:59.999000\",\"2022-07-13T01:59:59.999000\",\"2022-07-14T01:59:59.999000\",\"2022-07-15T01:59:59.999000\",\"2022-07-16T01:59:59.999000\",\"2022-07-17T01:59:59.999000\",\"2022-07-18T01:59:59.999000\",\"2022-07-19T01:59:59.999000\",\"2022-07-20T01:59:59.999000\",\"2022-07-21T01:59:59.999000\",\"2022-07-22T01:59:59.999000\",\"2022-07-23T01:59:59.999000\",\"2022-07-24T01:59:59.999000\",\"2022-07-25T01:59:59.999000\",\"2022-07-26T01:59:59.999000\",\"2022-07-27T01:59:59.999000\",\"2022-07-28T01:59:59.999000\",\"2022-07-29T01:59:59.999000\",\"2022-07-30T01:59:59.999000\",\"2022-07-31T01:59:59.999000\",\"2022-08-01T01:59:59.999000\",\"2022-08-02T01:59:59.999000\",\"2022-08-03T01:59:59.999000\",\"2022-08-04T01:59:59.999000\",\"2022-08-05T01:59:59.999000\",\"2022-08-06T01:59:59.999000\",\"2022-08-07T01:59:59.999000\",\"2022-08-08T01:59:59.999000\"],\"y\":[3828.27,3765.89,3785.11,3540.63,3406.81,3199.24,3080.95,3151.97,3082.68,3239.72,3371.26,3240.61,3307.42,3326.04,3346.88,3209.67,3159.85,3084.02,3001.48,2568.15,2412.18,2539.01,2439.29,2458.83,2462.99,2424.25,2544.99,2601.43,2601.68,2686.94,2787.23,2680.67,2695.46,2994.99,3012.65,3054.99,3139.77,3116.69,3243.94,3072.49,2927.54,2918.88,2871.13,2929.75,3183.52,3122.3,2891.87,2779.48,2763.63,2621.99,2568.02,2636.29,2579.71,2596.2,2768.49,2779.47,2616.79,2920.95,2976.33,2947.3,2833.99,2622.1,2665.15,2551.29,2491.12,2575.97,2726.98,2606.7,2556.86,2568.8,2515.65,2589.41,2617.73,2773.81,2811.92,2938.92,2950.84,2861.38,2890.03,2969.64,3036.0,3110.76,3102.14,3145.0,3295.65,3332.92,3400.51,3385.79,3281.51,3455.21,3443.77,3521.91,3519.5,3406.99,3168.51,3227.19,3192.39,3258.57,3203.04,2979.74,3027.66,3118.28,3021.98,3040.56,3059.3,2988.06,3055.56,3101.77,3076.04,2983.58,2962.39,2933.03,2921.0,3006.62,2809.67,2888.96,2936.93,2817.13,2726.66,2824.81,2856.54,2781.7,2940.64,2747.97,2692.85,2635.34,2519.71,2228.55,2342.05,2084.99,1960.22,2009.69,2056.48,2145.29,2023.66,2090.72,1915.11,2019.55,1959.08,1975.07,2043.19,1973.32,1979.41,1942.63,1792.23,1727.27,1792.22,1813.64,1998.78,1941.9,1817.95,1834.08,1775.12,1804.58,1806.23,1859.84,1813.33,1791.88,1788.81,1662.91,1532.89,1434.84,1209.82,1208.9,1237.52,1068.5,1086.94,995.13,1128.53,1128.24,1125.85,1050.19,1144.72,1225.02,1242.36,1197.79,1192.51,1144.05,1100.21,1071.01,1059.73,1067.01,1074.26,1151.0,1132.5,1186.57,1237.49,1214.04,1217.02,1168.36,1096.4,1038.58,1115.0,1193.42,1231.25,1355.85,1338.65,1581.04,1542.32,1521.58,1575.45,1535.27,1548.67,1597.7,1440.79,1449.12,1635.74,1724.52,1721.68,1697.0,1678.12,1630.28,1630.91,1618.16,1607.96,1736.81,1690.6,1700.19,1777.05,1702.76],\"type\":\"scatter\"},{\"mode\":\"lines+markers\",\"name\":\"Prediction\",\"x\":[\"2022-01-01T00:59:59.999000\",\"2022-01-02T00:59:59.999000\",\"2022-01-03T00:59:59.999000\",\"2022-01-04T00:59:59.999000\",\"2022-01-05T00:59:59.999000\",\"2022-01-06T00:59:59.999000\",\"2022-01-07T00:59:59.999000\",\"2022-01-08T00:59:59.999000\",\"2022-01-09T00:59:59.999000\",\"2022-01-10T00:59:59.999000\",\"2022-01-11T00:59:59.999000\",\"2022-01-12T00:59:59.999000\",\"2022-01-13T00:59:59.999000\",\"2022-01-14T00:59:59.999000\",\"2022-01-15T00:59:59.999000\",\"2022-01-16T00:59:59.999000\",\"2022-01-17T00:59:59.999000\",\"2022-01-18T00:59:59.999000\",\"2022-01-19T00:59:59.999000\",\"2022-01-20T00:59:59.999000\",\"2022-01-21T00:59:59.999000\",\"2022-01-22T00:59:59.999000\",\"2022-01-23T00:59:59.999000\",\"2022-01-24T00:59:59.999000\",\"2022-01-25T00:59:59.999000\",\"2022-01-26T00:59:59.999000\",\"2022-01-27T00:59:59.999000\",\"2022-01-28T00:59:59.999000\",\"2022-01-29T00:59:59.999000\",\"2022-01-30T00:59:59.999000\",\"2022-01-31T00:59:59.999000\",\"2022-02-01T00:59:59.999000\",\"2022-02-02T00:59:59.999000\",\"2022-02-03T00:59:59.999000\",\"2022-02-04T00:59:59.999000\",\"2022-02-05T00:59:59.999000\",\"2022-02-06T00:59:59.999000\",\"2022-02-07T00:59:59.999000\",\"2022-02-08T00:59:59.999000\",\"2022-02-09T00:59:59.999000\",\"2022-02-10T00:59:59.999000\",\"2022-02-11T00:59:59.999000\",\"2022-02-12T00:59:59.999000\",\"2022-02-13T00:59:59.999000\",\"2022-02-14T00:59:59.999000\",\"2022-02-15T00:59:59.999000\",\"2022-02-16T00:59:59.999000\",\"2022-02-17T00:59:59.999000\",\"2022-02-18T00:59:59.999000\",\"2022-02-19T00:59:59.999000\",\"2022-02-20T00:59:59.999000\",\"2022-02-21T00:59:59.999000\",\"2022-02-22T00:59:59.999000\",\"2022-02-23T00:59:59.999000\",\"2022-02-24T00:59:59.999000\",\"2022-02-25T00:59:59.999000\",\"2022-02-26T00:59:59.999000\",\"2022-02-27T00:59:59.999000\",\"2022-02-28T00:59:59.999000\",\"2022-03-01T00:59:59.999000\",\"2022-03-02T00:59:59.999000\",\"2022-03-03T00:59:59.999000\",\"2022-03-04T00:59:59.999000\",\"2022-03-05T00:59:59.999000\",\"2022-03-06T00:59:59.999000\",\"2022-03-07T00:59:59.999000\",\"2022-03-08T00:59:59.999000\",\"2022-03-09T00:59:59.999000\",\"2022-03-10T00:59:59.999000\",\"2022-03-11T00:59:59.999000\",\"2022-03-12T00:59:59.999000\",\"2022-03-13T00:59:59.999000\",\"2022-03-14T00:59:59.999000\",\"2022-03-15T00:59:59.999000\",\"2022-03-16T00:59:59.999000\",\"2022-03-17T00:59:59.999000\",\"2022-03-18T00:59:59.999000\",\"2022-03-19T00:59:59.999000\",\"2022-03-20T00:59:59.999000\",\"2022-03-21T00:59:59.999000\",\"2022-03-22T00:59:59.999000\",\"2022-03-23T00:59:59.999000\",\"2022-03-24T00:59:59.999000\",\"2022-03-25T00:59:59.999000\",\"2022-03-26T01:59:59.999000\",\"2022-03-27T01:59:59.999000\",\"2022-03-28T01:59:59.999000\",\"2022-03-29T01:59:59.999000\",\"2022-03-30T01:59:59.999000\",\"2022-03-31T01:59:59.999000\",\"2022-04-01T01:59:59.999000\",\"2022-04-02T01:59:59.999000\",\"2022-04-03T01:59:59.999000\",\"2022-04-04T01:59:59.999000\",\"2022-04-05T01:59:59.999000\",\"2022-04-06T01:59:59.999000\",\"2022-04-07T01:59:59.999000\",\"2022-04-08T01:59:59.999000\",\"2022-04-09T01:59:59.999000\",\"2022-04-10T01:59:59.999000\",\"2022-04-11T01:59:59.999000\",\"2022-04-12T01:59:59.999000\",\"2022-04-13T01:59:59.999000\",\"2022-04-14T01:59:59.999000\",\"2022-04-15T01:59:59.999000\",\"2022-04-16T01:59:59.999000\",\"2022-04-17T01:59:59.999000\",\"2022-04-18T01:59:59.999000\",\"2022-04-19T01:59:59.999000\",\"2022-04-20T01:59:59.999000\",\"2022-04-21T01:59:59.999000\",\"2022-04-22T01:59:59.999000\",\"2022-04-23T01:59:59.999000\",\"2022-04-24T01:59:59.999000\",\"2022-04-25T01:59:59.999000\",\"2022-04-26T01:59:59.999000\",\"2022-04-27T01:59:59.999000\",\"2022-04-28T01:59:59.999000\",\"2022-04-29T01:59:59.999000\",\"2022-04-30T01:59:59.999000\",\"2022-05-01T01:59:59.999000\",\"2022-05-02T01:59:59.999000\",\"2022-05-03T01:59:59.999000\",\"2022-05-04T01:59:59.999000\",\"2022-05-05T01:59:59.999000\",\"2022-05-06T01:59:59.999000\",\"2022-05-07T01:59:59.999000\",\"2022-05-08T01:59:59.999000\",\"2022-05-09T01:59:59.999000\",\"2022-05-10T01:59:59.999000\",\"2022-05-11T01:59:59.999000\",\"2022-05-12T01:59:59.999000\",\"2022-05-13T01:59:59.999000\",\"2022-05-14T01:59:59.999000\",\"2022-05-15T01:59:59.999000\",\"2022-05-16T01:59:59.999000\",\"2022-05-17T01:59:59.999000\",\"2022-05-18T01:59:59.999000\",\"2022-05-19T01:59:59.999000\",\"2022-05-20T01:59:59.999000\",\"2022-05-21T01:59:59.999000\",\"2022-05-22T01:59:59.999000\",\"2022-05-23T01:59:59.999000\",\"2022-05-24T01:59:59.999000\",\"2022-05-25T01:59:59.999000\",\"2022-05-26T01:59:59.999000\",\"2022-05-27T01:59:59.999000\",\"2022-05-28T01:59:59.999000\",\"2022-05-29T01:59:59.999000\",\"2022-05-30T01:59:59.999000\",\"2022-05-31T01:59:59.999000\",\"2022-06-01T01:59:59.999000\",\"2022-06-02T01:59:59.999000\",\"2022-06-03T01:59:59.999000\",\"2022-06-04T01:59:59.999000\",\"2022-06-05T01:59:59.999000\",\"2022-06-06T01:59:59.999000\",\"2022-06-07T01:59:59.999000\",\"2022-06-08T01:59:59.999000\",\"2022-06-09T01:59:59.999000\",\"2022-06-10T01:59:59.999000\",\"2022-06-11T01:59:59.999000\",\"2022-06-12T01:59:59.999000\",\"2022-06-13T01:59:59.999000\",\"2022-06-14T01:59:59.999000\",\"2022-06-15T01:59:59.999000\",\"2022-06-16T01:59:59.999000\",\"2022-06-17T01:59:59.999000\",\"2022-06-18T01:59:59.999000\",\"2022-06-19T01:59:59.999000\",\"2022-06-20T01:59:59.999000\",\"2022-06-21T01:59:59.999000\",\"2022-06-22T01:59:59.999000\",\"2022-06-23T01:59:59.999000\",\"2022-06-24T01:59:59.999000\",\"2022-06-25T01:59:59.999000\",\"2022-06-26T01:59:59.999000\",\"2022-06-27T01:59:59.999000\",\"2022-06-28T01:59:59.999000\",\"2022-06-29T01:59:59.999000\",\"2022-06-30T01:59:59.999000\",\"2022-07-01T01:59:59.999000\",\"2022-07-02T01:59:59.999000\",\"2022-07-03T01:59:59.999000\",\"2022-07-04T01:59:59.999000\",\"2022-07-05T01:59:59.999000\",\"2022-07-06T01:59:59.999000\",\"2022-07-07T01:59:59.999000\",\"2022-07-08T01:59:59.999000\",\"2022-07-09T01:59:59.999000\",\"2022-07-10T01:59:59.999000\",\"2022-07-11T01:59:59.999000\",\"2022-07-12T01:59:59.999000\",\"2022-07-13T01:59:59.999000\",\"2022-07-14T01:59:59.999000\",\"2022-07-15T01:59:59.999000\",\"2022-07-16T01:59:59.999000\",\"2022-07-17T01:59:59.999000\",\"2022-07-18T01:59:59.999000\",\"2022-07-19T01:59:59.999000\",\"2022-07-20T01:59:59.999000\",\"2022-07-21T01:59:59.999000\",\"2022-07-22T01:59:59.999000\",\"2022-07-23T01:59:59.999000\",\"2022-07-24T01:59:59.999000\",\"2022-07-25T01:59:59.999000\",\"2022-07-26T01:59:59.999000\",\"2022-07-27T01:59:59.999000\",\"2022-07-28T01:59:59.999000\",\"2022-07-29T01:59:59.999000\",\"2022-07-30T01:59:59.999000\",\"2022-07-31T01:59:59.999000\",\"2022-08-01T01:59:59.999000\",\"2022-08-02T01:59:59.999000\",\"2022-08-03T01:59:59.999000\",\"2022-08-04T01:59:59.999000\",\"2022-08-05T01:59:59.999000\",\"2022-08-06T01:59:59.999000\",\"2022-08-07T01:59:59.999000\",\"2022-08-08T01:59:59.999000\"],\"y\":[3677.50439453125,3658.949951171875,3649.361083984375,3649.805419921875,3630.354736328125,3588.29248046875,3513.802978515625,3415.375,3321.84326171875,3234.135009765625,3177.42041015625,3159.728515625,3154.588134765625,3165.795166015625,3185.61181640625,3209.27001953125,3216.849365234375,3207.823974609375,3181.895751953125,3139.930908203125,3050.3349609375,2928.993408203125,2813.223876953125,2703.012451171875,2611.108642578125,2541.171142578125,2488.401611328125,2463.25927734375,2462.878662109375,2477.699462890625,2507.755126953125,2550.9853515625,2586.580078125,2615.929443359375,2666.734375,2726.52294921875,2789.999267578125,2857.401611328125,2918.02587890625,2980.772216796875,3020.142333984375,3027.37841796875,3012.97119140625,2981.081298828125,2949.558837890625,2948.036376953125,2958.92919921875,2954.8056640625,2931.6005859375,2897.9697265625,2846.608642578125,2783.67138671875,2726.546630859375,2673.248779296875,2630.336181640625,2616.7861328125,2624.56982421875,2628.319091796875,2658.134033203125,2704.828125,2753.96533203125,2787.283203125,2786.09716796875,2768.180908203125,2729.56640625,2677.421875,2631.693359375,2608.80859375,2591.40869140625,2576.84765625,2566.93896484375,2555.1220703125,2549.4970703125,2549.782470703125,2569.034423828125,2600.88037109375,2649.893798828125,2706.327392578125,2752.9970703125,2790.5751953125,2825.51611328125,2861.010986328125,2900.2353515625,2936.92578125,2973.268310546875,3021.171142578125,3074.906494140625,3133.680419921875,3186.689453125,3219.2470703125,3253.9833984375,3284.392822265625,3317.52978515625,3348.019287109375,3362.1328125,3341.71484375,3309.810302734375,3270.570556640625,3238.16650390625,3206.978515625,3159.2080078125,3112.7138671875,3081.306396484375,3052.821044921875,3031.173583984375,3016.2744140625,2999.875244140625,2991.4697265625,2993.550537109375,2999.15185546875,2995.869384765625,2985.179443359375,2968.645263671875,2948.863037109375,2937.599609375,2913.08251953125,2891.5947265625,2878.697265625,2861.05859375,2834.038818359375,2813.473388671875,2801.354248046875,2788.311279296875,2792.134033203125,2786.7470703125,2771.161376953125,2744.5927734375,2703.163818359375,2628.476806640625,2551.97314453125,2456.8779296875,2349.86474609375,2251.239013671875,2172.188232421875,2122.510498046875,2084.17578125,2063.300048828125,2038.5941162109375,2023.2650146484375,2006.951416015625,1994.5526123046875,1990.1458740234375,1983.633056640625,1977.640869140625,1969.38037109375,1947.519287109375,1912.08984375,1878.225341796875,1848.7423095703125,1843.2239990234375,1847.9271240234375,1847.7998046875,1846.8974609375,1839.149169921875,1830.545654296875,1822.2952880859375,1818.7249755859375,1813.50390625,1806.5784912109375,1798.7161865234375,1781.3973388671875,1747.7479248046875,1696.7169189453125,1619.6583251953125,1532.7373046875,1450.4364013671875,1364.1923828125,1286.1351318359375,1212.3299560546875,1159.277099609375,1125.32373046875,1106.295654296875,1091.4208984375,1088.940673828125,1098.5594482421875,1116.6656494140625,1136.6817626953125,1153.024169921875,1162.09375,1159.360107421875,1148.4124755859375,1132.0648193359375,1114.8231201171875,1097.544189453125,1089.2109375,1087.0721435546875,1094.48681640625,1111.3082275390625,1131.1202392578125,1150.9498291015625,1164.2581787109375,1165.41015625,1153.1597900390625,1139.7083740234375,1132.988525390625,1136.001708984375,1155.4530029296875,1183.056884765625,1235.509033203125,1295.8231201171875,1354.3011474609375,1410.3856201171875,1455.0859375,1487.8363037109375,1514.4482421875,1521.272216796875,1515.275390625,1519.5693359375,1536.768798828125,1563.8607177734375,1592.401123046875,1616.8841552734375,1632.6705322265625,1640.651611328125,1641.430419921875,1637.755615234375,1641.3310546875,1644.5291748046875,1650.06396484375,1664.46875],\"type\":\"scatter\"},{\"mode\":\"lines+markers\",\"name\":\"Next 30_days prediction\",\"x\":[\"2022-08-10T01:59:59.999000\",\"2022-08-11T01:59:59.999000\",\"2022-08-12T01:59:59.999000\",\"2022-08-13T01:59:59.999000\",\"2022-08-14T01:59:59.999000\",\"2022-08-15T01:59:59.999000\",\"2022-08-16T01:59:59.999000\",\"2022-08-17T01:59:59.999000\",\"2022-08-18T01:59:59.999000\",\"2022-08-19T01:59:59.999000\",\"2022-08-20T01:59:59.999000\",\"2022-08-21T01:59:59.999000\",\"2022-08-22T01:59:59.999000\",\"2022-08-23T01:59:59.999000\",\"2022-08-24T01:59:59.999000\",\"2022-08-25T01:59:59.999000\",\"2022-08-26T01:59:59.999000\",\"2022-08-27T01:59:59.999000\",\"2022-08-28T01:59:59.999000\",\"2022-08-29T01:59:59.999000\",\"2022-08-30T01:59:59.999000\",\"2022-08-31T01:59:59.999000\",\"2022-09-01T01:59:59.999000\",\"2022-09-02T01:59:59.999000\",\"2022-09-03T01:59:59.999000\",\"2022-09-04T01:59:59.999000\",\"2022-09-05T01:59:59.999000\",\"2022-09-06T01:59:59.999000\",\"2022-09-07T01:59:59.999000\",\"2022-09-08T01:59:59.999000\"],\"y\":[1696.8816931593417,1708.6995531177517,1714.5171086168286,1716.2613897174595,1715.2105127996203,1711.847396918535,1708.5910019248722,1704.9347555851934,1700.9177982777355,1697.7619292914865,1693.97587205708,1691.5600096464154,1688.6164560931918,1685.4649516814945,1682.263465851545,1679.0795791125295,1675.9335656172034,1672.811064507365,1669.7063032811877,1666.6112567532061,1663.515506261587,1660.4231347954271,1657.3245684492585,1654.2309298485516,1651.144612469673,1648.064771556258,1644.989436010122,1641.9183242458103,1638.8511546778677,1635.7875049281117],\"type\":\"scatter\"}],                        {\"autosize\":false,\"height\":1000,\"margin\":{\"b\":100,\"l\":50,\"pad\":4,\"r\":50,\"t\":100},\"template\":{\"data\":{\"barpolar\":[{\"marker\":{\"line\":{\"color\":\"#E5ECF6\",\"width\":0.5},\"pattern\":{\"fillmode\":\"overlay\",\"size\":10,\"solidity\":0.2}},\"type\":\"barpolar\"}],\"bar\":[{\"error_x\":{\"color\":\"#2a3f5f\"},\"error_y\":{\"color\":\"#2a3f5f\"},\"marker\":{\"line\":{\"color\":\"#E5ECF6\",\"width\":0.5},\"pattern\":{\"fillmode\":\"overlay\",\"size\":10,\"solidity\":0.2}},\"type\":\"bar\"}],\"carpet\":[{\"aaxis\":{\"endlinecolor\":\"#2a3f5f\",\"gridcolor\":\"white\",\"linecolor\":\"white\",\"minorgridcolor\":\"white\",\"startlinecolor\":\"#2a3f5f\"},\"baxis\":{\"endlinecolor\":\"#2a3f5f\",\"gridcolor\":\"white\",\"linecolor\":\"white\",\"minorgridcolor\":\"white\",\"startlinecolor\":\"#2a3f5f\"},\"type\":\"carpet\"}],\"choropleth\":[{\"colorbar\":{\"outlinewidth\":0,\"ticks\":\"\"},\"type\":\"choropleth\"}],\"contourcarpet\":[{\"colorbar\":{\"outlinewidth\":0,\"ticks\":\"\"},\"type\":\"contourcarpet\"}],\"contour\":[{\"colorbar\":{\"outlinewidth\":0,\"ticks\":\"\"},\"colorscale\":[[0.0,\"#0d0887\"],[0.1111111111111111,\"#46039f\"],[0.2222222222222222,\"#7201a8\"],[0.3333333333333333,\"#9c179e\"],[0.4444444444444444,\"#bd3786\"],[0.5555555555555556,\"#d8576b\"],[0.6666666666666666,\"#ed7953\"],[0.7777777777777778,\"#fb9f3a\"],[0.8888888888888888,\"#fdca26\"],[1.0,\"#f0f921\"]],\"type\":\"contour\"}],\"heatmapgl\":[{\"colorbar\":{\"outlinewidth\":0,\"ticks\":\"\"},\"colorscale\":[[0.0,\"#0d0887\"],[0.1111111111111111,\"#46039f\"],[0.2222222222222222,\"#7201a8\"],[0.3333333333333333,\"#9c179e\"],[0.4444444444444444,\"#bd3786\"],[0.5555555555555556,\"#d8576b\"],[0.6666666666666666,\"#ed7953\"],[0.7777777777777778,\"#fb9f3a\"],[0.8888888888888888,\"#fdca26\"],[1.0,\"#f0f921\"]],\"type\":\"heatmapgl\"}],\"heatmap\":[{\"colorbar\":{\"outlinewidth\":0,\"ticks\":\"\"},\"colorscale\":[[0.0,\"#0d0887\"],[0.1111111111111111,\"#46039f\"],[0.2222222222222222,\"#7201a8\"],[0.3333333333333333,\"#9c179e\"],[0.4444444444444444,\"#bd3786\"],[0.5555555555555556,\"#d8576b\"],[0.6666666666666666,\"#ed7953\"],[0.7777777777777778,\"#fb9f3a\"],[0.8888888888888888,\"#fdca26\"],[1.0,\"#f0f921\"]],\"type\":\"heatmap\"}],\"histogram2dcontour\":[{\"colorbar\":{\"outlinewidth\":0,\"ticks\":\"\"},\"colorscale\":[[0.0,\"#0d0887\"],[0.1111111111111111,\"#46039f\"],[0.2222222222222222,\"#7201a8\"],[0.3333333333333333,\"#9c179e\"],[0.4444444444444444,\"#bd3786\"],[0.5555555555555556,\"#d8576b\"],[0.6666666666666666,\"#ed7953\"],[0.7777777777777778,\"#fb9f3a\"],[0.8888888888888888,\"#fdca26\"],[1.0,\"#f0f921\"]],\"type\":\"histogram2dcontour\"}],\"histogram2d\":[{\"colorbar\":{\"outlinewidth\":0,\"ticks\":\"\"},\"colorscale\":[[0.0,\"#0d0887\"],[0.1111111111111111,\"#46039f\"],[0.2222222222222222,\"#7201a8\"],[0.3333333333333333,\"#9c179e\"],[0.4444444444444444,\"#bd3786\"],[0.5555555555555556,\"#d8576b\"],[0.6666666666666666,\"#ed7953\"],[0.7777777777777778,\"#fb9f3a\"],[0.8888888888888888,\"#fdca26\"],[1.0,\"#f0f921\"]],\"type\":\"histogram2d\"}],\"histogram\":[{\"marker\":{\"pattern\":{\"fillmode\":\"overlay\",\"size\":10,\"solidity\":0.2}},\"type\":\"histogram\"}],\"mesh3d\":[{\"colorbar\":{\"outlinewidth\":0,\"ticks\":\"\"},\"type\":\"mesh3d\"}],\"parcoords\":[{\"line\":{\"colorbar\":{\"outlinewidth\":0,\"ticks\":\"\"}},\"type\":\"parcoords\"}],\"pie\":[{\"automargin\":true,\"type\":\"pie\"}],\"scatter3d\":[{\"line\":{\"colorbar\":{\"outlinewidth\":0,\"ticks\":\"\"}},\"marker\":{\"colorbar\":{\"outlinewidth\":0,\"ticks\":\"\"}},\"type\":\"scatter3d\"}],\"scattercarpet\":[{\"marker\":{\"colorbar\":{\"outlinewidth\":0,\"ticks\":\"\"}},\"type\":\"scattercarpet\"}],\"scattergeo\":[{\"marker\":{\"colorbar\":{\"outlinewidth\":0,\"ticks\":\"\"}},\"type\":\"scattergeo\"}],\"scattergl\":[{\"marker\":{\"colorbar\":{\"outlinewidth\":0,\"ticks\":\"\"}},\"type\":\"scattergl\"}],\"scattermapbox\":[{\"marker\":{\"colorbar\":{\"outlinewidth\":0,\"ticks\":\"\"}},\"type\":\"scattermapbox\"}],\"scatterpolargl\":[{\"marker\":{\"colorbar\":{\"outlinewidth\":0,\"ticks\":\"\"}},\"type\":\"scatterpolargl\"}],\"scatterpolar\":[{\"marker\":{\"colorbar\":{\"outlinewidth\":0,\"ticks\":\"\"}},\"type\":\"scatterpolar\"}],\"scatter\":[{\"fillpattern\":{\"fillmode\":\"overlay\",\"size\":10,\"solidity\":0.2},\"type\":\"scatter\"}],\"scatterternary\":[{\"marker\":{\"colorbar\":{\"outlinewidth\":0,\"ticks\":\"\"}},\"type\":\"scatterternary\"}],\"surface\":[{\"colorbar\":{\"outlinewidth\":0,\"ticks\":\"\"},\"colorscale\":[[0.0,\"#0d0887\"],[0.1111111111111111,\"#46039f\"],[0.2222222222222222,\"#7201a8\"],[0.3333333333333333,\"#9c179e\"],[0.4444444444444444,\"#bd3786\"],[0.5555555555555556,\"#d8576b\"],[0.6666666666666666,\"#ed7953\"],[0.7777777777777778,\"#fb9f3a\"],[0.8888888888888888,\"#fdca26\"],[1.0,\"#f0f921\"]],\"type\":\"surface\"}],\"table\":[{\"cells\":{\"fill\":{\"color\":\"#EBF0F8\"},\"line\":{\"color\":\"white\"}},\"header\":{\"fill\":{\"color\":\"#C8D4E3\"},\"line\":{\"color\":\"white\"}},\"type\":\"table\"}]},\"layout\":{\"annotationdefaults\":{\"arrowcolor\":\"#2a3f5f\",\"arrowhead\":0,\"arrowwidth\":1},\"autotypenumbers\":\"strict\",\"coloraxis\":{\"colorbar\":{\"outlinewidth\":0,\"ticks\":\"\"}},\"colorscale\":{\"diverging\":[[0,\"#8e0152\"],[0.1,\"#c51b7d\"],[0.2,\"#de77ae\"],[0.3,\"#f1b6da\"],[0.4,\"#fde0ef\"],[0.5,\"#f7f7f7\"],[0.6,\"#e6f5d0\"],[0.7,\"#b8e186\"],[0.8,\"#7fbc41\"],[0.9,\"#4d9221\"],[1,\"#276419\"]],\"sequential\":[[0.0,\"#0d0887\"],[0.1111111111111111,\"#46039f\"],[0.2222222222222222,\"#7201a8\"],[0.3333333333333333,\"#9c179e\"],[0.4444444444444444,\"#bd3786\"],[0.5555555555555556,\"#d8576b\"],[0.6666666666666666,\"#ed7953\"],[0.7777777777777778,\"#fb9f3a\"],[0.8888888888888888,\"#fdca26\"],[1.0,\"#f0f921\"]],\"sequentialminus\":[[0.0,\"#0d0887\"],[0.1111111111111111,\"#46039f\"],[0.2222222222222222,\"#7201a8\"],[0.3333333333333333,\"#9c179e\"],[0.4444444444444444,\"#bd3786\"],[0.5555555555555556,\"#d8576b\"],[0.6666666666666666,\"#ed7953\"],[0.7777777777777778,\"#fb9f3a\"],[0.8888888888888888,\"#fdca26\"],[1.0,\"#f0f921\"]]},\"colorway\":[\"#636efa\",\"#EF553B\",\"#00cc96\",\"#ab63fa\",\"#FFA15A\",\"#19d3f3\",\"#FF6692\",\"#B6E880\",\"#FF97FF\",\"#FECB52\"],\"font\":{\"color\":\"#2a3f5f\"},\"geo\":{\"bgcolor\":\"white\",\"lakecolor\":\"white\",\"landcolor\":\"#E5ECF6\",\"showlakes\":true,\"showland\":true,\"subunitcolor\":\"white\"},\"hoverlabel\":{\"align\":\"left\"},\"hovermode\":\"closest\",\"mapbox\":{\"style\":\"light\"},\"paper_bgcolor\":\"white\",\"plot_bgcolor\":\"#E5ECF6\",\"polar\":{\"angularaxis\":{\"gridcolor\":\"white\",\"linecolor\":\"white\",\"ticks\":\"\"},\"bgcolor\":\"#E5ECF6\",\"radialaxis\":{\"gridcolor\":\"white\",\"linecolor\":\"white\",\"ticks\":\"\"}},\"scene\":{\"xaxis\":{\"backgroundcolor\":\"#E5ECF6\",\"gridcolor\":\"white\",\"gridwidth\":2,\"linecolor\":\"white\",\"showbackground\":true,\"ticks\":\"\",\"zerolinecolor\":\"white\"},\"yaxis\":{\"backgroundcolor\":\"#E5ECF6\",\"gridcolor\":\"white\",\"gridwidth\":2,\"linecolor\":\"white\",\"showbackground\":true,\"ticks\":\"\",\"zerolinecolor\":\"white\"},\"zaxis\":{\"backgroundcolor\":\"#E5ECF6\",\"gridcolor\":\"white\",\"gridwidth\":2,\"linecolor\":\"white\",\"showbackground\":true,\"ticks\":\"\",\"zerolinecolor\":\"white\"}},\"shapedefaults\":{\"line\":{\"color\":\"#2a3f5f\"}},\"ternary\":{\"aaxis\":{\"gridcolor\":\"white\",\"linecolor\":\"white\",\"ticks\":\"\"},\"baxis\":{\"gridcolor\":\"white\",\"linecolor\":\"white\",\"ticks\":\"\"},\"bgcolor\":\"#E5ECF6\",\"caxis\":{\"gridcolor\":\"white\",\"linecolor\":\"white\",\"ticks\":\"\"}},\"title\":{\"x\":0.05},\"xaxis\":{\"automargin\":true,\"gridcolor\":\"white\",\"linecolor\":\"white\",\"ticks\":\"\",\"title\":{\"standoff\":15},\"zerolinecolor\":\"white\",\"zerolinewidth\":2},\"yaxis\":{\"automargin\":true,\"gridcolor\":\"white\",\"linecolor\":\"white\",\"ticks\":\"\",\"title\":{\"standoff\":15},\"zerolinecolor\":\"white\",\"zerolinewidth\":2}}},\"width\":2000,\"xaxis\":{\"linecolor\":\"black\",\"linewidth\":1,\"mirror\":true},\"yaxis\":{\"linecolor\":\"black\",\"linewidth\":1,\"mirror\":true}},                        {\"responsive\": true}                    ).then(function(){\n",
       "                            \n",
       "var gd = document.getElementById('e67fe2b5-816d-4a6c-a588-3b3e2a8b016e');\n",
       "var x = new MutationObserver(function (mutations, observer) {{\n",
       "        var display = window.getComputedStyle(gd).display;\n",
       "        if (!display || display === 'none') {{\n",
       "            console.log([gd, 'removed!']);\n",
       "            Plotly.purge(gd);\n",
       "            observer.disconnect();\n",
       "        }}\n",
       "}});\n",
       "\n",
       "// Listen for the removal of the full notebook cells\n",
       "var notebookContainer = gd.closest('#notebook-container');\n",
       "if (notebookContainer) {{\n",
       "    x.observe(notebookContainer, {childList: true});\n",
       "}}\n",
       "\n",
       "// Listen for the clearing of the current output cell\n",
       "var outputEl = gd.closest('.output');\n",
       "if (outputEl) {{\n",
       "    x.observe(outputEl, {childList: true});\n",
       "}}\n",
       "\n",
       "                        })                };                });            </script>        </div>"
      ]
     },
     "metadata": {},
     "output_type": "display_data"
    }
   ],
   "source": [
    "# Display Chart\n",
    "trace_close = go.Scatter(x=actual_pred.index, y=actual_pred['close'], mode='lines+markers', name='Actual')\n",
    "trace_prediction = go.Scatter(x=actual_pred.index, y=actual_pred['prediction'], mode='lines+markers', name='Prediction')\n",
    "trace_next_30days_prediction = go.Scatter(x=preds.index, y=preds['close'], mode='lines+markers', name='Next 30_days prediction')\n",
    "\n",
    "# Fill out data with our traces\n",
    "data = [trace_close, trace_prediction, trace_next_30days_prediction]\n",
    "layout = go.Layout(\n",
    "    autosize=False,\n",
    "    width=2000,\n",
    "    height=1000,\n",
    "\n",
    "    xaxis= go.layout.XAxis(linecolor = 'black',\n",
    "                          linewidth = 1,\n",
    "                          mirror = True),\n",
    "\n",
    "    yaxis= go.layout.YAxis(linecolor = 'black',\n",
    "                          linewidth = 1,\n",
    "                          mirror = True),\n",
    "\n",
    "    margin=go.layout.Margin(\n",
    "        l=50,\n",
    "        r=50,\n",
    "        b=100,\n",
    "        t=100,\n",
    "        pad = 4\n",
    "    )\n",
    ")\n",
    "fig = go.Figure(data=data, layout=layout)\n",
    "# Plot it and save as basic-line.html\n",
    "pyo.iplot(fig, filename = 'chart')"
   ]
  },
  {
   "cell_type": "code",
   "execution_count": null,
   "id": "65a626f2-7f05-43aa-bd69-aaf1fa4491f6",
   "metadata": {
    "pycharm": {
     "name": "#%%\n"
    }
   },
   "outputs": [],
   "source": []
  }
 ],
 "metadata": {
  "kernelspec": {
   "display_name": "Python 3 (ipykernel)",
   "language": "python",
   "name": "python3"
  },
  "language_info": {
   "codemirror_mode": {
    "name": "ipython",
    "version": 3
   },
   "file_extension": ".py",
   "mimetype": "text/x-python",
   "name": "python",
   "nbconvert_exporter": "python",
   "pygments_lexer": "ipython3",
   "version": "3.9.7"
  }
 },
 "nbformat": 4,
 "nbformat_minor": 5
}